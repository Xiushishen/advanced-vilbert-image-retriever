{
  "nbformat": 4,
  "nbformat_minor": 0,
  "metadata": {
    "colab": {
      "provenance": []
    },
    "kernelspec": {
      "name": "python3",
      "display_name": "Python 3"
    },
    "language_info": {
      "name": "python"
    }
  },
  "cells": [
    {
      "cell_type": "code",
      "source": [
        "!wget -c https://repo.anaconda.com/miniconda/Miniconda3-latest-Linux-x86_64.sh\n",
        "!bash Miniconda3-latest-Linux-x86_64.sh -b -f -p /usr/local\n",
        "!conda init bash"
      ],
      "metadata": {
        "colab": {
          "base_uri": "https://localhost:8080/"
        },
        "id": "H4OuQUAmnkKt",
        "outputId": "1208c600-f9a9-4c01-e336-fe4554999747"
      },
      "execution_count": 1,
      "outputs": [
        {
          "output_type": "stream",
          "name": "stdout",
          "text": [
            "--2024-12-12 01:19:49--  https://repo.anaconda.com/miniconda/Miniconda3-latest-Linux-x86_64.sh\n",
            "Resolving repo.anaconda.com (repo.anaconda.com)... 104.16.191.158, 104.16.32.241, 2606:4700::6810:20f1, ...\n",
            "Connecting to repo.anaconda.com (repo.anaconda.com)|104.16.191.158|:443... connected.\n",
            "HTTP request sent, awaiting response... 200 OK\n",
            "Length: 148337011 (141M) [application/octet-stream]\n",
            "Saving to: ‘Miniconda3-latest-Linux-x86_64.sh’\n",
            "\n",
            "Miniconda3-latest-L 100%[===================>] 141.46M  75.7MB/s    in 1.9s    \n",
            "\n",
            "2024-12-12 01:19:51 (75.7 MB/s) - ‘Miniconda3-latest-Linux-x86_64.sh’ saved [148337011/148337011]\n",
            "\n",
            "PREFIX=/usr/local\n",
            "Unpacking payload ...\n",
            "\n",
            "Installing base environment...\n",
            "\n",
            "Preparing transaction: ...working... done\n",
            "Executing transaction: ...working... done\n",
            "installation finished.\n",
            "WARNING:\n",
            "    You currently have a PYTHONPATH environment variable set. This may cause\n",
            "    unexpected behavior when running the Python interpreter in Miniconda3.\n",
            "    For best results, please verify that your PYTHONPATH only points to\n",
            "    directories of packages that are compatible with the Python interpreter\n",
            "    in Miniconda3: /usr/local\n",
            "no change     /usr/local/condabin/conda\n",
            "no change     /usr/local/bin/conda\n",
            "no change     /usr/local/bin/conda-env\n",
            "no change     /usr/local/bin/activate\n",
            "no change     /usr/local/bin/deactivate\n",
            "no change     /usr/local/etc/profile.d/conda.sh\n",
            "no change     /usr/local/etc/fish/conf.d/conda.fish\n",
            "no change     /usr/local/shell/condabin/Conda.psm1\n",
            "no change     /usr/local/shell/condabin/conda-hook.ps1\n",
            "no change     /usr/local/lib/python3.12/site-packages/xontrib/conda.xsh\n",
            "no change     /usr/local/etc/profile.d/conda.csh\n",
            "modified      /root/.bashrc\n",
            "\n",
            "==> For changes to take effect, close and re-open your current shell. <==\n",
            "\n"
          ]
        }
      ]
    },
    {
      "cell_type": "code",
      "execution_count": 2,
      "metadata": {
        "colab": {
          "base_uri": "https://localhost:8080/"
        },
        "id": "0fm-n977jWFZ",
        "outputId": "4ea90b20-4599-4a16-ef15-6a8586d4d6a4"
      },
      "outputs": [
        {
          "output_type": "stream",
          "name": "stdout",
          "text": [
            "Channels:\n",
            " - defaults\n",
            "Platform: linux-64\n",
            "Collecting package metadata (repodata.json): - \b\b\\ \b\b| \b\b/ \b\b- \b\b\\ \b\b| \b\b/ \b\b- \b\b\\ \b\b| \b\b/ \b\b- \b\b\\ \b\bdone\n",
            "Solving environment: / \b\bdone\n",
            "\n",
            "## Package Plan ##\n",
            "\n",
            "  environment location: /usr/local/envs/vilbert-mt\n",
            "\n",
            "  added / updated specs:\n",
            "    - python=3.6\n",
            "\n",
            "\n",
            "The following packages will be downloaded:\n",
            "\n",
            "    package                    |            build\n",
            "    ---------------------------|-----------------\n",
            "    ca-certificates-2024.11.26 |       h06a4308_0         131 KB\n",
            "    certifi-2021.5.30          |   py36h06a4308_0         139 KB\n",
            "    libffi-3.3                 |       he6710b0_2          50 KB\n",
            "    openssl-1.1.1w             |       h7f8727e_0         3.7 MB\n",
            "    pip-21.2.2                 |   py36h06a4308_0         1.8 MB\n",
            "    python-3.6.13              |       h12debd9_1        32.5 MB\n",
            "    setuptools-58.0.4          |   py36h06a4308_0         788 KB\n",
            "    wheel-0.37.1               |     pyhd3eb1b0_0          33 KB\n",
            "    ------------------------------------------------------------\n",
            "                                           Total:        39.2 MB\n",
            "\n",
            "The following NEW packages will be INSTALLED:\n",
            "\n",
            "  _libgcc_mutex      pkgs/main/linux-64::_libgcc_mutex-0.1-main \n",
            "  _openmp_mutex      pkgs/main/linux-64::_openmp_mutex-5.1-1_gnu \n",
            "  ca-certificates    pkgs/main/linux-64::ca-certificates-2024.11.26-h06a4308_0 \n",
            "  certifi            pkgs/main/linux-64::certifi-2021.5.30-py36h06a4308_0 \n",
            "  ld_impl_linux-64   pkgs/main/linux-64::ld_impl_linux-64-2.40-h12ee557_0 \n",
            "  libffi             pkgs/main/linux-64::libffi-3.3-he6710b0_2 \n",
            "  libgcc-ng          pkgs/main/linux-64::libgcc-ng-11.2.0-h1234567_1 \n",
            "  libgomp            pkgs/main/linux-64::libgomp-11.2.0-h1234567_1 \n",
            "  libstdcxx-ng       pkgs/main/linux-64::libstdcxx-ng-11.2.0-h1234567_1 \n",
            "  ncurses            pkgs/main/linux-64::ncurses-6.4-h6a678d5_0 \n",
            "  openssl            pkgs/main/linux-64::openssl-1.1.1w-h7f8727e_0 \n",
            "  pip                pkgs/main/linux-64::pip-21.2.2-py36h06a4308_0 \n",
            "  python             pkgs/main/linux-64::python-3.6.13-h12debd9_1 \n",
            "  readline           pkgs/main/linux-64::readline-8.2-h5eee18b_0 \n",
            "  setuptools         pkgs/main/linux-64::setuptools-58.0.4-py36h06a4308_0 \n",
            "  sqlite             pkgs/main/linux-64::sqlite-3.45.3-h5eee18b_0 \n",
            "  tk                 pkgs/main/linux-64::tk-8.6.14-h39e8969_0 \n",
            "  wheel              pkgs/main/noarch::wheel-0.37.1-pyhd3eb1b0_0 \n",
            "  xz                 pkgs/main/linux-64::xz-5.4.6-h5eee18b_1 \n",
            "  zlib               pkgs/main/linux-64::zlib-1.2.13-h5eee18b_1 \n",
            "\n",
            "\n",
            "Proceed ([y]/n)? y\n",
            "\n",
            "\n",
            "Downloading and Extracting Packages:\n",
            "python-3.6.13        | 32.5 MB   | :   0% 0/1 [00:00<?, ?it/s]\n",
            "openssl-1.1.1w       | 3.7 MB    | :   0% 0/1 [00:00<?, ?it/s]\u001b[A\n",
            "\n",
            "pip-21.2.2           | 1.8 MB    | :   0% 0/1 [00:00<?, ?it/s]\u001b[A\u001b[A\n",
            "\n",
            "\n",
            "setuptools-58.0.4    | 788 KB    | :   0% 0/1 [00:00<?, ?it/s]\u001b[A\u001b[A\u001b[A\n",
            "\n",
            "\n",
            "\n",
            "certifi-2021.5.30    | 139 KB    | :   0% 0/1 [00:00<?, ?it/s]\u001b[A\u001b[A\u001b[A\u001b[A\n",
            "\n",
            "\n",
            "\n",
            "\n",
            "ca-certificates-2024 | 131 KB    | :   0% 0/1 [00:00<?, ?it/s]\u001b[A\u001b[A\u001b[A\u001b[A\u001b[A\n",
            "\n",
            "\n",
            "\n",
            "\n",
            "\n",
            "libffi-3.3           | 50 KB     | :   0% 0/1 [00:00<?, ?it/s]\u001b[A\u001b[A\u001b[A\u001b[A\u001b[A\u001b[A\n",
            "\n",
            "\n",
            "\n",
            "\n",
            "\n",
            "\n",
            "python-3.6.13        | 32.5 MB   | :   0% 0.000962067985804917/1 [00:00<01:46, 106.33s/it]\n",
            "openssl-1.1.1w       | 3.7 MB    | :   2% 0.016748775774793164/1 [00:00<00:06,  6.18s/it]\u001b[A\n",
            "\n",
            "pip-21.2.2           | 1.8 MB    | :   3% 0.034054723679506474/1 [00:00<00:02,  2.96s/it]\u001b[A\u001b[A\n",
            "\n",
            "\n",
            "setuptools-58.0.4    | 788 KB    | :   8% 0.08121012202088494/1 [00:00<00:01,  1.28s/it]\u001b[A\u001b[A\u001b[A\n",
            "\n",
            "\n",
            "\n",
            "\n",
            "ca-certificates-2024 | 131 KB    | :  12% 0.12209189680611651/1 [00:00<00:00,  1.05s/it]\u001b[A\u001b[A\u001b[A\u001b[A\u001b[A\n",
            "\n",
            "\n",
            "\n",
            "certifi-2021.5.30    | 139 KB    | : 100% 1.0/1 [00:00<00:00,  6.05it/s]\u001b[A\u001b[A\u001b[A\u001b[A\n",
            "\n",
            "\n",
            "\n",
            "certifi-2021.5.30    | 139 KB    | : 100% 1.0/1 [00:00<00:00,  6.05it/s]\u001b[A\u001b[A\u001b[A\u001b[A\n",
            "\n",
            "\n",
            "\n",
            "\n",
            "\n",
            "python-3.6.13        | 32.5 MB   | :   5% 0.05147063724056306/1 [00:00<00:03,  3.37s/it]  \n",
            "openssl-1.1.1w       | 3.7 MB    | :  50% 0.5024632732437949/1 [00:00<00:00,  2.87it/s]  \u001b[A\n",
            "\n",
            "pip-21.2.2           | 1.8 MB    | :  89% 0.8939364965870449/1 [00:00<00:00,  5.13it/s]  \u001b[A\u001b[A\n",
            "\n",
            "\n",
            "\n",
            "\n",
            "ca-certificates-2024 | 131 KB    | : 100% 1.0/1 [00:00<00:00,  1.05s/it]                \u001b[A\u001b[A\u001b[A\u001b[A\u001b[A\n",
            "\n",
            "\n",
            "\n",
            "\n",
            "\n",
            "\n",
            "wheel-0.37.1         | 33 KB     | :  49% 0.491583905907768/1 [00:00<00:00,  2.32it/s]\u001b[A\u001b[A\u001b[A\u001b[A\u001b[A\u001b[A\u001b[A\n",
            "\n",
            "\n",
            "\n",
            "\n",
            "\n",
            "python-3.6.13        | 32.5 MB   | :  15% 0.14575329984944493/1 [00:00<00:01,  1.70s/it]\n",
            "\n",
            "\n",
            "\n",
            "\n",
            "\n",
            "\n",
            "wheel-0.37.1         | 33 KB     | : 100% 1.0/1 [00:00<00:00,  3.16it/s]              \u001b[A\u001b[A\u001b[A\u001b[A\u001b[A\u001b[A\u001b[A\n",
            "\n",
            "\n",
            "\n",
            "\n",
            "\n",
            "\n",
            "python-3.6.13        | 32.5 MB   | :  73% 0.7263613292827124/1 [00:00<00:00,  1.31it/s]\n",
            "\n",
            "\n",
            "setuptools-58.0.4    | 788 KB    | : 100% 1.0/1 [00:00<00:00,  1.36it/s]                \u001b[A\u001b[A\u001b[A\n",
            "\n",
            "\n",
            "python-3.6.13        | 32.5 MB   | :  89% 0.8913559888482556/1 [00:00<00:00,  1.42it/s]\n",
            "openssl-1.1.1w       | 3.7 MB    | : 100% 1.0/1 [00:01<00:00,  1.15s/it]               \u001b[A\n",
            "openssl-1.1.1w       | 3.7 MB    | : 100% 1.0/1 [00:01<00:00,  1.15s/it]\u001b[A\n",
            "\n",
            "                                                                        \n",
            "                                                                        \u001b[A\n",
            "\n",
            "                                                                        \u001b[A\u001b[A\n",
            "\n",
            "\n",
            "                                                                        \u001b[A\u001b[A\u001b[A\n",
            "\n",
            "\n",
            "\n",
            "                                                                        \u001b[A\u001b[A\u001b[A\u001b[A\n",
            "\n",
            "\n",
            "\n",
            "\n",
            "                                                                        \u001b[A\u001b[A\u001b[A\u001b[A\u001b[A\n",
            "\n",
            "\n",
            "\n",
            "\n",
            "\n",
            "                                                                        \u001b[A\u001b[A\u001b[A\u001b[A\u001b[A\u001b[A\n",
            "\n",
            "\n",
            "\n",
            "\n",
            "\n",
            "\n",
            "                                                                        \u001b[A\u001b[A\u001b[A\u001b[A\u001b[A\u001b[A\u001b[A\n",
            "Preparing transaction: \\ \b\b| \b\b/ \b\bdone\n",
            "Verifying transaction: \\ \b\b| \b\b/ \b\b- \b\b\\ \b\b| \b\b/ \b\b- \b\b\\ \b\b| \b\b/ \b\b- \b\b\\ \b\b| \b\bdone\n",
            "Executing transaction: - \b\b\\ \b\b| \b\b/ \b\b- \b\b\\ \b\b| \b\b/ \b\b- \b\b\\ \b\b| \b\b/ \b\b- \b\b\\ \b\b| \b\b/ \b\b- \b\b\\ \b\b| \b\b/ \b\b- \b\b\\ \b\b| \b\b/ \b\b- \b\b\\ \b\b| \b\b/ \b\b- \b\bdone\n",
            "#\n",
            "# To activate this environment, use\n",
            "#\n",
            "#     $ conda activate vilbert-mt\n",
            "#\n",
            "# To deactivate an active environment, use\n",
            "#\n",
            "#     $ conda deactivate\n",
            "\n",
            "\n",
            "CondaError: Run 'conda init' before 'conda activate'\n",
            "\n"
          ]
        }
      ],
      "source": [
        "# prompt: conda create -n vilbert-mt python=3.6\n",
        "# conda activate vilbert-mt\n",
        "\n",
        "!conda create -n vilbert-mt python=3.6\n",
        "!conda activate vilbert-mt\n",
        "\n"
      ]
    },
    {
      "cell_type": "code",
      "source": [
        "import os\n",
        "os.environ['PATH'] = '/usr/local/bin:' + os.environ['PATH']"
      ],
      "metadata": {
        "id": "r4TXZnQ9pn85"
      },
      "execution_count": null,
      "outputs": []
    },
    {
      "cell_type": "code",
      "source": [
        "!conda create -n vilbert-mt python=3.6 -y\n",
        "!source activate vilbert-mt"
      ],
      "metadata": {
        "colab": {
          "base_uri": "https://localhost:8080/"
        },
        "collapsed": true,
        "id": "9usIojCjppel",
        "outputId": "214074f6-529e-408d-ec44-d0b77562a01b"
      },
      "execution_count": 3,
      "outputs": [
        {
          "output_type": "stream",
          "name": "stdout",
          "text": [
            "Channels:\n",
            " - defaults\n",
            "Platform: linux-64\n",
            "Collecting package metadata (repodata.json): - \b\b\\ \b\b| \b\b/ \b\b- \b\bdone\n",
            "Solving environment: | \b\bdone\n",
            "\n",
            "## Package Plan ##\n",
            "\n",
            "  environment location: /usr/local/envs/vilbert-mt\n",
            "\n",
            "  added / updated specs:\n",
            "    - python=3.6\n",
            "\n",
            "\n",
            "The following NEW packages will be INSTALLED:\n",
            "\n",
            "  _libgcc_mutex      pkgs/main/linux-64::_libgcc_mutex-0.1-main \n",
            "  _openmp_mutex      pkgs/main/linux-64::_openmp_mutex-5.1-1_gnu \n",
            "  ca-certificates    pkgs/main/linux-64::ca-certificates-2024.11.26-h06a4308_0 \n",
            "  certifi            pkgs/main/linux-64::certifi-2021.5.30-py36h06a4308_0 \n",
            "  ld_impl_linux-64   pkgs/main/linux-64::ld_impl_linux-64-2.40-h12ee557_0 \n",
            "  libffi             pkgs/main/linux-64::libffi-3.3-he6710b0_2 \n",
            "  libgcc-ng          pkgs/main/linux-64::libgcc-ng-11.2.0-h1234567_1 \n",
            "  libgomp            pkgs/main/linux-64::libgomp-11.2.0-h1234567_1 \n",
            "  libstdcxx-ng       pkgs/main/linux-64::libstdcxx-ng-11.2.0-h1234567_1 \n",
            "  ncurses            pkgs/main/linux-64::ncurses-6.4-h6a678d5_0 \n",
            "  openssl            pkgs/main/linux-64::openssl-1.1.1w-h7f8727e_0 \n",
            "  pip                pkgs/main/linux-64::pip-21.2.2-py36h06a4308_0 \n",
            "  python             pkgs/main/linux-64::python-3.6.13-h12debd9_1 \n",
            "  readline           pkgs/main/linux-64::readline-8.2-h5eee18b_0 \n",
            "  setuptools         pkgs/main/linux-64::setuptools-58.0.4-py36h06a4308_0 \n",
            "  sqlite             pkgs/main/linux-64::sqlite-3.45.3-h5eee18b_0 \n",
            "  tk                 pkgs/main/linux-64::tk-8.6.14-h39e8969_0 \n",
            "  wheel              pkgs/main/noarch::wheel-0.37.1-pyhd3eb1b0_0 \n",
            "  xz                 pkgs/main/linux-64::xz-5.4.6-h5eee18b_1 \n",
            "  zlib               pkgs/main/linux-64::zlib-1.2.13-h5eee18b_1 \n",
            "\n",
            "\n",
            "\n",
            "Downloading and Extracting Packages:\n",
            "\n",
            "Preparing transaction: - \b\b\\ \b\b| \b\bdone\n",
            "Verifying transaction: - \b\b\\ \b\b| \b\b/ \b\b- \b\b\\ \b\b| \b\b/ \b\b- \b\b\\ \b\b| \b\b/ \b\b- \b\b\\ \b\b| \b\b/ \b\b- \b\b\\ \b\bdone\n",
            "Executing transaction: / \b\b- \b\b\\ \b\b| \b\b/ \b\b- \b\b\\ \b\b| \b\b/ \b\b- \b\b\\ \b\b| \b\b/ \b\b- \b\b\\ \b\b| \b\b/ \b\b- \b\b\\ \b\b| \b\b/ \b\b- \b\b\\ \b\b| \b\b/ \b\b- \b\b\\ \b\b| \b\b/ \b\b- \b\b\\ \b\b| \b\b/ \b\b- \b\b\\ \b\b| \b\b/ \b\b- \b\b\\ \b\b| \b\b/ \b\b- \b\b\\ \b\b| \b\b/ \b\b- \b\b\\ \b\b| \b\b/ \b\b- \b\b\\ \b\b| \b\b/ \b\b- \b\b\\ \b\b| \b\b/ \b\b- \b\b\\ \b\bdone\n",
            "#\n",
            "# To activate this environment, use\n",
            "#\n",
            "#     $ conda activate vilbert-mt\n",
            "#\n",
            "# To deactivate an active environment, use\n",
            "#\n",
            "#     $ conda deactivate\n",
            "\n"
          ]
        }
      ]
    },
    {
      "cell_type": "code",
      "source": [
        "!source activate vilbert-mt && python --version"
      ],
      "metadata": {
        "colab": {
          "base_uri": "https://localhost:8080/"
        },
        "id": "uT35R6f0p_v7",
        "outputId": "5c4c592f-4ba1-429b-b34e-e8ea28f1d2ff"
      },
      "execution_count": 4,
      "outputs": [
        {
          "output_type": "stream",
          "name": "stdout",
          "text": [
            "Python 3.6.13 :: Anaconda, Inc.\n"
          ]
        }
      ]
    },
    {
      "cell_type": "code",
      "source": [
        "!source activate vilbert-mt && pip uninstall tensoryboardX\n",
        "!source activate vilbert-mt && pip uninstall pytorch-transformers\n",
        "!source activate vilbert-mt && pip uninstall tensorflow\n",
        "!source activate vilbert-mt && pip uninstall tensorpack"
      ],
      "metadata": {
        "colab": {
          "base_uri": "https://localhost:8080/"
        },
        "id": "E9WG3aOS-QWy",
        "outputId": "04d6316f-0bf4-48e4-dfff-2ba7cf3fcc18"
      },
      "execution_count": 5,
      "outputs": [
        {
          "output_type": "stream",
          "name": "stdout",
          "text": [
            "\u001b[33mWARNING: Skipping tensoryboardX as it is not installed.\u001b[0m\n",
            "\u001b[33mWARNING: Running pip as the 'root' user can result in broken permissions and conflicting behaviour with the system package manager. It is recommended to use a virtual environment instead: https://pip.pypa.io/warnings/venv\u001b[0m\n",
            "\u001b[33mWARNING: Skipping pytorch-transformers as it is not installed.\u001b[0m\n",
            "\u001b[33mWARNING: Running pip as the 'root' user can result in broken permissions and conflicting behaviour with the system package manager. It is recommended to use a virtual environment instead: https://pip.pypa.io/warnings/venv\u001b[0m\n",
            "\u001b[33mWARNING: Skipping tensorflow as it is not installed.\u001b[0m\n",
            "\u001b[33mWARNING: Running pip as the 'root' user can result in broken permissions and conflicting behaviour with the system package manager. It is recommended to use a virtual environment instead: https://pip.pypa.io/warnings/venv\u001b[0m\n",
            "\u001b[33mWARNING: Skipping tensorpack as it is not installed.\u001b[0m\n",
            "\u001b[33mWARNING: Running pip as the 'root' user can result in broken permissions and conflicting behaviour with the system package manager. It is recommended to use a virtual environment instead: https://pip.pypa.io/warnings/venv\u001b[0m\n"
          ]
        }
      ]
    },
    {
      "cell_type": "code",
      "source": [
        "!source activate vilbert-mt && pip install pytorch-transformers==1.1.0 \\\n",
        "            lmdb==0.94 \\\n",
        "            tensorboardX==1.8 \\\n",
        "            tensorflow==2.4.0 \\\n",
        "            tensorpack==0.9.4 \\\n",
        "            tqdm==4.31.1 \\\n",
        "            easydict==1.9 \\\n",
        "            PyYAML==5.1.2 \\\n",
        "            jsonlines==1.2.0 \\\n",
        "            json-lines==0.5.0 \\\n",
        "            opencv-python==4.2.0.34 \\\n",
        "            msgpack \\\n",
        "            msgpack-numpy"
      ],
      "metadata": {
        "colab": {
          "base_uri": "https://localhost:8080/"
        },
        "collapsed": true,
        "id": "BAG3fGHjq-NP",
        "outputId": "148bc448-63bc-4939-c24b-b9777a4c86d9"
      },
      "execution_count": 6,
      "outputs": [
        {
          "output_type": "stream",
          "name": "stdout",
          "text": [
            "Collecting pytorch-transformers==1.1.0\n",
            "  Downloading pytorch_transformers-1.1.0-py3-none-any.whl (158 kB)\n",
            "\u001b[K     |████████████████████████████████| 158 kB 4.2 MB/s \n",
            "\u001b[?25hCollecting lmdb==0.94\n",
            "  Downloading lmdb-0.94.tar.gz (4.0 MB)\n",
            "\u001b[K     |████████████████████████████████| 4.0 MB 9.9 MB/s \n",
            "\u001b[?25hCollecting tensorboardX==1.8\n",
            "  Downloading tensorboardX-1.8-py2.py3-none-any.whl (216 kB)\n",
            "\u001b[K     |████████████████████████████████| 216 kB 14.6 MB/s \n",
            "\u001b[?25hCollecting tensorflow==2.4.0\n",
            "  Downloading tensorflow-2.4.0-cp36-cp36m-manylinux2010_x86_64.whl (394.7 MB)\n",
            "\u001b[K     |████████████████████████████████| 394.7 MB 8.4 kB/s \n",
            "\u001b[?25hCollecting tensorpack==0.9.4\n",
            "  Downloading tensorpack-0.9.4-py2.py3-none-any.whl (273 kB)\n",
            "\u001b[K     |████████████████████████████████| 273 kB 51.1 MB/s \n",
            "\u001b[?25hCollecting tqdm==4.31.1\n",
            "  Downloading tqdm-4.31.1-py2.py3-none-any.whl (48 kB)\n",
            "\u001b[K     |████████████████████████████████| 48 kB 4.9 MB/s \n",
            "\u001b[?25hCollecting easydict==1.9\n",
            "  Downloading easydict-1.9.tar.gz (6.4 kB)\n",
            "Collecting PyYAML==5.1.2\n",
            "  Downloading PyYAML-5.1.2.tar.gz (265 kB)\n",
            "\u001b[K     |████████████████████████████████| 265 kB 44.8 MB/s \n",
            "\u001b[?25hCollecting jsonlines==1.2.0\n",
            "  Downloading jsonlines-1.2.0-py2.py3-none-any.whl (7.6 kB)\n",
            "Collecting json-lines==0.5.0\n",
            "  Downloading json_lines-0.5.0-py2.py3-none-any.whl (6.8 kB)\n",
            "Collecting opencv-python==4.2.0.34\n",
            "  Downloading opencv_python-4.2.0.34-cp36-cp36m-manylinux1_x86_64.whl (28.2 MB)\n",
            "\u001b[K     |████████████████████████████████| 28.2 MB 1.3 MB/s \n",
            "\u001b[?25hCollecting msgpack\n",
            "  Downloading msgpack-1.0.5-cp36-cp36m-manylinux_2_17_x86_64.manylinux2014_x86_64.whl (300 kB)\n",
            "\u001b[K     |████████████████████████████████| 300 kB 19.0 MB/s \n",
            "\u001b[?25hCollecting msgpack-numpy\n",
            "  Downloading msgpack_numpy-0.4.8-py2.py3-none-any.whl (6.9 kB)\n",
            "Collecting torch>=1.0.0\n",
            "  Downloading torch-1.10.2-cp36-cp36m-manylinux1_x86_64.whl (881.9 MB)\n",
            "\u001b[K     |████████████████████████████████| 881.9 MB 9.1 kB/s \n",
            "\u001b[?25hCollecting sentencepiece\n",
            "  Downloading sentencepiece-0.2.0-cp36-cp36m-manylinux_2_17_x86_64.manylinux2014_x86_64.whl (1.3 MB)\n",
            "\u001b[K     |████████████████████████████████| 1.3 MB 34.3 MB/s \n",
            "\u001b[?25hCollecting requests\n",
            "  Downloading requests-2.27.1-py2.py3-none-any.whl (63 kB)\n",
            "\u001b[K     |████████████████████████████████| 63 kB 1.5 MB/s \n",
            "\u001b[?25hCollecting numpy\n",
            "  Downloading numpy-1.19.5-cp36-cp36m-manylinux2010_x86_64.whl (14.8 MB)\n",
            "\u001b[K     |████████████████████████████████| 14.8 MB 42.2 MB/s \n",
            "\u001b[?25hCollecting boto3\n",
            "  Downloading boto3-1.23.10-py3-none-any.whl (132 kB)\n",
            "\u001b[K     |████████████████████████████████| 132 kB 49.2 MB/s \n",
            "\u001b[?25hCollecting regex\n",
            "  Downloading regex-2023.8.8-cp36-cp36m-manylinux_2_17_x86_64.manylinux2014_x86_64.whl (759 kB)\n",
            "\u001b[K     |████████████████████████████████| 759 kB 44.2 MB/s \n",
            "\u001b[?25hCollecting six\n",
            "  Downloading six-1.17.0-py2.py3-none-any.whl (11 kB)\n",
            "Collecting protobuf>=3.2.0\n",
            "  Downloading protobuf-3.19.6-cp36-cp36m-manylinux_2_17_x86_64.manylinux2014_x86_64.whl (1.1 MB)\n",
            "\u001b[K     |████████████████████████████████| 1.1 MB 35.0 MB/s \n",
            "\u001b[?25hCollecting keras-preprocessing~=1.1.2\n",
            "  Downloading Keras_Preprocessing-1.1.2-py2.py3-none-any.whl (42 kB)\n",
            "\u001b[K     |████████████████████████████████| 42 kB 1.1 MB/s \n",
            "\u001b[?25hCollecting opt-einsum~=3.3.0\n",
            "  Downloading opt_einsum-3.3.0-py3-none-any.whl (65 kB)\n",
            "\u001b[K     |████████████████████████████████| 65 kB 3.7 MB/s \n",
            "\u001b[?25hCollecting six\n",
            "  Downloading six-1.15.0-py2.py3-none-any.whl (10 kB)\n",
            "Collecting h5py~=2.10.0\n",
            "  Downloading h5py-2.10.0-cp36-cp36m-manylinux1_x86_64.whl (2.9 MB)\n",
            "\u001b[K     |████████████████████████████████| 2.9 MB 41.2 MB/s \n",
            "\u001b[?25hCollecting tensorboard~=2.4\n",
            "  Downloading tensorboard-2.10.1-py3-none-any.whl (5.9 MB)\n",
            "\u001b[K     |████████████████████████████████| 5.9 MB 41.1 MB/s \n",
            "\u001b[?25hCollecting grpcio~=1.32.0\n",
            "  Downloading grpcio-1.32.0-cp36-cp36m-manylinux2014_x86_64.whl (3.8 MB)\n",
            "\u001b[K     |████████████████████████████████| 3.8 MB 46.1 MB/s \n",
            "\u001b[?25hCollecting typing-extensions~=3.7.4\n",
            "  Downloading typing_extensions-3.7.4.3-py3-none-any.whl (22 kB)\n",
            "Collecting tensorflow-estimator<2.5.0,>=2.4.0rc0\n",
            "  Downloading tensorflow_estimator-2.4.0-py2.py3-none-any.whl (462 kB)\n",
            "\u001b[K     |████████████████████████████████| 462 kB 34.8 MB/s \n",
            "\u001b[?25hCollecting absl-py~=0.10\n",
            "  Downloading absl_py-0.15.0-py3-none-any.whl (132 kB)\n",
            "\u001b[K     |████████████████████████████████| 132 kB 41.5 MB/s \n",
            "\u001b[?25hCollecting flatbuffers~=1.12.0\n",
            "  Downloading flatbuffers-1.12-py2.py3-none-any.whl (15 kB)\n",
            "Requirement already satisfied: wheel~=0.35 in /usr/local/envs/vilbert-mt/lib/python3.6/site-packages (from tensorflow==2.4.0) (0.37.1)\n",
            "Collecting gast==0.3.3\n",
            "  Downloading gast-0.3.3-py2.py3-none-any.whl (9.7 kB)\n",
            "Collecting astunparse~=1.6.3\n",
            "  Downloading astunparse-1.6.3-py2.py3-none-any.whl (12 kB)\n",
            "Collecting google-pasta~=0.2\n",
            "  Downloading google_pasta-0.2.0-py3-none-any.whl (57 kB)\n",
            "\u001b[K     |████████████████████████████████| 57 kB 3.8 MB/s \n",
            "\u001b[?25hCollecting wrapt~=1.12.1\n",
            "  Downloading wrapt-1.12.1.tar.gz (27 kB)\n",
            "Collecting termcolor~=1.1.0\n",
            "  Downloading termcolor-1.1.0.tar.gz (3.9 kB)\n",
            "Collecting pyzmq>=16\n",
            "  Downloading pyzmq-25.1.2-cp36-cp36m-manylinux_2_5_x86_64.manylinux1_x86_64.whl (1.1 MB)\n",
            "\u001b[K     |████████████████████████████████| 1.1 MB 43.9 MB/s \n",
            "\u001b[?25hCollecting tabulate>=0.7.7\n",
            "  Downloading tabulate-0.8.10-py3-none-any.whl (29 kB)\n",
            "Collecting google-auth<3,>=1.6.3\n",
            "  Downloading google_auth-2.22.0-py2.py3-none-any.whl (181 kB)\n",
            "\u001b[K     |████████████████████████████████| 181 kB 48.3 MB/s \n",
            "\u001b[?25hCollecting markdown>=2.6.8\n",
            "  Downloading Markdown-3.3.7-py3-none-any.whl (97 kB)\n",
            "\u001b[K     |████████████████████████████████| 97 kB 6.5 MB/s \n",
            "\u001b[?25hRequirement already satisfied: setuptools>=41.0.0 in /usr/local/envs/vilbert-mt/lib/python3.6/site-packages (from tensorboard~=2.4->tensorflow==2.4.0) (58.0.4)\n",
            "Collecting google-auth-oauthlib<0.5,>=0.4.1\n",
            "  Downloading google_auth_oauthlib-0.4.6-py2.py3-none-any.whl (18 kB)\n",
            "Collecting tensorboard-plugin-wit>=1.6.0\n",
            "  Downloading tensorboard_plugin_wit-1.8.1-py3-none-any.whl (781 kB)\n",
            "\u001b[K     |████████████████████████████████| 781 kB 32.4 MB/s \n",
            "\u001b[?25hCollecting tensorboard-data-server<0.7.0,>=0.6.0\n",
            "  Downloading tensorboard_data_server-0.6.1-py3-none-manylinux2010_x86_64.whl (4.9 MB)\n",
            "\u001b[K     |████████████████████████████████| 4.9 MB 42.8 MB/s \n",
            "\u001b[?25hCollecting werkzeug>=1.0.1\n",
            "  Downloading Werkzeug-2.0.3-py3-none-any.whl (289 kB)\n",
            "\u001b[K     |████████████████████████████████| 289 kB 48.7 MB/s \n",
            "\u001b[?25hCollecting pyasn1-modules>=0.2.1\n",
            "  Downloading pyasn1_modules-0.3.0-py2.py3-none-any.whl (181 kB)\n",
            "\u001b[K     |████████████████████████████████| 181 kB 42.9 MB/s \n",
            "\u001b[?25hCollecting rsa<5,>=3.1.4\n",
            "  Downloading rsa-4.9-py3-none-any.whl (34 kB)\n",
            "Collecting urllib3<2.0\n",
            "  Downloading urllib3-1.26.20-py2.py3-none-any.whl (144 kB)\n",
            "\u001b[K     |████████████████████████████████| 144 kB 49.2 MB/s \n",
            "\u001b[?25hCollecting cachetools<6.0,>=2.0.0\n",
            "  Downloading cachetools-4.2.4-py3-none-any.whl (10 kB)\n",
            "Collecting requests-oauthlib>=0.7.0\n",
            "  Downloading requests_oauthlib-2.0.0-py2.py3-none-any.whl (24 kB)\n",
            "Collecting importlib-metadata>=4.4\n",
            "  Downloading importlib_metadata-4.8.3-py3-none-any.whl (17 kB)\n",
            "Collecting zipp>=0.5\n",
            "  Downloading zipp-3.6.0-py3-none-any.whl (5.3 kB)\n",
            "Collecting pyasn1<0.6.0,>=0.4.6\n",
            "  Downloading pyasn1-0.5.1-py2.py3-none-any.whl (84 kB)\n",
            "\u001b[K     |████████████████████████████████| 84 kB 3.6 MB/s \n",
            "\u001b[?25hCollecting idna<4,>=2.5\n",
            "  Downloading idna-3.10-py3-none-any.whl (70 kB)\n",
            "\u001b[K     |████████████████████████████████| 70 kB 7.3 MB/s \n",
            "\u001b[?25hCollecting charset-normalizer~=2.0.0\n",
            "  Downloading charset_normalizer-2.0.12-py3-none-any.whl (39 kB)\n",
            "Requirement already satisfied: certifi>=2017.4.17 in /usr/local/envs/vilbert-mt/lib/python3.6/site-packages (from requests->pytorch-transformers==1.1.0) (2021.5.30)\n",
            "Collecting oauthlib>=3.0.0\n",
            "  Downloading oauthlib-3.2.2-py3-none-any.whl (151 kB)\n",
            "\u001b[K     |████████████████████████████████| 151 kB 36.7 MB/s \n",
            "\u001b[?25hCollecting dataclasses\n",
            "  Downloading dataclasses-0.8-py3-none-any.whl (19 kB)\n",
            "Collecting botocore<1.27.0,>=1.26.10\n",
            "  Downloading botocore-1.26.10-py3-none-any.whl (8.8 MB)\n",
            "\u001b[K     |████████████████████████████████| 8.8 MB 43.4 MB/s \n",
            "\u001b[?25hCollecting jmespath<2.0.0,>=0.7.1\n",
            "  Downloading jmespath-0.10.0-py2.py3-none-any.whl (24 kB)\n",
            "Collecting s3transfer<0.6.0,>=0.5.0\n",
            "  Downloading s3transfer-0.5.2-py3-none-any.whl (79 kB)\n",
            "\u001b[K     |████████████████████████████████| 79 kB 6.9 MB/s \n",
            "\u001b[?25hCollecting python-dateutil<3.0.0,>=2.1\n",
            "  Downloading python_dateutil-2.9.0.post0-py2.py3-none-any.whl (229 kB)\n",
            "\u001b[K     |████████████████████████████████| 229 kB 41.0 MB/s \n",
            "\u001b[?25hBuilding wheels for collected packages: lmdb, easydict, PyYAML, termcolor, wrapt\n",
            "  Building wheel for lmdb (setup.py) ... \u001b[?25l\u001b[?25hdone\n",
            "  Created wheel for lmdb: filename=lmdb-0.94-cp36-cp36m-linux_x86_64.whl size=277552 sha256=b13d06ffdffb74ebb880db929435e9b6a4c969a260604ce9b938fafcebd37558\n",
            "  Stored in directory: /root/.cache/pip/wheels/5e/07/6a/dbf21232c94c3e174c73fc1647777bda92f8b210a02dab6ce7\n",
            "  Building wheel for easydict (setup.py) ... \u001b[?25l\u001b[?25hdone\n",
            "  Created wheel for easydict: filename=easydict-1.9-py3-none-any.whl size=6361 sha256=d512c660b33872cb75f37467047fa6349f11f06a8c046ab1a648399330963696\n",
            "  Stored in directory: /root/.cache/pip/wheels/5d/79/e4/4e55effe206295359b37e0f9db3e68a1197ba396682807dadb\n",
            "  Building wheel for PyYAML (setup.py) ... \u001b[?25l\u001b[?25hdone\n",
            "  Created wheel for PyYAML: filename=PyYAML-5.1.2-cp36-cp36m-linux_x86_64.whl size=44118 sha256=39915e19674b9c69f8a4cf8b1a1b442781a111d22a76a8e523a3ee270511219f\n",
            "  Stored in directory: /root/.cache/pip/wheels/d8/9b/e7/75af463b873c119dd444151fc54a8e190c87993593e1fa194a\n",
            "  Building wheel for termcolor (setup.py) ... \u001b[?25l\u001b[?25hdone\n",
            "  Created wheel for termcolor: filename=termcolor-1.1.0-py3-none-any.whl size=4848 sha256=579531877a157b76fae3cfb44f980da430327ae745801f14d501ea3a3349daf2\n",
            "  Stored in directory: /root/.cache/pip/wheels/93/2a/eb/e58dbcbc963549ee4f065ff80a59f274cc7210b6eab962acdc\n",
            "  Building wheel for wrapt (setup.py) ... \u001b[?25l\u001b[?25hdone\n",
            "  Created wheel for wrapt: filename=wrapt-1.12.1-cp36-cp36m-linux_x86_64.whl size=70086 sha256=60d7e83a3ef2bbb414af149b759c6f3972489804417f0caf7c22639e7305e1ef\n",
            "  Stored in directory: /root/.cache/pip/wheels/32/42/7f/23cae9ff6ef66798d00dc5d659088e57dbba01566f6c60db63\n",
            "Successfully built lmdb easydict PyYAML termcolor wrapt\n",
            "Installing collected packages: urllib3, six, pyasn1, idna, charset-normalizer, zipp, typing-extensions, rsa, requests, python-dateutil, pyasn1-modules, oauthlib, jmespath, cachetools, requests-oauthlib, importlib-metadata, google-auth, dataclasses, botocore, werkzeug, tensorboard-plugin-wit, tensorboard-data-server, s3transfer, protobuf, numpy, msgpack, markdown, grpcio, google-auth-oauthlib, absl-py, wrapt, tqdm, torch, termcolor, tensorflow-estimator, tensorboard, tabulate, sentencepiece, regex, pyzmq, opt-einsum, msgpack-numpy, keras-preprocessing, h5py, google-pasta, gast, flatbuffers, boto3, astunparse, tensorpack, tensorflow, tensorboardX, PyYAML, pytorch-transformers, opencv-python, lmdb, jsonlines, json-lines, easydict\n",
            "Successfully installed PyYAML-5.1.2 absl-py-0.15.0 astunparse-1.6.3 boto3-1.23.10 botocore-1.26.10 cachetools-4.2.4 charset-normalizer-2.0.12 dataclasses-0.8 easydict-1.9 flatbuffers-1.12 gast-0.3.3 google-auth-2.22.0 google-auth-oauthlib-0.4.6 google-pasta-0.2.0 grpcio-1.32.0 h5py-2.10.0 idna-3.10 importlib-metadata-4.8.3 jmespath-0.10.0 json-lines-0.5.0 jsonlines-1.2.0 keras-preprocessing-1.1.2 lmdb-0.94 markdown-3.3.7 msgpack-1.0.5 msgpack-numpy-0.4.8 numpy-1.19.5 oauthlib-3.2.2 opencv-python-4.2.0.34 opt-einsum-3.3.0 protobuf-3.19.6 pyasn1-0.5.1 pyasn1-modules-0.3.0 python-dateutil-2.9.0.post0 pytorch-transformers-1.1.0 pyzmq-25.1.2 regex-2023.8.8 requests-2.27.1 requests-oauthlib-2.0.0 rsa-4.9 s3transfer-0.5.2 sentencepiece-0.2.0 six-1.15.0 tabulate-0.8.10 tensorboard-2.10.1 tensorboard-data-server-0.6.1 tensorboard-plugin-wit-1.8.1 tensorboardX-1.8 tensorflow-2.4.0 tensorflow-estimator-2.4.0 tensorpack-0.9.4 termcolor-1.1.0 torch-1.10.2 tqdm-4.31.1 typing-extensions-3.7.4.3 urllib3-1.26.20 werkzeug-2.0.3 wrapt-1.12.1 zipp-3.6.0\n",
            "\u001b[33mWARNING: Running pip as the 'root' user can result in broken permissions and conflicting behaviour with the system package manager. It is recommended to use a virtual environment instead: https://pip.pypa.io/warnings/venv\u001b[0m\n"
          ]
        }
      ]
    },
    {
      "cell_type": "code",
      "source": [
        "!source activate vilbert-mt && apt-get update -y\n",
        "!source activate vilbert-mt && apt-get install -y libcap-dev"
      ],
      "metadata": {
        "colab": {
          "base_uri": "https://localhost:8080/"
        },
        "id": "JCCwyFtDt5w-",
        "outputId": "0cf6b218-2e1e-437e-f274-c2ec7fa31686"
      },
      "execution_count": 7,
      "outputs": [
        {
          "output_type": "stream",
          "name": "stdout",
          "text": [
            "\r0% [Working]\r            \rGet:1 https://cloud.r-project.org/bin/linux/ubuntu jammy-cran40/ InRelease [3,626 B]\n",
            "\r0% [Connecting to archive.ubuntu.com (91.189.91.82)] [Waiting for headers] [1 InRelease 3,626 B/3,62\r0% [Connecting to archive.ubuntu.com (91.189.91.82)] [Waiting for headers] [Connected to r2u.stat.il\r                                                                                                    \rHit:2 http://archive.ubuntu.com/ubuntu jammy InRelease\n",
            "\r0% [Waiting for headers] [Waiting for headers] [Waiting for headers] [Waiting for headers] [Connecte\r                                                                                                    \rGet:3 https://developer.download.nvidia.com/compute/cuda/repos/ubuntu2204/x86_64  InRelease [1,581 B]\n",
            "\r0% [Waiting for headers] [Waiting for headers] [Waiting for headers] [Connected to ppa.launchpadcont\r                                                                                                    \rGet:4 http://archive.ubuntu.com/ubuntu jammy-updates InRelease [128 kB]\n",
            "\r0% [4 InRelease 12.7 kB/128 kB 10%] [Waiting for headers] [Waiting for headers] [Connected to ppa.la\r                                                                                                    \rGet:5 http://security.ubuntu.com/ubuntu jammy-security InRelease [129 kB]\n",
            "Get:6 https://r2u.stat.illinois.edu/ubuntu jammy InRelease [6,555 B]\n",
            "Get:7 http://archive.ubuntu.com/ubuntu jammy-backports InRelease [127 kB]\n",
            "Hit:8 https://ppa.launchpadcontent.net/deadsnakes/ppa/ubuntu jammy InRelease\n",
            "Hit:9 https://ppa.launchpadcontent.net/graphics-drivers/ppa/ubuntu jammy InRelease\n",
            "Hit:10 https://ppa.launchpadcontent.net/ubuntugis/ppa/ubuntu jammy InRelease\n",
            "Get:11 https://developer.download.nvidia.com/compute/cuda/repos/ubuntu2204/x86_64  Packages [1,196 kB]\n",
            "Get:12 https://r2u.stat.illinois.edu/ubuntu jammy/main amd64 Packages [2,626 kB]\n",
            "Get:13 https://r2u.stat.illinois.edu/ubuntu jammy/main all Packages [8,543 kB]\n",
            "Get:14 http://archive.ubuntu.com/ubuntu jammy-updates/restricted amd64 Packages [3,475 kB]\n",
            "Get:15 http://archive.ubuntu.com/ubuntu jammy-updates/universe amd64 Packages [1,516 kB]\n",
            "Get:16 http://archive.ubuntu.com/ubuntu jammy-updates/main amd64 Packages [2,753 kB]\n",
            "Get:17 http://security.ubuntu.com/ubuntu jammy-security/main amd64 Packages [2,458 kB]\n",
            "Fetched 23.0 MB in 5s (4,944 kB/s)\n",
            "Reading package lists... Done\n",
            "W: Skipping acquire of configured file 'main/source/Sources' as repository 'https://r2u.stat.illinois.edu/ubuntu jammy InRelease' does not seem to provide it (sources.list entry misspelt?)\n",
            "Reading package lists... Done\n",
            "Building dependency tree... Done\n",
            "Reading state information... Done\n",
            "The following NEW packages will be installed:\n",
            "  libcap-dev\n",
            "0 upgraded, 1 newly installed, 0 to remove and 58 not upgraded.\n",
            "Need to get 39.4 kB of archives.\n",
            "After this operation, 150 kB of additional disk space will be used.\n",
            "Get:1 http://archive.ubuntu.com/ubuntu jammy-updates/main amd64 libcap-dev amd64 1:2.44-1ubuntu0.22.04.1 [39.4 kB]\n",
            "Fetched 39.4 kB in 0s (300 kB/s)\n",
            "Selecting previously unselected package libcap-dev:amd64.\n",
            "(Reading database ... 123633 files and directories currently installed.)\n",
            "Preparing to unpack .../libcap-dev_1%3a2.44-1ubuntu0.22.04.1_amd64.deb ...\n",
            "Unpacking libcap-dev:amd64 (1:2.44-1ubuntu0.22.04.1) ...\n",
            "Setting up libcap-dev:amd64 (1:2.44-1ubuntu0.22.04.1) ...\n",
            "Processing triggers for man-db (2.10.2-1) ...\n"
          ]
        }
      ]
    },
    {
      "cell_type": "code",
      "source": [
        "!source activate vilbert-mt && pip install python-prctl"
      ],
      "metadata": {
        "colab": {
          "base_uri": "https://localhost:8080/"
        },
        "id": "UQN4SGtOuDzb",
        "outputId": "a56ab567-9896-4cc0-df3a-009439e45501"
      },
      "execution_count": 8,
      "outputs": [
        {
          "output_type": "stream",
          "name": "stdout",
          "text": [
            "Collecting python-prctl\n",
            "  Downloading python-prctl-1.8.1.tar.gz (28 kB)\n",
            "Building wheels for collected packages: python-prctl\n",
            "  Building wheel for python-prctl (setup.py) ... \u001b[?25l\u001b[?25hdone\n",
            "  Created wheel for python-prctl: filename=python_prctl-1.8.1-cp36-cp36m-linux_x86_64.whl size=25878 sha256=4b9e4c68a339b0f37ca35fc54d09f7d43890a81970099ffdaf7a3b0d6d5be462\n",
            "  Stored in directory: /root/.cache/pip/wheels/62/7e/24/8b5aad1430e84ce25927078f2dc87bfdae2f1981f3654c26ef\n",
            "Successfully built python-prctl\n",
            "Installing collected packages: python-prctl\n",
            "Successfully installed python-prctl-1.8.1\n",
            "\u001b[33mWARNING: Running pip as the 'root' user can result in broken permissions and conflicting behaviour with the system package manager. It is recommended to use a virtual environment instead: https://pip.pypa.io/warnings/venv\u001b[0m\n"
          ]
        }
      ]
    },
    {
      "cell_type": "code",
      "source": [
        "!source activate vilbert-mt && pip install matplotlib==3.3.4 cython"
      ],
      "metadata": {
        "colab": {
          "base_uri": "https://localhost:8080/"
        },
        "id": "w91CcJL7uPGL",
        "outputId": "d8e78acb-5025-4615-8221-ac439f7ba3f6",
        "collapsed": true
      },
      "execution_count": 9,
      "outputs": [
        {
          "output_type": "stream",
          "name": "stdout",
          "text": [
            "Collecting matplotlib==3.3.4\n",
            "  Downloading matplotlib-3.3.4-cp36-cp36m-manylinux1_x86_64.whl (11.5 MB)\n",
            "\u001b[K     |████████████████████████████████| 11.5 MB 4.1 MB/s \n",
            "\u001b[?25hCollecting cython\n",
            "  Downloading Cython-3.0.11-cp36-cp36m-manylinux_2_17_x86_64.manylinux2014_x86_64.whl (3.5 MB)\n",
            "\u001b[K     |████████████████████████████████| 3.5 MB 32.7 MB/s \n",
            "\u001b[?25hRequirement already satisfied: python-dateutil>=2.1 in /usr/local/envs/vilbert-mt/lib/python3.6/site-packages (from matplotlib==3.3.4) (2.9.0.post0)\n",
            "Collecting kiwisolver>=1.0.1\n",
            "  Downloading kiwisolver-1.3.1-cp36-cp36m-manylinux1_x86_64.whl (1.1 MB)\n",
            "\u001b[K     |████████████████████████████████| 1.1 MB 47.2 MB/s \n",
            "\u001b[?25hRequirement already satisfied: numpy>=1.15 in /usr/local/envs/vilbert-mt/lib/python3.6/site-packages (from matplotlib==3.3.4) (1.19.5)\n",
            "Collecting pyparsing!=2.0.4,!=2.1.2,!=2.1.6,>=2.0.3\n",
            "  Downloading pyparsing-3.1.4-py3-none-any.whl (104 kB)\n",
            "\u001b[K     |████████████████████████████████| 104 kB 36.3 MB/s \n",
            "\u001b[?25hCollecting pillow>=6.2.0\n",
            "  Downloading Pillow-8.4.0-cp36-cp36m-manylinux_2_17_x86_64.manylinux2014_x86_64.whl (3.1 MB)\n",
            "\u001b[K     |████████████████████████████████| 3.1 MB 39.9 MB/s \n",
            "\u001b[?25hCollecting cycler>=0.10\n",
            "  Downloading cycler-0.11.0-py3-none-any.whl (6.4 kB)\n",
            "Requirement already satisfied: six>=1.5 in /usr/local/envs/vilbert-mt/lib/python3.6/site-packages (from python-dateutil>=2.1->matplotlib==3.3.4) (1.15.0)\n",
            "Installing collected packages: pyparsing, pillow, kiwisolver, cycler, matplotlib, cython\n",
            "Successfully installed cycler-0.11.0 cython-3.0.11 kiwisolver-1.3.1 matplotlib-3.3.4 pillow-8.4.0 pyparsing-3.1.4\n",
            "\u001b[33mWARNING: Running pip as the 'root' user can result in broken permissions and conflicting behaviour with the system package manager. It is recommended to use a virtual environment instead: https://pip.pypa.io/warnings/venv\u001b[0m\n"
          ]
        }
      ]
    },
    {
      "cell_type": "code",
      "source": [
        "!source activate vilbert-mt && conda install ipython"
      ],
      "metadata": {
        "colab": {
          "base_uri": "https://localhost:8080/"
        },
        "collapsed": true,
        "id": "zXi3gpX5vBJu",
        "outputId": "cf373c8f-46bc-4ce2-dc84-d499303cbe76"
      },
      "execution_count": null,
      "outputs": [
        {
          "output_type": "stream",
          "name": "stdout",
          "text": [
            "Channels:\n",
            " - defaults\n",
            "Platform: linux-64\n",
            "Collecting package metadata (repodata.json): - \b\b\\ \b\b| \b\b/ \b\b- \b\b\\ \b\b| \b\b/ \b\b- \b\bdone\n",
            "Solving environment: | \b\b/ \b\bdone\n",
            "\n",
            "## Package Plan ##\n",
            "\n",
            "  environment location: /usr/local/envs/vilbert-mt\n",
            "\n",
            "  added / updated specs:\n",
            "    - ipython\n",
            "\n",
            "\n",
            "The following packages will be downloaded:\n",
            "\n",
            "    package                    |            build\n",
            "    ---------------------------|-----------------\n",
            "    backcall-0.2.0             |     pyhd3eb1b0_0          13 KB\n",
            "    decorator-5.1.1            |     pyhd3eb1b0_0          12 KB\n",
            "    ipython-7.16.1             |   py36h5ca1d4c_0         999 KB\n",
            "    ipython_genutils-0.2.0     |     pyhd3eb1b0_1          27 KB\n",
            "    jedi-0.17.2                |   py36h06a4308_1         919 KB\n",
            "    parso-0.7.0                |             py_0          72 KB\n",
            "    pexpect-4.8.0              |     pyhd3eb1b0_3          53 KB\n",
            "    pickleshare-0.7.5          |  pyhd3eb1b0_1003          13 KB\n",
            "    prompt-toolkit-3.0.20      |     pyhd3eb1b0_0         259 KB\n",
            "    ptyprocess-0.7.0           |     pyhd3eb1b0_2          17 KB\n",
            "    pygments-2.11.2            |     pyhd3eb1b0_0         759 KB\n",
            "    six-1.16.0                 |     pyhd3eb1b0_1          18 KB\n",
            "    traitlets-4.3.3            |   py36h06a4308_0         138 KB\n",
            "    wcwidth-0.2.5              |     pyhd3eb1b0_0          26 KB\n",
            "    ------------------------------------------------------------\n",
            "                                           Total:         3.2 MB\n",
            "\n",
            "The following NEW packages will be INSTALLED:\n",
            "\n",
            "  backcall           pkgs/main/noarch::backcall-0.2.0-pyhd3eb1b0_0 \n",
            "  decorator          pkgs/main/noarch::decorator-5.1.1-pyhd3eb1b0_0 \n",
            "  ipython            pkgs/main/linux-64::ipython-7.16.1-py36h5ca1d4c_0 \n",
            "  ipython_genutils   pkgs/main/noarch::ipython_genutils-0.2.0-pyhd3eb1b0_1 \n",
            "  jedi               pkgs/main/linux-64::jedi-0.17.2-py36h06a4308_1 \n",
            "  parso              pkgs/main/noarch::parso-0.7.0-py_0 \n",
            "  pexpect            pkgs/main/noarch::pexpect-4.8.0-pyhd3eb1b0_3 \n",
            "  pickleshare        pkgs/main/noarch::pickleshare-0.7.5-pyhd3eb1b0_1003 \n",
            "  prompt-toolkit     pkgs/main/noarch::prompt-toolkit-3.0.20-pyhd3eb1b0_0 \n",
            "  ptyprocess         pkgs/main/noarch::ptyprocess-0.7.0-pyhd3eb1b0_2 \n",
            "  pygments           pkgs/main/noarch::pygments-2.11.2-pyhd3eb1b0_0 \n",
            "  six                pkgs/main/noarch::six-1.16.0-pyhd3eb1b0_1 \n",
            "  traitlets          pkgs/main/linux-64::traitlets-4.3.3-py36h06a4308_0 \n",
            "  wcwidth            pkgs/main/noarch::wcwidth-0.2.5-pyhd3eb1b0_0 \n",
            "\n",
            "\n",
            "Proceed ([y]/n)? "
          ]
        }
      ]
    },
    {
      "cell_type": "code",
      "source": [
        "!source activate vilbert-mt && pip install ninja yacs cython"
      ],
      "metadata": {
        "id": "W-_yAJ-gvvjS"
      },
      "execution_count": null,
      "outputs": []
    },
    {
      "cell_type": "code",
      "source": [
        "# !source activate vilbert-mt && pip uninstall torch torchvision -y\n"
      ],
      "metadata": {
        "id": "Pofd1hZDS7-g"
      },
      "execution_count": null,
      "outputs": []
    },
    {
      "cell_type": "code",
      "source": [
        "# !source activate vilbert-mt && pip install torch==1.0.0 torchvision==0.2.1 -f https://download.pytorch.org/whl/cu100/torch_stable.html"
      ],
      "metadata": {
        "id": "qqKjmJSG9fUv"
      },
      "execution_count": null,
      "outputs": []
    },
    {
      "cell_type": "code",
      "source": [
        "!source activate vilbert-mt && nvcc --version"
      ],
      "metadata": {
        "id": "S8_4-5lCwynT"
      },
      "execution_count": null,
      "outputs": []
    },
    {
      "cell_type": "code",
      "source": [
        "!source activate vilbert-mt && mkdir -p ~/github  # Create the parent directory if it doesn't exist\n",
        "!source activate vilbert-mt && git clone https://github.com/pytorch/vision.git ~/github/vision"
      ],
      "metadata": {
        "id": "g2H6mhvLxjfT"
      },
      "execution_count": null,
      "outputs": []
    },
    {
      "cell_type": "code",
      "source": [
        "%cd ~/github\n",
        "!source activate vilbert-mt && git clone https://github.com/cocodataset/cocoapi.git\n",
        "%cd cocoapi/PythonAPI\n",
        "!source activate vilbert-mt && python setup.py build_ext install"
      ],
      "metadata": {
        "collapsed": true,
        "id": "386jFDPSKCOq"
      },
      "execution_count": null,
      "outputs": []
    },
    {
      "cell_type": "code",
      "source": [
        "# %cd ~/github\n",
        "# !source activate vilbert-mt && git clone https://github.com/facebookresearch/maskrcnn-benchmark.git\n",
        "# %cd maskrcnn-benchmark\n",
        "# the following will install the lib with\n",
        "# symbolic links, so that you can modify\n",
        "# the files if you want and won't need to\n",
        "# re-build it\n",
        "# !source activate vilbert-mt && python setup.py build develop"
      ],
      "metadata": {
        "id": "TH8mhhUZKhHI",
        "collapsed": true
      },
      "execution_count": null,
      "outputs": []
    },
    {
      "cell_type": "code",
      "source": [
        "!source activate vilbert-mt && pip install packaging"
      ],
      "metadata": {
        "id": "4t2c_mnU7bK2"
      },
      "execution_count": null,
      "outputs": []
    },
    {
      "cell_type": "code",
      "source": [
        "# %cd ~/github\n",
        "# # !source activate vilbert-mt && git clone https://github.com/NVIDIA/apex\n",
        "# %cd apex\n",
        "# !source activate vilbert-mt && pip install -v --disable-pip-version-check --no-cache-dir --no-build-isolation --global-option=\"--cpp_ext\" --global-option=\"--cuda_ext\" ./"
      ],
      "metadata": {
        "id": "xFdr2f_8zozS",
        "collapsed": true
      },
      "execution_count": null,
      "outputs": []
    },
    {
      "cell_type": "code",
      "source": [
        "%cd ~/github\n",
        "!source activate vilbert-mt && git clone https://github.com/NVIDIA/apex\n",
        "%cd apex\n",
        "!source activate vilbert-mt && git checkout -f f3a960f80244cf9e80558ab30f7f7e8cbf03c0a0"
      ],
      "metadata": {
        "id": "h5Wy69jdMyAw",
        "collapsed": true
      },
      "execution_count": null,
      "outputs": []
    },
    {
      "cell_type": "code",
      "source": [
        "%cd ~/github/apex\n",
        "!source activate vilbert-mt && python setup.py install --cuda_ext --cpp_ext"
      ],
      "metadata": {
        "id": "JbEtB3MBNLEs"
      },
      "execution_count": null,
      "outputs": []
    },
    {
      "cell_type": "code",
      "source": [
        "%mkdir -p ~/github/data\n",
        "# %cd ~/github/data\n",
        "# %cd ~/github\n",
        "# %cd data\n",
        "# !wget \"https://github.com/awsaf49/flickr-dataset/releases/download/v1.0/flickr8k.zip\""
      ],
      "metadata": {
        "id": "gXKqOIvHARkm"
      },
      "execution_count": null,
      "outputs": []
    },
    {
      "cell_type": "code",
      "source": [
        "# !unzip -q flickr8k.zip -d ./flickr8k"
      ],
      "metadata": {
        "id": "-P-unaKZA2Ja"
      },
      "execution_count": null,
      "outputs": []
    },
    {
      "cell_type": "code",
      "source": [
        "%cd ~/github/data\n",
        "!wget https://dl.fbaipublicfiles.com/vilbert-multi-task/detectron_model.pth\n",
        "!wget https://dl.fbaipublicfiles.com/vilbert-multi-task/detectron_config.yaml"
      ],
      "metadata": {
        "colab": {
          "base_uri": "https://localhost:8080/"
        },
        "id": "ibFZ0ncwBOQn",
        "outputId": "4a8e46be-c2c3-4774-85c0-b88e797e609f"
      },
      "execution_count": null,
      "outputs": [
        {
          "output_type": "stream",
          "name": "stdout",
          "text": [
            "/root/github/data\n",
            "--2024-12-09 01:53:21--  https://dl.fbaipublicfiles.com/vilbert-multi-task/detectron_model.pth\n",
            "Resolving dl.fbaipublicfiles.com (dl.fbaipublicfiles.com)... 13.226.210.111, 13.226.210.15, 13.226.210.78, ...\n",
            "Connecting to dl.fbaipublicfiles.com (dl.fbaipublicfiles.com)|13.226.210.111|:443... connected.\n",
            "HTTP request sent, awaiting response... 200 OK\n",
            "Length: 1661519645 (1.5G) [application/octet-stream]\n",
            "Saving to: ‘detectron_model.pth’\n",
            "\n",
            "detectron_model.pth 100%[===================>]   1.55G  70.7MB/s    in 22s     \n",
            "\n",
            "2024-12-09 01:53:43 (73.3 MB/s) - ‘detectron_model.pth’ saved [1661519645/1661519645]\n",
            "\n",
            "--2024-12-09 01:53:43--  https://dl.fbaipublicfiles.com/vilbert-multi-task/detectron_config.yaml\n",
            "Resolving dl.fbaipublicfiles.com (dl.fbaipublicfiles.com)... 13.226.210.111, 13.226.210.15, 13.226.210.78, ...\n",
            "Connecting to dl.fbaipublicfiles.com (dl.fbaipublicfiles.com)|13.226.210.111|:443... connected.\n",
            "HTTP request sent, awaiting response... 200 OK\n",
            "Length: 1115 (1.1K) [text/plain]\n",
            "Saving to: ‘detectron_config.yaml’\n",
            "\n",
            "detectron_config.ya 100%[===================>]   1.09K  --.-KB/s    in 0s      \n",
            "\n",
            "2024-12-09 01:53:43 (742 MB/s) - ‘detectron_config.yaml’ saved [1115/1115]\n",
            "\n"
          ]
        }
      ]
    },
    {
      "cell_type": "code",
      "source": [
        "%cd ~/github\n",
        "!source activate vilbert-mt && git clone https://gitlab.com/vedanuj/vqa-maskrcnn-benchmark.git\n",
        "%cd vqa-maskrcnn-benchmark\n",
        "# the following will install the lib with\n",
        "# symbolic links, so that you can modify\n",
        "# the files if you want and won't need to\n",
        "# re-build it\n",
        "!source activate vilbert-mt && python setup.py build develop"
      ],
      "metadata": {
        "colab": {
          "base_uri": "https://localhost:8080/"
        },
        "collapsed": true,
        "id": "aPEBuT9E4JS8",
        "outputId": "671b3225-f433-4c20-8da1-577363bcaf2d"
      },
      "execution_count": null,
      "outputs": [
        {
          "output_type": "stream",
          "name": "stdout",
          "text": [
            "/root/github\n",
            "Cloning into 'vqa-maskrcnn-benchmark'...\n",
            "remote: Enumerating objects: 764, done.\u001b[K\n",
            "remote: Counting objects: 100% (35/35), done.\u001b[K\n",
            "remote: Compressing objects: 100% (26/26), done.\u001b[K\n",
            "remote: Total 764 (delta 10), reused 34 (delta 9), pack-reused 729 (from 1)\u001b[K\n",
            "Receiving objects: 100% (764/764), 3.78 MiB | 18.01 MiB/s, done.\n",
            "Resolving deltas: 100% (401/401), done.\n",
            "/root/github/vqa-maskrcnn-benchmark\n",
            "running build\n",
            "running build_py\n",
            "creating build\n",
            "creating build/lib.linux-x86_64-3.6\n",
            "creating build/lib.linux-x86_64-3.6/maskrcnn_benchmark\n",
            "copying maskrcnn_benchmark/__init__.py -> build/lib.linux-x86_64-3.6/maskrcnn_benchmark\n",
            "creating build/lib.linux-x86_64-3.6/maskrcnn_benchmark/modeling\n",
            "copying maskrcnn_benchmark/modeling/poolers.py -> build/lib.linux-x86_64-3.6/maskrcnn_benchmark/modeling\n",
            "copying maskrcnn_benchmark/modeling/matcher.py -> build/lib.linux-x86_64-3.6/maskrcnn_benchmark/modeling\n",
            "copying maskrcnn_benchmark/modeling/balanced_positive_negative_sampler.py -> build/lib.linux-x86_64-3.6/maskrcnn_benchmark/modeling\n",
            "copying maskrcnn_benchmark/modeling/__init__.py -> build/lib.linux-x86_64-3.6/maskrcnn_benchmark/modeling\n",
            "copying maskrcnn_benchmark/modeling/registry.py -> build/lib.linux-x86_64-3.6/maskrcnn_benchmark/modeling\n",
            "copying maskrcnn_benchmark/modeling/utils.py -> build/lib.linux-x86_64-3.6/maskrcnn_benchmark/modeling\n",
            "copying maskrcnn_benchmark/modeling/box_coder.py -> build/lib.linux-x86_64-3.6/maskrcnn_benchmark/modeling\n",
            "creating build/lib.linux-x86_64-3.6/maskrcnn_benchmark/config\n",
            "copying maskrcnn_benchmark/config/__init__.py -> build/lib.linux-x86_64-3.6/maskrcnn_benchmark/config\n",
            "copying maskrcnn_benchmark/config/defaults.py -> build/lib.linux-x86_64-3.6/maskrcnn_benchmark/config\n",
            "copying maskrcnn_benchmark/config/paths_catalog.py -> build/lib.linux-x86_64-3.6/maskrcnn_benchmark/config\n",
            "creating build/lib.linux-x86_64-3.6/maskrcnn_benchmark/data\n",
            "copying maskrcnn_benchmark/data/collate_batch.py -> build/lib.linux-x86_64-3.6/maskrcnn_benchmark/data\n",
            "copying maskrcnn_benchmark/data/build.py -> build/lib.linux-x86_64-3.6/maskrcnn_benchmark/data\n",
            "copying maskrcnn_benchmark/data/__init__.py -> build/lib.linux-x86_64-3.6/maskrcnn_benchmark/data\n",
            "creating build/lib.linux-x86_64-3.6/maskrcnn_benchmark/utils\n",
            "copying maskrcnn_benchmark/utils/env.py -> build/lib.linux-x86_64-3.6/maskrcnn_benchmark/utils\n",
            "copying maskrcnn_benchmark/utils/model_zoo.py -> build/lib.linux-x86_64-3.6/maskrcnn_benchmark/utils\n",
            "copying maskrcnn_benchmark/utils/c2_model_loading.py -> build/lib.linux-x86_64-3.6/maskrcnn_benchmark/utils\n",
            "copying maskrcnn_benchmark/utils/miscellaneous.py -> build/lib.linux-x86_64-3.6/maskrcnn_benchmark/utils\n",
            "copying maskrcnn_benchmark/utils/comm.py -> build/lib.linux-x86_64-3.6/maskrcnn_benchmark/utils\n",
            "copying maskrcnn_benchmark/utils/__init__.py -> build/lib.linux-x86_64-3.6/maskrcnn_benchmark/utils\n",
            "copying maskrcnn_benchmark/utils/metric_logger.py -> build/lib.linux-x86_64-3.6/maskrcnn_benchmark/utils\n",
            "copying maskrcnn_benchmark/utils/collect_env.py -> build/lib.linux-x86_64-3.6/maskrcnn_benchmark/utils\n",
            "copying maskrcnn_benchmark/utils/checkpoint.py -> build/lib.linux-x86_64-3.6/maskrcnn_benchmark/utils\n",
            "copying maskrcnn_benchmark/utils/registry.py -> build/lib.linux-x86_64-3.6/maskrcnn_benchmark/utils\n",
            "copying maskrcnn_benchmark/utils/logger.py -> build/lib.linux-x86_64-3.6/maskrcnn_benchmark/utils\n",
            "copying maskrcnn_benchmark/utils/model_serialization.py -> build/lib.linux-x86_64-3.6/maskrcnn_benchmark/utils\n",
            "copying maskrcnn_benchmark/utils/imports.py -> build/lib.linux-x86_64-3.6/maskrcnn_benchmark/utils\n",
            "creating build/lib.linux-x86_64-3.6/maskrcnn_benchmark/engine\n",
            "copying maskrcnn_benchmark/engine/trainer.py -> build/lib.linux-x86_64-3.6/maskrcnn_benchmark/engine\n",
            "copying maskrcnn_benchmark/engine/__init__.py -> build/lib.linux-x86_64-3.6/maskrcnn_benchmark/engine\n",
            "copying maskrcnn_benchmark/engine/inference.py -> build/lib.linux-x86_64-3.6/maskrcnn_benchmark/engine\n",
            "creating build/lib.linux-x86_64-3.6/maskrcnn_benchmark/structures\n",
            "copying maskrcnn_benchmark/structures/image_list.py -> build/lib.linux-x86_64-3.6/maskrcnn_benchmark/structures\n",
            "copying maskrcnn_benchmark/structures/segmentation_mask.py -> build/lib.linux-x86_64-3.6/maskrcnn_benchmark/structures\n",
            "copying maskrcnn_benchmark/structures/bounding_box.py -> build/lib.linux-x86_64-3.6/maskrcnn_benchmark/structures\n",
            "copying maskrcnn_benchmark/structures/__init__.py -> build/lib.linux-x86_64-3.6/maskrcnn_benchmark/structures\n",
            "copying maskrcnn_benchmark/structures/boxlist_ops.py -> build/lib.linux-x86_64-3.6/maskrcnn_benchmark/structures\n",
            "creating build/lib.linux-x86_64-3.6/maskrcnn_benchmark/layers\n",
            "copying maskrcnn_benchmark/layers/smooth_l1_loss.py -> build/lib.linux-x86_64-3.6/maskrcnn_benchmark/layers\n",
            "copying maskrcnn_benchmark/layers/roi_pool.py -> build/lib.linux-x86_64-3.6/maskrcnn_benchmark/layers\n",
            "copying maskrcnn_benchmark/layers/nms.py -> build/lib.linux-x86_64-3.6/maskrcnn_benchmark/layers\n",
            "copying maskrcnn_benchmark/layers/__init__.py -> build/lib.linux-x86_64-3.6/maskrcnn_benchmark/layers\n",
            "copying maskrcnn_benchmark/layers/_utils.py -> build/lib.linux-x86_64-3.6/maskrcnn_benchmark/layers\n",
            "copying maskrcnn_benchmark/layers/roi_align.py -> build/lib.linux-x86_64-3.6/maskrcnn_benchmark/layers\n",
            "copying maskrcnn_benchmark/layers/batch_norm.py -> build/lib.linux-x86_64-3.6/maskrcnn_benchmark/layers\n",
            "copying maskrcnn_benchmark/layers/misc.py -> build/lib.linux-x86_64-3.6/maskrcnn_benchmark/layers\n",
            "creating build/lib.linux-x86_64-3.6/maskrcnn_benchmark/solver\n",
            "copying maskrcnn_benchmark/solver/build.py -> build/lib.linux-x86_64-3.6/maskrcnn_benchmark/solver\n",
            "copying maskrcnn_benchmark/solver/lr_scheduler.py -> build/lib.linux-x86_64-3.6/maskrcnn_benchmark/solver\n",
            "copying maskrcnn_benchmark/solver/__init__.py -> build/lib.linux-x86_64-3.6/maskrcnn_benchmark/solver\n",
            "creating build/lib.linux-x86_64-3.6/maskrcnn_benchmark/modeling/roi_heads\n",
            "copying maskrcnn_benchmark/modeling/roi_heads/roi_heads.py -> build/lib.linux-x86_64-3.6/maskrcnn_benchmark/modeling/roi_heads\n",
            "copying maskrcnn_benchmark/modeling/roi_heads/__init__.py -> build/lib.linux-x86_64-3.6/maskrcnn_benchmark/modeling/roi_heads\n",
            "creating build/lib.linux-x86_64-3.6/maskrcnn_benchmark/modeling/backbone\n",
            "copying maskrcnn_benchmark/modeling/backbone/backbone.py -> build/lib.linux-x86_64-3.6/maskrcnn_benchmark/modeling/backbone\n",
            "copying maskrcnn_benchmark/modeling/backbone/__init__.py -> build/lib.linux-x86_64-3.6/maskrcnn_benchmark/modeling/backbone\n",
            "copying maskrcnn_benchmark/modeling/backbone/resnet.py -> build/lib.linux-x86_64-3.6/maskrcnn_benchmark/modeling/backbone\n",
            "copying maskrcnn_benchmark/modeling/backbone/fpn.py -> build/lib.linux-x86_64-3.6/maskrcnn_benchmark/modeling/backbone\n",
            "creating build/lib.linux-x86_64-3.6/maskrcnn_benchmark/modeling/detector\n",
            "copying maskrcnn_benchmark/modeling/detector/__init__.py -> build/lib.linux-x86_64-3.6/maskrcnn_benchmark/modeling/detector\n",
            "copying maskrcnn_benchmark/modeling/detector/detectors.py -> build/lib.linux-x86_64-3.6/maskrcnn_benchmark/modeling/detector\n",
            "copying maskrcnn_benchmark/modeling/detector/generalized_rcnn.py -> build/lib.linux-x86_64-3.6/maskrcnn_benchmark/modeling/detector\n",
            "creating build/lib.linux-x86_64-3.6/maskrcnn_benchmark/modeling/rpn\n",
            "copying maskrcnn_benchmark/modeling/rpn/rpn.py -> build/lib.linux-x86_64-3.6/maskrcnn_benchmark/modeling/rpn\n",
            "copying maskrcnn_benchmark/modeling/rpn/anchor_generator.py -> build/lib.linux-x86_64-3.6/maskrcnn_benchmark/modeling/rpn\n",
            "copying maskrcnn_benchmark/modeling/rpn/loss.py -> build/lib.linux-x86_64-3.6/maskrcnn_benchmark/modeling/rpn\n",
            "copying maskrcnn_benchmark/modeling/rpn/__init__.py -> build/lib.linux-x86_64-3.6/maskrcnn_benchmark/modeling/rpn\n",
            "copying maskrcnn_benchmark/modeling/rpn/inference.py -> build/lib.linux-x86_64-3.6/maskrcnn_benchmark/modeling/rpn\n",
            "creating build/lib.linux-x86_64-3.6/maskrcnn_benchmark/modeling/roi_heads/mask_head\n",
            "copying maskrcnn_benchmark/modeling/roi_heads/mask_head/roi_mask_feature_extractors.py -> build/lib.linux-x86_64-3.6/maskrcnn_benchmark/modeling/roi_heads/mask_head\n",
            "copying maskrcnn_benchmark/modeling/roi_heads/mask_head/loss.py -> build/lib.linux-x86_64-3.6/maskrcnn_benchmark/modeling/roi_heads/mask_head\n",
            "copying maskrcnn_benchmark/modeling/roi_heads/mask_head/roi_mask_predictors.py -> build/lib.linux-x86_64-3.6/maskrcnn_benchmark/modeling/roi_heads/mask_head\n",
            "copying maskrcnn_benchmark/modeling/roi_heads/mask_head/mask_head.py -> build/lib.linux-x86_64-3.6/maskrcnn_benchmark/modeling/roi_heads/mask_head\n",
            "copying maskrcnn_benchmark/modeling/roi_heads/mask_head/__init__.py -> build/lib.linux-x86_64-3.6/maskrcnn_benchmark/modeling/roi_heads/mask_head\n",
            "copying maskrcnn_benchmark/modeling/roi_heads/mask_head/inference.py -> build/lib.linux-x86_64-3.6/maskrcnn_benchmark/modeling/roi_heads/mask_head\n",
            "creating build/lib.linux-x86_64-3.6/maskrcnn_benchmark/modeling/roi_heads/box_head\n",
            "copying maskrcnn_benchmark/modeling/roi_heads/box_head/box_head.py -> build/lib.linux-x86_64-3.6/maskrcnn_benchmark/modeling/roi_heads/box_head\n",
            "copying maskrcnn_benchmark/modeling/roi_heads/box_head/loss.py -> build/lib.linux-x86_64-3.6/maskrcnn_benchmark/modeling/roi_heads/box_head\n",
            "copying maskrcnn_benchmark/modeling/roi_heads/box_head/__init__.py -> build/lib.linux-x86_64-3.6/maskrcnn_benchmark/modeling/roi_heads/box_head\n",
            "copying maskrcnn_benchmark/modeling/roi_heads/box_head/roi_box_predictors.py -> build/lib.linux-x86_64-3.6/maskrcnn_benchmark/modeling/roi_heads/box_head\n",
            "copying maskrcnn_benchmark/modeling/roi_heads/box_head/inference.py -> build/lib.linux-x86_64-3.6/maskrcnn_benchmark/modeling/roi_heads/box_head\n",
            "copying maskrcnn_benchmark/modeling/roi_heads/box_head/roi_box_feature_extractors.py -> build/lib.linux-x86_64-3.6/maskrcnn_benchmark/modeling/roi_heads/box_head\n",
            "creating build/lib.linux-x86_64-3.6/maskrcnn_benchmark/data/datasets\n",
            "copying maskrcnn_benchmark/data/datasets/coco.py -> build/lib.linux-x86_64-3.6/maskrcnn_benchmark/data/datasets\n",
            "copying maskrcnn_benchmark/data/datasets/list_dataset.py -> build/lib.linux-x86_64-3.6/maskrcnn_benchmark/data/datasets\n",
            "copying maskrcnn_benchmark/data/datasets/concat_dataset.py -> build/lib.linux-x86_64-3.6/maskrcnn_benchmark/data/datasets\n",
            "copying maskrcnn_benchmark/data/datasets/__init__.py -> build/lib.linux-x86_64-3.6/maskrcnn_benchmark/data/datasets\n",
            "copying maskrcnn_benchmark/data/datasets/voc.py -> build/lib.linux-x86_64-3.6/maskrcnn_benchmark/data/datasets\n",
            "creating build/lib.linux-x86_64-3.6/maskrcnn_benchmark/data/transforms\n",
            "copying maskrcnn_benchmark/data/transforms/build.py -> build/lib.linux-x86_64-3.6/maskrcnn_benchmark/data/transforms\n",
            "copying maskrcnn_benchmark/data/transforms/__init__.py -> build/lib.linux-x86_64-3.6/maskrcnn_benchmark/data/transforms\n",
            "copying maskrcnn_benchmark/data/transforms/transforms.py -> build/lib.linux-x86_64-3.6/maskrcnn_benchmark/data/transforms\n",
            "creating build/lib.linux-x86_64-3.6/maskrcnn_benchmark/data/samplers\n",
            "copying maskrcnn_benchmark/data/samplers/iteration_based_batch_sampler.py -> build/lib.linux-x86_64-3.6/maskrcnn_benchmark/data/samplers\n",
            "copying maskrcnn_benchmark/data/samplers/distributed.py -> build/lib.linux-x86_64-3.6/maskrcnn_benchmark/data/samplers\n",
            "copying maskrcnn_benchmark/data/samplers/grouped_batch_sampler.py -> build/lib.linux-x86_64-3.6/maskrcnn_benchmark/data/samplers\n",
            "copying maskrcnn_benchmark/data/samplers/__init__.py -> build/lib.linux-x86_64-3.6/maskrcnn_benchmark/data/samplers\n",
            "creating build/lib.linux-x86_64-3.6/maskrcnn_benchmark/data/datasets/evaluation\n",
            "copying maskrcnn_benchmark/data/datasets/evaluation/__init__.py -> build/lib.linux-x86_64-3.6/maskrcnn_benchmark/data/datasets/evaluation\n",
            "creating build/lib.linux-x86_64-3.6/maskrcnn_benchmark/data/datasets/evaluation/coco\n",
            "copying maskrcnn_benchmark/data/datasets/evaluation/coco/coco_eval.py -> build/lib.linux-x86_64-3.6/maskrcnn_benchmark/data/datasets/evaluation/coco\n",
            "copying maskrcnn_benchmark/data/datasets/evaluation/coco/__init__.py -> build/lib.linux-x86_64-3.6/maskrcnn_benchmark/data/datasets/evaluation/coco\n",
            "creating build/lib.linux-x86_64-3.6/maskrcnn_benchmark/data/datasets/evaluation/voc\n",
            "copying maskrcnn_benchmark/data/datasets/evaluation/voc/voc_eval.py -> build/lib.linux-x86_64-3.6/maskrcnn_benchmark/data/datasets/evaluation/voc\n",
            "copying maskrcnn_benchmark/data/datasets/evaluation/voc/__init__.py -> build/lib.linux-x86_64-3.6/maskrcnn_benchmark/data/datasets/evaluation/voc\n",
            "running build_ext\n",
            "Traceback (most recent call last):\n",
            "  File \"setup.py\", line 68, in <module>\n",
            "    cmdclass={\"build_ext\": torch.utils.cpp_extension.BuildExtension},\n",
            "  File \"/usr/local/envs/vilbert-mt/lib/python3.6/site-packages/setuptools/__init__.py\", line 153, in setup\n",
            "    return distutils.core.setup(**attrs)\n",
            "  File \"/usr/local/envs/vilbert-mt/lib/python3.6/distutils/core.py\", line 148, in setup\n",
            "    dist.run_commands()\n",
            "  File \"/usr/local/envs/vilbert-mt/lib/python3.6/distutils/dist.py\", line 955, in run_commands\n",
            "    self.run_command(cmd)\n",
            "  File \"/usr/local/envs/vilbert-mt/lib/python3.6/distutils/dist.py\", line 974, in run_command\n",
            "    cmd_obj.run()\n",
            "  File \"/usr/local/envs/vilbert-mt/lib/python3.6/distutils/command/build.py\", line 135, in run\n",
            "    self.run_command(cmd_name)\n",
            "  File \"/usr/local/envs/vilbert-mt/lib/python3.6/distutils/cmd.py\", line 313, in run_command\n",
            "    self.distribution.run_command(command)\n",
            "  File \"/usr/local/envs/vilbert-mt/lib/python3.6/distutils/dist.py\", line 974, in run_command\n",
            "    cmd_obj.run()\n",
            "  File \"/usr/local/envs/vilbert-mt/lib/python3.6/site-packages/setuptools/command/build_ext.py\", line 79, in run\n",
            "    _build_ext.run(self)\n",
            "  File \"/usr/local/envs/vilbert-mt/lib/python3.6/distutils/command/build_ext.py\", line 339, in run\n",
            "    self.build_extensions()\n",
            "  File \"/usr/local/envs/vilbert-mt/lib/python3.6/site-packages/torch/utils/cpp_extension.py\", line 404, in build_extensions\n",
            "    self._check_cuda_version()\n",
            "  File \"/usr/local/envs/vilbert-mt/lib/python3.6/site-packages/torch/utils/cpp_extension.py\", line 781, in _check_cuda_version\n",
            "    raise RuntimeError(CUDA_MISMATCH_MESSAGE.format(cuda_str_version, torch.version.cuda))\n",
            "RuntimeError: \n",
            "The detected CUDA version (12.2) mismatches the version that was used to compile\n",
            "PyTorch (10.2). Please make sure to use the same CUDA versions.\n",
            "\n"
          ]
        }
      ]
    },
    {
      "cell_type": "code",
      "source": [
        "%cd ~/github\n",
        "!source activate vilbert-mt && git clone https://github.com/facebookresearch/vilbert-multi-task.git"
      ],
      "metadata": {
        "colab": {
          "base_uri": "https://localhost:8080/"
        },
        "id": "xOmBJBKlEB5l",
        "outputId": "f1c0e47c-44b3-440e-9b6c-483f56a02c6c"
      },
      "execution_count": null,
      "outputs": [
        {
          "output_type": "stream",
          "name": "stdout",
          "text": [
            "/root/github\n",
            "Cloning into 'vilbert-multi-task'...\n",
            "remote: Enumerating objects: 2017, done.\u001b[K\n",
            "remote: Counting objects: 100% (536/536), done.\u001b[K\n",
            "remote: Compressing objects: 100% (41/41), done.\u001b[K\n",
            "remote: Total 2017 (delta 511), reused 495 (delta 495), pack-reused 1481 (from 1)\u001b[K\n",
            "Receiving objects: 100% (2017/2017), 117.15 MiB | 25.70 MiB/s, done.\n",
            "Resolving deltas: 100% (1454/1454), done.\n"
          ]
        }
      ]
    },
    {
      "cell_type": "code",
      "source": [
        "# !source activate vilbert-mt && mkdir -p ~/github/data/output8k\n",
        "# %cd ~/github\n",
        "# !source activate vilbert-mt && python vilbert-multi-task/script/extract_features.py --model_file data/detectron_model.pth --config_file data/detectron_config.yaml --image_dir data/flickr8k/Images/ --output_folder data/output8k/"
      ],
      "metadata": {
        "id": "JuclTNisB9UQ"
      },
      "execution_count": null,
      "outputs": []
    },
    {
      "source": [
        "# import numpy as np\n",
        "\n",
        "# # Load the data with allow_pickle=True\n",
        "# data = np.load('/root/github/data/output8k/1028205764_7e8df9a2ea.npy', allow_pickle=True)"
      ],
      "cell_type": "code",
      "metadata": {
        "id": "Lyralmq2NBRC"
      },
      "execution_count": null,
      "outputs": []
    },
    {
      "cell_type": "code",
      "source": [
        "# %mkdir -p /root/github/data/output8k_Steve\n",
        "# %cd /root/github/data/output8k_Steve\n",
        "# !wget https://drive.google.com/file/d/169cD0h5JwwFpgXMqeTUJrK6pVzpXwgpy/output8k.zip"
      ],
      "metadata": {
        "id": "cJLfEFCRM57b"
      },
      "execution_count": null,
      "outputs": []
    },
    {
      "cell_type": "code",
      "source": [
        "%mkdir -p ~/github/vilbert-multi-task/save\n",
        "%cd ~/github/vilbert-multi-task\n",
        "# Download pre-trained model for villbert_beta\n",
        "!gdown --id 1-e3Qw_KId03ihwL1HnbGdEDJOL3xYHdK -O /root/github/vilbert-multi-task/save/pytorch_model_8.bin\n",
        "# %mkdir -p /root/github/data/output8k_Steve\n",
        "# %cd /root/github/data/output8k_Steve\n",
        "# !gdown 169cD0h5JwwFpgXMqeTUJrK6pVzpXwgpy"
      ],
      "metadata": {
        "id": "lhUQHcOQNEJK",
        "colab": {
          "base_uri": "https://localhost:8080/"
        },
        "outputId": "b2faee48-1200-4079-f6da-8a02f4ecfd5d"
      },
      "execution_count": null,
      "outputs": [
        {
          "output_type": "stream",
          "name": "stdout",
          "text": [
            "/root/github/vilbert-multi-task\n",
            "/usr/local/lib/python3.10/dist-packages/gdown/__main__.py:140: FutureWarning: Option `--id` was deprecated in version 4.3.1 and will be removed in 5.0. You don't need to pass it anymore to use a file ID.\n",
            "  warnings.warn(\n",
            "Downloading...\n",
            "From (original): https://drive.google.com/uc?id=1-e3Qw_KId03ihwL1HnbGdEDJOL3xYHdK\n",
            "From (redirected): https://drive.google.com/uc?id=1-e3Qw_KId03ihwL1HnbGdEDJOL3xYHdK&confirm=t&uuid=9adfb9ef-63d0-4f43-a2a9-de43f48d35e5\n",
            "To: /root/github/vilbert-multi-task/save/pytorch_model_8.bin\n",
            "100% 1.00G/1.00G [00:11<00:00, 89.4MB/s]\n"
          ]
        }
      ]
    },
    {
      "cell_type": "code",
      "source": [
        "# import zipfile\n",
        "\n",
        "# # Path to the zip file\n",
        "# zip_path = \"/root/github/data/output8k_Steve/output8k.zip\"\n",
        "# # Path where you want to extract the contents\n",
        "# extract_to = \"/root/github/data/output8k_Steve/\"\n",
        "\n",
        "# # Unzip the file\n",
        "# with zipfile.ZipFile(zip_path, 'r') as zip_ref:\n",
        "#     zip_ref.extractall(extract_to)\n",
        "\n",
        "# print(f\"Files extracted to {extract_to}\")\n"
      ],
      "metadata": {
        "id": "xuBaJTglfK98"
      },
      "execution_count": null,
      "outputs": []
    },
    {
      "cell_type": "code",
      "source": [
        "# !source activate vilbert-mt && mkdir -p ~/github/data/lmdb8k\n",
        "# %cd ~/github\n",
        "# !source activate vilbert-mt && python vilbert-multi-task/script/convert_to_lmdb.py --features_dir /root/github/data/output8k_Steve/root/github/data/output8k/ --lmdb_file data/lmdb8k"
      ],
      "metadata": {
        "id": "t_iSzFUjhk5R"
      },
      "execution_count": null,
      "outputs": []
    },
    {
      "cell_type": "code",
      "source": [
        "# %cd ~/github\n",
        "# zip_path = \"data/lmdb8k.zip\"\n",
        "# folder_to_compress = \"/root/github/data/lmdb8k\"\n",
        "\n",
        "# # Create a ZipFile object and add files\n",
        "# with zipfile.ZipFile(zip_path, 'w') as zipf:\n",
        "#     for root, dirs, files in os.walk(folder_to_compress):\n",
        "#         for file in files:\n",
        "#             file_path = os.path.join(root, file)\n",
        "#             arcname = os.path.relpath(file_path, folder_to_compress)  # Preserve folder structure\n",
        "#             zipf.write(file_path, arcname)\n",
        "\n",
        "# print(f\"Files compressed into: {zip_path}\")"
      ],
      "metadata": {
        "id": "oW0ASSL9k-zH"
      },
      "execution_count": null,
      "outputs": []
    },
    {
      "cell_type": "code",
      "source": [
        "%mkdir -p ~/github/vilbert-multi-task/save\n",
        "%cd ~/github/vilbert-multi-task\n",
        "# Download pre-trained model for villbert_beta\n",
        "!gdown --id 1-e3Qw_KId03ihwL1HnbGdEDJOL3xYHdK -O /root/github/vilbert-multi-task/save/pytorch_model_8.bin"
      ],
      "metadata": {
        "colab": {
          "base_uri": "https://localhost:8080/"
        },
        "id": "s5xU4JD2KF-0",
        "outputId": "2c23a6f6-117c-46fb-da1b-c8f70fe685ab"
      },
      "execution_count": null,
      "outputs": [
        {
          "output_type": "stream",
          "name": "stdout",
          "text": [
            "/root/github/vilbert-multi-task\n",
            "/usr/local/lib/python3.10/dist-packages/gdown/__main__.py:140: FutureWarning: Option `--id` was deprecated in version 4.3.1 and will be removed in 5.0. You don't need to pass it anymore to use a file ID.\n",
            "  warnings.warn(\n",
            "Downloading...\n",
            "From (original): https://drive.google.com/uc?id=1-e3Qw_KId03ihwL1HnbGdEDJOL3xYHdK\n",
            "From (redirected): https://drive.google.com/uc?id=1-e3Qw_KId03ihwL1HnbGdEDJOL3xYHdK&confirm=t&uuid=f0b3b49c-d83c-4503-9ca8-35718c3cb9b2\n",
            "To: /root/github/vilbert-multi-task/save/pytorch_model_8.bin\n",
            "100% 1.00G/1.00G [00:10<00:00, 95.1MB/s]\n"
          ]
        }
      ]
    },
    {
      "cell_type": "code",
      "source": [
        "%mkdir -p ~/github/vilbert-multi-task/data/flickr8k\n",
        "%cd ~/github/vilbert-multi-task/data/flickr8k\n",
        "!gdown 1MzNEbe92Cz32Hi-RR8tjDTZiD8UF511W\n",
        "!gdown 1SE0hDiZ8ZZSSq7agjW6hRa2yw1uaegTm\n",
        "!unzip -q lmdb8k.zip -d ./flickr8k.lmdb"
      ],
      "metadata": {
        "colab": {
          "base_uri": "https://localhost:8080/"
        },
        "id": "IsEdBO0YLPk8",
        "outputId": "aedd9ed3-06a3-42da-f703-b1362343d900"
      },
      "execution_count": null,
      "outputs": [
        {
          "output_type": "stream",
          "name": "stdout",
          "text": [
            "/root/github/vilbert-multi-task/data/flickr8k\n",
            "Downloading...\n",
            "From (original): https://drive.google.com/uc?id=1MzNEbe92Cz32Hi-RR8tjDTZiD8UF511W\n",
            "From (redirected): https://drive.google.com/uc?id=1MzNEbe92Cz32Hi-RR8tjDTZiD8UF511W&confirm=t&uuid=fb8b801e-6528-4a0d-b707-981a1fb6aca9\n",
            "To: /root/github/vilbert-multi-task/data/flickr8k/lmdb8k.zip\n",
            "100% 6.66G/6.66G [01:48<00:00, 61.5MB/s]\n",
            "Downloading...\n",
            "From: https://drive.google.com/uc?id=1SE0hDiZ8ZZSSq7agjW6hRa2yw1uaegTm\n",
            "To: /root/github/vilbert-multi-task/data/flickr8k/flickr8k.jsonline\n",
            "100% 2.95M/2.95M [00:00<00:00, 26.9MB/s]\n"
          ]
        }
      ]
    },
    {
      "cell_type": "code",
      "source": [
        "!pip install pandas\n",
        "!pip install jsonlines"
      ],
      "metadata": {
        "colab": {
          "base_uri": "https://localhost:8080/"
        },
        "id": "z36uBcAmmxpM",
        "outputId": "7fe4c8f2-4b95-42ed-e0a3-62f634d718d7"
      },
      "execution_count": null,
      "outputs": [
        {
          "output_type": "stream",
          "name": "stdout",
          "text": [
            "Collecting pandas\n",
            "  Downloading pandas-2.2.3-cp312-cp312-manylinux_2_17_x86_64.manylinux2014_x86_64.whl.metadata (89 kB)\n",
            "Collecting numpy>=1.26.0 (from pandas)\n",
            "  Downloading numpy-2.2.0-cp312-cp312-manylinux_2_17_x86_64.manylinux2014_x86_64.whl.metadata (62 kB)\n",
            "Collecting python-dateutil>=2.8.2 (from pandas)\n",
            "  Downloading python_dateutil-2.9.0.post0-py2.py3-none-any.whl.metadata (8.4 kB)\n",
            "Collecting pytz>=2020.1 (from pandas)\n",
            "  Downloading pytz-2024.2-py2.py3-none-any.whl.metadata (22 kB)\n",
            "Collecting tzdata>=2022.7 (from pandas)\n",
            "  Downloading tzdata-2024.2-py2.py3-none-any.whl.metadata (1.4 kB)\n",
            "Collecting six>=1.5 (from python-dateutil>=2.8.2->pandas)\n",
            "  Downloading six-1.17.0-py2.py3-none-any.whl.metadata (1.7 kB)\n",
            "Downloading pandas-2.2.3-cp312-cp312-manylinux_2_17_x86_64.manylinux2014_x86_64.whl (12.7 MB)\n",
            "\u001b[2K   \u001b[90m━━━━━━━━━━━━━━━━━━━━━━━━━━━━━━━━━━━━━━━━\u001b[0m \u001b[32m12.7/12.7 MB\u001b[0m \u001b[31m35.7 MB/s\u001b[0m eta \u001b[36m0:00:00\u001b[0m\n",
            "\u001b[?25hDownloading numpy-2.2.0-cp312-cp312-manylinux_2_17_x86_64.manylinux2014_x86_64.whl (16.1 MB)\n",
            "\u001b[2K   \u001b[90m━━━━━━━━━━━━━━━━━━━━━━━━━━━━━━━━━━━━━━━━\u001b[0m \u001b[32m16.1/16.1 MB\u001b[0m \u001b[31m59.4 MB/s\u001b[0m eta \u001b[36m0:00:00\u001b[0m\n",
            "\u001b[?25hDownloading python_dateutil-2.9.0.post0-py2.py3-none-any.whl (229 kB)\n",
            "Downloading pytz-2024.2-py2.py3-none-any.whl (508 kB)\n",
            "Downloading tzdata-2024.2-py2.py3-none-any.whl (346 kB)\n",
            "Downloading six-1.17.0-py2.py3-none-any.whl (11 kB)\n",
            "Installing collected packages: pytz, tzdata, six, numpy, python-dateutil, pandas\n",
            "Successfully installed numpy-2.2.0 pandas-2.2.3 python-dateutil-2.9.0.post0 pytz-2024.2 six-1.17.0 tzdata-2024.2\n",
            "Collecting jsonlines\n",
            "  Downloading jsonlines-4.0.0-py3-none-any.whl.metadata (1.6 kB)\n",
            "Collecting attrs>=19.2.0 (from jsonlines)\n",
            "  Downloading attrs-24.2.0-py3-none-any.whl.metadata (11 kB)\n",
            "Downloading jsonlines-4.0.0-py3-none-any.whl (8.7 kB)\n",
            "Downloading attrs-24.2.0-py3-none-any.whl (63 kB)\n",
            "Installing collected packages: attrs, jsonlines\n",
            "Successfully installed attrs-24.2.0 jsonlines-4.0.0\n"
          ]
        }
      ]
    },
    {
      "cell_type": "code",
      "source": [
        "# import pandas as pd\n",
        "# import json\n",
        "\n",
        "# df = pd.read_csv('/root/github/data/flickr8k/captions.txt')\n",
        "# df = df[['image', 'caption']].groupby('image')['caption'].apply(list).reset_index(name='sentences')\n",
        "# df.drop_duplicates(subset=['image'], inplace=True)\n",
        "\n",
        "# flist = []\n",
        "# count = 0\n",
        "# for i, row in df.iterrows():\n",
        "#     count += 1\n",
        "#     temp = {}\n",
        "#     temp['sentences'] = row['sentences']\n",
        "#     temp['id'] = int(count)\n",
        "#     temp['img_path'] = str(row['image'])\n",
        "#     flist.append(temp)\n",
        "\n",
        "# # Write to a .jsonlines file manually\n",
        "# with open('data/flickr8k.jsonline', 'w') as f:\n",
        "#     for item in flist:\n",
        "#         f.write(json.dumps(item) + '\\n')\n"
      ],
      "metadata": {
        "id": "gSSIOif5kvh-"
      },
      "execution_count": null,
      "outputs": []
    },
    {
      "cell_type": "code",
      "source": [
        "import json\n",
        "%cd ~/github/vilbert-multi-task/data/flickr8k\n",
        "# Read the flickr8k.jsonline file\n",
        "with open(\"flickr8k.jsonline\", \"r\") as f:\n",
        "    data = [json.loads(line) for line in f]\n",
        "\n",
        "# Shuffle the data\n",
        "import random\n",
        "random.seed(42)  # Set seed for reproducibility\n",
        "random.shuffle(data)\n",
        "\n",
        "# Split the data (80% train, 20% test)\n",
        "train_ratio = 0.8\n",
        "train_size = int(train_ratio * len(data))\n",
        "\n",
        "train_data = data[:train_size]\n",
        "test_data = data[train_size:]\n",
        "\n",
        "# Save the train and test data back into separate files\n",
        "with open(\"flickr8k_train.jsonline\", \"w\") as train_file:\n",
        "    for item in train_data:\n",
        "        train_file.write(json.dumps(item) + '\\n')\n",
        "\n",
        "with open(\"flickr8k_test.jsonline\", \"w\") as test_file:\n",
        "    for item in test_data:\n",
        "        test_file.write(json.dumps(item) + '\\n')\n",
        "\n",
        "print(f\"Split complete: {len(train_data)} training samples, {len(test_data)} testing samples.\")"
      ],
      "metadata": {
        "colab": {
          "base_uri": "https://localhost:8080/"
        },
        "id": "iJrm1VOvob8q",
        "outputId": "93255a42-55fd-43f4-f586-cb455421c69e"
      },
      "execution_count": null,
      "outputs": [
        {
          "output_type": "stream",
          "name": "stdout",
          "text": [
            "/root/github/vilbert-multi-task/data/flickr8k\n",
            "Split complete: 6472 training samples, 1619 testing samples.\n"
          ]
        }
      ]
    },
    {
      "cell_type": "code",
      "source": [
        "%mkdir -p ~/github/vilbert-multi-task/save/multitask_model\n",
        "%cd ~/github/vilbert-multi-task"
      ],
      "metadata": {
        "colab": {
          "base_uri": "https://localhost:8080/"
        },
        "id": "pFgyL1cdOFpa",
        "outputId": "d6982f9f-e9fb-444d-e3ee-314447251119"
      },
      "execution_count": null,
      "outputs": [
        {
          "output_type": "stream",
          "name": "stdout",
          "text": [
            "/root/github/vilbert-multi-task\n"
          ]
        }
      ]
    },
    {
      "cell_type": "code",
      "source": [
        "%cd ~/github/vilbert-multi-task/tools/\n",
        "!source activate vilbert-mt && git clone https://github.com/lichengunc/refer.git\n",
        "%cd ~/github/vilbert-multi-task/tools/refer\n",
        "!source activate vilbert-mt && git checkout d23ec5d"
      ],
      "metadata": {
        "colab": {
          "base_uri": "https://localhost:8080/"
        },
        "id": "nP8RNtaFRfXl",
        "outputId": "5ea4e77c-5036-4fe4-9cce-38d3e0ce462a"
      },
      "execution_count": null,
      "outputs": [
        {
          "output_type": "stream",
          "name": "stdout",
          "text": [
            "/root/github/vilbert-multi-task/tools\n",
            "Cloning into 'refer'...\n",
            "remote: Enumerating objects: 191, done.\u001b[K\n",
            "remote: Counting objects: 100% (73/73), done.\u001b[K\n",
            "remote: Compressing objects: 100% (26/26), done.\u001b[K\n",
            "remote: Total 191 (delta 54), reused 47 (delta 47), pack-reused 118 (from 1)\u001b[K\n",
            "Receiving objects: 100% (191/191), 71.66 MiB | 18.82 MiB/s, done.\n",
            "Resolving deltas: 100% (79/79), done.\n",
            "/root/github/vilbert-multi-task/tools/refer\n",
            "Note: switching to 'd23ec5d'.\n",
            "\n",
            "You are in 'detached HEAD' state. You can look around, make experimental\n",
            "changes and commit them, and you can discard any commits you make in this\n",
            "state without impacting any branches by switching back to a branch.\n",
            "\n",
            "If you want to create a new branch to retain commits you create, you may\n",
            "do so (now or later) by using -c with the switch command. Example:\n",
            "\n",
            "  git switch -c <new-branch-name>\n",
            "\n",
            "Or undo this operation with:\n",
            "\n",
            "  git switch -\n",
            "\n",
            "Turn off this advice by setting config variable advice.detachedHead to false\n",
            "\n",
            "HEAD is now at d23ec5d license added\n"
          ]
        }
      ]
    },
    {
      "cell_type": "code",
      "source": [
        "!source activate vilbert-mt && pip install scikit-image\n",
        "!source activate vilbert-mt && pip install ipykernel\n",
        "!source activate vilbert-mt && pip install external"
      ],
      "metadata": {
        "colab": {
          "base_uri": "https://localhost:8080/"
        },
        "id": "JIlQDrgxZP-1",
        "outputId": "885ee7ab-b327-442f-a970-20c8acbfb291"
      },
      "execution_count": null,
      "outputs": [
        {
          "output_type": "stream",
          "name": "stdout",
          "text": [
            "Collecting scikit-image\n",
            "  Downloading scikit_image-0.17.2-cp36-cp36m-manylinux1_x86_64.whl (12.4 MB)\n",
            "\u001b[K     |████████████████████████████████| 12.4 MB 5.7 MB/s \n",
            "\u001b[?25hCollecting imageio>=2.3.0\n",
            "  Downloading imageio-2.15.0-py3-none-any.whl (3.3 MB)\n",
            "\u001b[K     |████████████████████████████████| 3.3 MB 36.1 MB/s \n",
            "\u001b[?25hCollecting tifffile>=2019.7.26\n",
            "  Downloading tifffile-2020.9.3-py3-none-any.whl (148 kB)\n",
            "\u001b[K     |████████████████████████████████| 148 kB 71.7 MB/s \n",
            "\u001b[?25hCollecting PyWavelets>=1.1.1\n",
            "  Downloading PyWavelets-1.1.1-cp36-cp36m-manylinux1_x86_64.whl (4.4 MB)\n",
            "\u001b[K     |████████████████████████████████| 4.4 MB 54.3 MB/s \n",
            "\u001b[?25hRequirement already satisfied: pillow!=7.1.0,!=7.1.1,>=4.3.0 in /usr/local/envs/vilbert-mt/lib/python3.6/site-packages (from scikit-image) (8.4.0)\n",
            "Collecting networkx>=2.0\n",
            "  Downloading networkx-2.5.1-py3-none-any.whl (1.6 MB)\n",
            "\u001b[K     |████████████████████████████████| 1.6 MB 61.3 MB/s \n",
            "\u001b[?25hRequirement already satisfied: matplotlib!=3.0.0,>=2.0.0 in /usr/local/envs/vilbert-mt/lib/python3.6/site-packages (from scikit-image) (3.3.4)\n",
            "Collecting scipy>=1.0.1\n",
            "  Downloading scipy-1.5.4-cp36-cp36m-manylinux1_x86_64.whl (25.9 MB)\n",
            "\u001b[K     |████████████████████████████████| 25.9 MB 1.2 MB/s \n",
            "\u001b[?25hRequirement already satisfied: numpy>=1.15.1 in /usr/local/envs/vilbert-mt/lib/python3.6/site-packages (from scikit-image) (1.19.5)\n",
            "Requirement already satisfied: pyparsing!=2.0.4,!=2.1.2,!=2.1.6,>=2.0.3 in /usr/local/envs/vilbert-mt/lib/python3.6/site-packages (from matplotlib!=3.0.0,>=2.0.0->scikit-image) (3.1.4)\n",
            "Requirement already satisfied: kiwisolver>=1.0.1 in /usr/local/envs/vilbert-mt/lib/python3.6/site-packages (from matplotlib!=3.0.0,>=2.0.0->scikit-image) (1.3.1)\n",
            "Requirement already satisfied: cycler>=0.10 in /usr/local/envs/vilbert-mt/lib/python3.6/site-packages (from matplotlib!=3.0.0,>=2.0.0->scikit-image) (0.11.0)\n",
            "Requirement already satisfied: python-dateutil>=2.1 in /usr/local/envs/vilbert-mt/lib/python3.6/site-packages (from matplotlib!=3.0.0,>=2.0.0->scikit-image) (2.9.0.post0)\n",
            "Collecting decorator<5,>=4.3\n",
            "  Downloading decorator-4.4.2-py2.py3-none-any.whl (9.2 kB)\n",
            "Requirement already satisfied: six>=1.5 in /usr/local/envs/vilbert-mt/lib/python3.6/site-packages (from python-dateutil>=2.1->matplotlib!=3.0.0,>=2.0.0->scikit-image) (1.16.0)\n",
            "Installing collected packages: decorator, tifffile, scipy, PyWavelets, networkx, imageio, scikit-image\n",
            "  Attempting uninstall: decorator\n",
            "    Found existing installation: decorator 5.1.1\n",
            "    Uninstalling decorator-5.1.1:\n",
            "      Successfully uninstalled decorator-5.1.1\n",
            "Successfully installed PyWavelets-1.1.1 decorator-4.4.2 imageio-2.15.0 networkx-2.5.1 scikit-image-0.17.2 scipy-1.5.4 tifffile-2020.9.3\n",
            "\u001b[33mWARNING: Running pip as the 'root' user can result in broken permissions and conflicting behaviour with the system package manager. It is recommended to use a virtual environment instead: https://pip.pypa.io/warnings/venv\u001b[0m\n",
            "Collecting ipykernel\n",
            "  Downloading ipykernel-5.5.6-py3-none-any.whl (121 kB)\n",
            "\u001b[K     |████████████████████████████████| 121 kB 6.1 MB/s \n",
            "\u001b[?25hRequirement already satisfied: ipython>=5.0.0 in /usr/local/envs/vilbert-mt/lib/python3.6/site-packages (from ipykernel) (7.16.1)\n",
            "Requirement already satisfied: traitlets>=4.1.0 in /usr/local/envs/vilbert-mt/lib/python3.6/site-packages (from ipykernel) (4.3.3)\n",
            "Collecting tornado>=4.2\n",
            "  Downloading tornado-6.1-cp36-cp36m-manylinux2010_x86_64.whl (427 kB)\n",
            "\u001b[K     |████████████████████████████████| 427 kB 44.7 MB/s \n",
            "\u001b[?25hCollecting jupyter-client\n",
            "  Downloading jupyter_client-7.1.2-py3-none-any.whl (130 kB)\n",
            "\u001b[K     |████████████████████████████████| 130 kB 59.3 MB/s \n",
            "\u001b[?25hRequirement already satisfied: ipython-genutils in /usr/local/envs/vilbert-mt/lib/python3.6/site-packages (from ipykernel) (0.2.0)\n",
            "Requirement already satisfied: jedi>=0.10 in /usr/local/envs/vilbert-mt/lib/python3.6/site-packages (from ipython>=5.0.0->ipykernel) (0.17.2)\n",
            "Requirement already satisfied: pickleshare in /usr/local/envs/vilbert-mt/lib/python3.6/site-packages (from ipython>=5.0.0->ipykernel) (0.7.5)\n",
            "Requirement already satisfied: pexpect in /usr/local/envs/vilbert-mt/lib/python3.6/site-packages (from ipython>=5.0.0->ipykernel) (4.8.0)\n",
            "Requirement already satisfied: prompt-toolkit!=3.0.0,!=3.0.1,<3.1.0,>=2.0.0 in /usr/local/envs/vilbert-mt/lib/python3.6/site-packages (from ipython>=5.0.0->ipykernel) (3.0.20)\n",
            "Requirement already satisfied: setuptools>=18.5 in /usr/local/envs/vilbert-mt/lib/python3.6/site-packages (from ipython>=5.0.0->ipykernel) (58.0.4)\n",
            "Requirement already satisfied: backcall in /usr/local/envs/vilbert-mt/lib/python3.6/site-packages (from ipython>=5.0.0->ipykernel) (0.2.0)\n",
            "Requirement already satisfied: decorator in /usr/local/envs/vilbert-mt/lib/python3.6/site-packages (from ipython>=5.0.0->ipykernel) (4.4.2)\n",
            "Requirement already satisfied: pygments in /usr/local/envs/vilbert-mt/lib/python3.6/site-packages (from ipython>=5.0.0->ipykernel) (2.11.2)\n",
            "Requirement already satisfied: parso<0.8.0,>=0.7.0 in /usr/local/envs/vilbert-mt/lib/python3.6/site-packages (from jedi>=0.10->ipython>=5.0.0->ipykernel) (0.7.0)\n",
            "Requirement already satisfied: wcwidth in /usr/local/envs/vilbert-mt/lib/python3.6/site-packages (from prompt-toolkit!=3.0.0,!=3.0.1,<3.1.0,>=2.0.0->ipython>=5.0.0->ipykernel) (0.2.5)\n",
            "Requirement already satisfied: six in /usr/local/envs/vilbert-mt/lib/python3.6/site-packages (from traitlets>=4.1.0->ipykernel) (1.16.0)\n",
            "Collecting entrypoints\n",
            "  Downloading entrypoints-0.4-py3-none-any.whl (5.3 kB)\n",
            "Collecting jupyter-core>=4.6.0\n",
            "  Downloading jupyter_core-4.9.2-py3-none-any.whl (86 kB)\n",
            "\u001b[K     |████████████████████████████████| 86 kB 8.1 MB/s \n",
            "\u001b[?25hRequirement already satisfied: pyzmq>=13 in /usr/local/envs/vilbert-mt/lib/python3.6/site-packages (from jupyter-client->ipykernel) (25.1.2)\n",
            "Requirement already satisfied: python-dateutil>=2.1 in /usr/local/envs/vilbert-mt/lib/python3.6/site-packages (from jupyter-client->ipykernel) (2.9.0.post0)\n",
            "Collecting nest-asyncio>=1.5\n",
            "  Downloading nest_asyncio-1.6.0-py3-none-any.whl (5.2 kB)\n",
            "Requirement already satisfied: ptyprocess>=0.5 in /usr/local/envs/vilbert-mt/lib/python3.6/site-packages (from pexpect->ipython>=5.0.0->ipykernel) (0.7.0)\n",
            "Installing collected packages: tornado, nest-asyncio, jupyter-core, entrypoints, jupyter-client, ipykernel\n",
            "Successfully installed entrypoints-0.4 ipykernel-5.5.6 jupyter-client-7.1.2 jupyter-core-4.9.2 nest-asyncio-1.6.0 tornado-6.1\n",
            "\u001b[33mWARNING: Running pip as the 'root' user can result in broken permissions and conflicting behaviour with the system package manager. It is recommended to use a virtual environment instead: https://pip.pypa.io/warnings/venv\u001b[0m\n",
            "Collecting external\n",
            "  Downloading external-0.0.1.tar.gz (2.4 kB)\n",
            "Building wheels for collected packages: external\n",
            "  Building wheel for external (setup.py) ... \u001b[?25l\u001b[?25hdone\n",
            "  Created wheel for external: filename=external-0.0.1-py3-none-any.whl size=2753 sha256=07fc6c1d069498053472a54b2a14d863cd69d0eee1443f8c2a0c33c550bcce6a\n",
            "  Stored in directory: /root/.cache/pip/wheels/e7/28/01/f1d94ac1745cd8c5b13df81650cea3e360f1567392bccb2a87\n",
            "Successfully built external\n",
            "Installing collected packages: external\n",
            "Successfully installed external-0.0.1\n",
            "\u001b[33mWARNING: Running pip as the 'root' user can result in broken permissions and conflicting behaviour with the system package manager. It is recommended to use a virtual environment instead: https://pip.pypa.io/warnings/venv\u001b[0m\n"
          ]
        }
      ]
    },
    {
      "cell_type": "code",
      "source": [
        "%cd ~/github/vilbert-multi-task/tools/refer/\n",
        "!source activate vilbert-mt && pip install --upgrade --force-reinstall cython"
      ],
      "metadata": {
        "colab": {
          "base_uri": "https://localhost:8080/"
        },
        "id": "vsLyBbB3RvEa",
        "outputId": "1a31d976-0194-45fc-ae0b-f6cc8b1796d9"
      },
      "execution_count": null,
      "outputs": [
        {
          "output_type": "stream",
          "name": "stdout",
          "text": [
            "/root/github/vilbert-multi-task/tools/refer\n",
            "Collecting cython\n",
            "  Using cached Cython-3.0.11-cp36-cp36m-manylinux_2_17_x86_64.manylinux2014_x86_64.whl (3.5 MB)\n",
            "Installing collected packages: cython\n",
            "  Attempting uninstall: cython\n",
            "    Found existing installation: Cython 3.0.11\n",
            "    Uninstalling Cython-3.0.11:\n",
            "      Successfully uninstalled Cython-3.0.11\n",
            "Successfully installed cython-3.0.11\n",
            "\u001b[33mWARNING: Running pip as the 'root' user can result in broken permissions and conflicting behaviour with the system package manager. It is recommended to use a virtual environment instead: https://pip.pypa.io/warnings/venv\u001b[0m\n"
          ]
        }
      ]
    },
    {
      "cell_type": "code",
      "source": [
        "!source activate vilbert-mt && rm -rf build"
      ],
      "metadata": {
        "id": "793zFm3rU2Zy"
      },
      "execution_count": null,
      "outputs": []
    },
    {
      "cell_type": "code",
      "source": [
        "%cd ~/github/vilbert-multi-task/tools/refer/\n",
        "!source activate vilbert-mt && python setup.py install\n",
        "!source activate vilbert-mt && make"
      ],
      "metadata": {
        "colab": {
          "base_uri": "https://localhost:8080/"
        },
        "id": "XFDxg_IkS0BI",
        "outputId": "93e2f275-a60b-4f9c-dad8-adeae1043e15"
      },
      "execution_count": null,
      "outputs": [
        {
          "output_type": "stream",
          "name": "stdout",
          "text": [
            "/root/github/vilbert-multi-task/tools/refer\n",
            "Compiling external/_mask.pyx because it changed.\n",
            "[1/1] Cythonizing external/_mask.pyx\n",
            "/usr/local/envs/vilbert-mt/lib/python3.6/site-packages/Cython/Compiler/Main.py:381: FutureWarning: Cython directive 'language_level' not set, using '3str' for now (Py3). This has changed from earlier releases! File: /root/github/vilbert-multi-task/tools/refer/external/_mask.pyx\n",
            "  tree = Parsing.p_module(s, pxd, full_module_name)\n",
            "running install\n",
            "running build\n",
            "running build_py\n",
            "creating build\n",
            "creating build/lib.linux-x86_64-3.6\n",
            "creating build/lib.linux-x86_64-3.6/external\n",
            "copying external/__init__.py -> build/lib.linux-x86_64-3.6/external\n",
            "copying external/mask.py -> build/lib.linux-x86_64-3.6/external\n",
            "running build_ext\n",
            "building 'external._mask' extension\n",
            "creating build/temp.linux-x86_64-3.6\n",
            "creating build/temp.linux-x86_64-3.6/external\n",
            "gcc -pthread -B /usr/local/envs/vilbert-mt/compiler_compat -Wl,--sysroot=/ -Wsign-compare -DNDEBUG -g -fwrapv -O3 -Wall -Wstrict-prototypes -fPIC -Iexternal -I/usr/local/envs/vilbert-mt/lib/python3.6/site-packages/numpy/core/include -I/usr/local/envs/vilbert-mt/include/python3.6m -c external/_mask.c -o build/temp.linux-x86_64-3.6/external/_mask.o -Wno-cpp -Wno-unused-function -std=c99\n",
            "gcc -pthread -B /usr/local/envs/vilbert-mt/compiler_compat -Wl,--sysroot=/ -Wsign-compare -DNDEBUG -g -fwrapv -O3 -Wall -Wstrict-prototypes -fPIC -Iexternal -I/usr/local/envs/vilbert-mt/lib/python3.6/site-packages/numpy/core/include -I/usr/local/envs/vilbert-mt/include/python3.6m -c external/maskApi.c -o build/temp.linux-x86_64-3.6/external/maskApi.o -Wno-cpp -Wno-unused-function -std=c99\n",
            "\u001b[01m\u001b[Kexternal/maskApi.c:\u001b[m\u001b[K In function ‘\u001b[01m\u001b[KrleDecode\u001b[m\u001b[K’:\n",
            "\u001b[01m\u001b[Kexternal/maskApi.c:46:7:\u001b[m\u001b[K \u001b[01;35m\u001b[Kwarning: \u001b[m\u001b[Kthis ‘\u001b[01m\u001b[Kfor\u001b[m\u001b[K’ clause does not guard... [\u001b[01;35m\u001b[K\u001b]8;;https://gcc.gnu.org/onlinedocs/gcc/Warning-Options.html#index-Wmisleading-indentation\u0007-Wmisleading-indentation\u001b]8;;\u0007\u001b[m\u001b[K]\n",
            "   46 |       \u001b[01;35m\u001b[Kfor\u001b[m\u001b[K( k=0; k<R[i].cnts[j]; k++ ) *(M++)=v; v=!v; }}\n",
            "      |       \u001b[01;35m\u001b[K^~~\u001b[m\u001b[K\n",
            "\u001b[01m\u001b[Kexternal/maskApi.c:46:49:\u001b[m\u001b[K \u001b[01;36m\u001b[Knote: \u001b[m\u001b[K...this statement, but the latter is misleadingly indented as if it were guarded by the ‘\u001b[01m\u001b[Kfor\u001b[m\u001b[K’\n",
            "   46 |       for( k=0; k<R[i].cnts[j]; k++ ) *(M++)=v; \u001b[01;36m\u001b[Kv\u001b[m\u001b[K=!v; }}\n",
            "      |                                                 \u001b[01;36m\u001b[K^\u001b[m\u001b[K\n",
            "\u001b[01m\u001b[Kexternal/maskApi.c:\u001b[m\u001b[K In function ‘\u001b[01m\u001b[KrleFrPoly\u001b[m\u001b[K’:\n",
            "\u001b[01m\u001b[Kexternal/maskApi.c:165:3:\u001b[m\u001b[K \u001b[01;35m\u001b[Kwarning: \u001b[m\u001b[Kthis ‘\u001b[01m\u001b[Kfor\u001b[m\u001b[K’ clause does not guard... [\u001b[01;35m\u001b[K\u001b]8;;https://gcc.gnu.org/onlinedocs/gcc/Warning-Options.html#index-Wmisleading-indentation\u0007-Wmisleading-indentation\u001b]8;;\u0007\u001b[m\u001b[K]\n",
            "  165 |   \u001b[01;35m\u001b[Kfor\u001b[m\u001b[K(j=0; j<k; j++) x[j]=(int)(scale*xy[j*2+0]+.5); x[k]=x[0];\n",
            "      |   \u001b[01;35m\u001b[K^~~\u001b[m\u001b[K\n",
            "\u001b[01m\u001b[Kexternal/maskApi.c:165:54:\u001b[m\u001b[K \u001b[01;36m\u001b[Knote: \u001b[m\u001b[K...this statement, but the latter is misleadingly indented as if it were guarded by the ‘\u001b[01m\u001b[Kfor\u001b[m\u001b[K’\n",
            "  165 |   for(j=0; j<k; j++) x[j]=(int)(scale*xy[j*2+0]+.5); \u001b[01;36m\u001b[Kx\u001b[m\u001b[K[k]=x[0];\n",
            "      |                                                      \u001b[01;36m\u001b[K^\u001b[m\u001b[K\n",
            "\u001b[01m\u001b[Kexternal/maskApi.c:166:3:\u001b[m\u001b[K \u001b[01;35m\u001b[Kwarning: \u001b[m\u001b[Kthis ‘\u001b[01m\u001b[Kfor\u001b[m\u001b[K’ clause does not guard... [\u001b[01;35m\u001b[K\u001b]8;;https://gcc.gnu.org/onlinedocs/gcc/Warning-Options.html#index-Wmisleading-indentation\u0007-Wmisleading-indentation\u001b]8;;\u0007\u001b[m\u001b[K]\n",
            "  166 |   \u001b[01;35m\u001b[Kfor\u001b[m\u001b[K(j=0; j<k; j++) y[j]=(int)(scale*xy[j*2+1]+.5); y[k]=y[0];\n",
            "      |   \u001b[01;35m\u001b[K^~~\u001b[m\u001b[K\n",
            "\u001b[01m\u001b[Kexternal/maskApi.c:166:54:\u001b[m\u001b[K \u001b[01;36m\u001b[Knote: \u001b[m\u001b[K...this statement, but the latter is misleadingly indented as if it were guarded by the ‘\u001b[01m\u001b[Kfor\u001b[m\u001b[K’\n",
            "  166 |   for(j=0; j<k; j++) y[j]=(int)(scale*xy[j*2+1]+.5); \u001b[01;36m\u001b[Ky\u001b[m\u001b[K[k]=y[0];\n",
            "      |                                                      \u001b[01;36m\u001b[K^\u001b[m\u001b[K\n",
            "\u001b[01m\u001b[Kexternal/maskApi.c:\u001b[m\u001b[K In function ‘\u001b[01m\u001b[KrleToString\u001b[m\u001b[K’:\n",
            "\u001b[01m\u001b[Kexternal/maskApi.c:211:7:\u001b[m\u001b[K \u001b[01;35m\u001b[Kwarning: \u001b[m\u001b[Kthis ‘\u001b[01m\u001b[Kif\u001b[m\u001b[K’ clause does not guard... [\u001b[01;35m\u001b[K\u001b]8;;https://gcc.gnu.org/onlinedocs/gcc/Warning-Options.html#index-Wmisleading-indentation\u0007-Wmisleading-indentation\u001b]8;;\u0007\u001b[m\u001b[K]\n",
            "  211 |       \u001b[01;35m\u001b[Kif\u001b[m\u001b[K(more) c |= 0x20; c+=48; s[p++]=c;\n",
            "      |       \u001b[01;35m\u001b[K^~\u001b[m\u001b[K\n",
            "\u001b[01m\u001b[Kexternal/maskApi.c:211:27:\u001b[m\u001b[K \u001b[01;36m\u001b[Knote: \u001b[m\u001b[K...this statement, but the latter is misleadingly indented as if it were guarded by the ‘\u001b[01m\u001b[Kif\u001b[m\u001b[K’\n",
            "  211 |       if(more) c |= 0x20; \u001b[01;36m\u001b[Kc\u001b[m\u001b[K+=48; s[p++]=c;\n",
            "      |                           \u001b[01;36m\u001b[K^\u001b[m\u001b[K\n",
            "\u001b[01m\u001b[Kexternal/maskApi.c:\u001b[m\u001b[K In function ‘\u001b[01m\u001b[KrleFrString\u001b[m\u001b[K’:\n",
            "\u001b[01m\u001b[Kexternal/maskApi.c:219:3:\u001b[m\u001b[K \u001b[01;35m\u001b[Kwarning: \u001b[m\u001b[Kthis ‘\u001b[01m\u001b[Kwhile\u001b[m\u001b[K’ clause does not guard... [\u001b[01;35m\u001b[K\u001b]8;;https://gcc.gnu.org/onlinedocs/gcc/Warning-Options.html#index-Wmisleading-indentation\u0007-Wmisleading-indentation\u001b]8;;\u0007\u001b[m\u001b[K]\n",
            "  219 |   \u001b[01;35m\u001b[Kwhile\u001b[m\u001b[K( s[m] ) m++; cnts=malloc(sizeof(uint)*m); m=0;\n",
            "      |   \u001b[01;35m\u001b[K^~~~~\u001b[m\u001b[K\n",
            "\u001b[01m\u001b[Kexternal/maskApi.c:219:22:\u001b[m\u001b[K \u001b[01;36m\u001b[Knote: \u001b[m\u001b[K...this statement, but the latter is misleadingly indented as if it were guarded by the ‘\u001b[01m\u001b[Kwhile\u001b[m\u001b[K’\n",
            "  219 |   while( s[m] ) m++; \u001b[01;36m\u001b[Kcnts\u001b[m\u001b[K=malloc(sizeof(uint)*m); m=0;\n",
            "      |                      \u001b[01;36m\u001b[K^~~~\u001b[m\u001b[K\n",
            "\u001b[01m\u001b[Kexternal/maskApi.c:227:5:\u001b[m\u001b[K \u001b[01;35m\u001b[Kwarning: \u001b[m\u001b[Kthis ‘\u001b[01m\u001b[Kif\u001b[m\u001b[K’ clause does not guard... [\u001b[01;35m\u001b[K\u001b]8;;https://gcc.gnu.org/onlinedocs/gcc/Warning-Options.html#index-Wmisleading-indentation\u0007-Wmisleading-indentation\u001b]8;;\u0007\u001b[m\u001b[K]\n",
            "  227 |     \u001b[01;35m\u001b[Kif\u001b[m\u001b[K(m>2) x+=(long) cnts[m-2]; cnts[m++]=(uint) x;\n",
            "      |     \u001b[01;35m\u001b[K^~\u001b[m\u001b[K\n",
            "\u001b[01m\u001b[Kexternal/maskApi.c:227:34:\u001b[m\u001b[K \u001b[01;36m\u001b[Knote: \u001b[m\u001b[K...this statement, but the latter is misleadingly indented as if it were guarded by the ‘\u001b[01m\u001b[Kif\u001b[m\u001b[K’\n",
            "  227 |     if(m>2) x+=(long) cnts[m-2]; \u001b[01;36m\u001b[Kcnts\u001b[m\u001b[K[m++]=(uint) x;\n",
            "      |                                  \u001b[01;36m\u001b[K^~~~\u001b[m\u001b[K\n",
            "gcc -pthread -shared -B /usr/local/envs/vilbert-mt/compiler_compat -L/usr/local/envs/vilbert-mt/lib -Wl,-rpath=/usr/local/envs/vilbert-mt/lib -Wl,--no-as-needed -Wl,--sysroot=/ build/temp.linux-x86_64-3.6/external/_mask.o build/temp.linux-x86_64-3.6/external/maskApi.o -o build/lib.linux-x86_64-3.6/external/_mask.cpython-36m-x86_64-linux-gnu.so\n",
            "running install_lib\n",
            "copying build/lib.linux-x86_64-3.6/external/_mask.cpython-36m-x86_64-linux-gnu.so -> /usr/local/envs/vilbert-mt/lib/python3.6/site-packages/external\n",
            "copying build/lib.linux-x86_64-3.6/external/mask.py -> /usr/local/envs/vilbert-mt/lib/python3.6/site-packages/external\n",
            "byte-compiling /usr/local/envs/vilbert-mt/lib/python3.6/site-packages/external/mask.py to mask.cpython-36.pyc\n",
            "running install_egg_info\n",
            "Writing /usr/local/envs/vilbert-mt/lib/python3.6/site-packages/external-2.0-py3.6.egg-info\n",
            "# install pycocotools/mask locally\n",
            "# copy from https://github.com/pdollar/coco.git\n",
            "python setup.py build_ext --inplace\n",
            "running build_ext\n",
            "building 'external._mask' extension\n",
            "gcc -pthread -B /usr/local/envs/vilbert-mt/compiler_compat -Wl,--sysroot=/ -Wsign-compare -DNDEBUG -g -fwrapv -O3 -Wall -Wstrict-prototypes -fPIC -Iexternal -I/usr/local/envs/vilbert-mt/lib/python3.6/site-packages/numpy/core/include -I/usr/local/envs/vilbert-mt/include/python3.6m -c external/_mask.c -o build/temp.linux-x86_64-3.6/external/_mask.o -Wno-cpp -Wno-unused-function -std=c99\n",
            "gcc -pthread -B /usr/local/envs/vilbert-mt/compiler_compat -Wl,--sysroot=/ -Wsign-compare -DNDEBUG -g -fwrapv -O3 -Wall -Wstrict-prototypes -fPIC -Iexternal -I/usr/local/envs/vilbert-mt/lib/python3.6/site-packages/numpy/core/include -I/usr/local/envs/vilbert-mt/include/python3.6m -c external/maskApi.c -o build/temp.linux-x86_64-3.6/external/maskApi.o -Wno-cpp -Wno-unused-function -std=c99\n",
            "\u001b[01m\u001b[Kexternal/maskApi.c:\u001b[m\u001b[K In function ‘\u001b[01m\u001b[KrleDecode\u001b[m\u001b[K’:\n",
            "\u001b[01m\u001b[Kexternal/maskApi.c:46:7:\u001b[m\u001b[K \u001b[01;35m\u001b[Kwarning: \u001b[m\u001b[Kthis ‘\u001b[01m\u001b[Kfor\u001b[m\u001b[K’ clause does not guard... [\u001b[01;35m\u001b[K\u001b]8;;https://gcc.gnu.org/onlinedocs/gcc/Warning-Options.html#index-Wmisleading-indentation\u0007-Wmisleading-indentation\u001b]8;;\u0007\u001b[m\u001b[K]\n",
            "   46 |       \u001b[01;35m\u001b[Kfor\u001b[m\u001b[K( k=0; k<R[i].cnts[j]; k++ ) *(M++)=v; v=!v; }}\n",
            "      |       \u001b[01;35m\u001b[K^~~\u001b[m\u001b[K\n",
            "\u001b[01m\u001b[Kexternal/maskApi.c:46:49:\u001b[m\u001b[K \u001b[01;36m\u001b[Knote: \u001b[m\u001b[K...this statement, but the latter is misleadingly indented as if it were guarded by the ‘\u001b[01m\u001b[Kfor\u001b[m\u001b[K’\n",
            "   46 |       for( k=0; k<R[i].cnts[j]; k++ ) *(M++)=v; \u001b[01;36m\u001b[Kv\u001b[m\u001b[K=!v; }}\n",
            "      |                                                 \u001b[01;36m\u001b[K^\u001b[m\u001b[K\n",
            "\u001b[01m\u001b[Kexternal/maskApi.c:\u001b[m\u001b[K In function ‘\u001b[01m\u001b[KrleFrPoly\u001b[m\u001b[K’:\n",
            "\u001b[01m\u001b[Kexternal/maskApi.c:165:3:\u001b[m\u001b[K \u001b[01;35m\u001b[Kwarning: \u001b[m\u001b[Kthis ‘\u001b[01m\u001b[Kfor\u001b[m\u001b[K’ clause does not guard... [\u001b[01;35m\u001b[K\u001b]8;;https://gcc.gnu.org/onlinedocs/gcc/Warning-Options.html#index-Wmisleading-indentation\u0007-Wmisleading-indentation\u001b]8;;\u0007\u001b[m\u001b[K]\n",
            "  165 |   \u001b[01;35m\u001b[Kfor\u001b[m\u001b[K(j=0; j<k; j++) x[j]=(int)(scale*xy[j*2+0]+.5); x[k]=x[0];\n",
            "      |   \u001b[01;35m\u001b[K^~~\u001b[m\u001b[K\n",
            "\u001b[01m\u001b[Kexternal/maskApi.c:165:54:\u001b[m\u001b[K \u001b[01;36m\u001b[Knote: \u001b[m\u001b[K...this statement, but the latter is misleadingly indented as if it were guarded by the ‘\u001b[01m\u001b[Kfor\u001b[m\u001b[K’\n",
            "  165 |   for(j=0; j<k; j++) x[j]=(int)(scale*xy[j*2+0]+.5); \u001b[01;36m\u001b[Kx\u001b[m\u001b[K[k]=x[0];\n",
            "      |                                                      \u001b[01;36m\u001b[K^\u001b[m\u001b[K\n",
            "\u001b[01m\u001b[Kexternal/maskApi.c:166:3:\u001b[m\u001b[K \u001b[01;35m\u001b[Kwarning: \u001b[m\u001b[Kthis ‘\u001b[01m\u001b[Kfor\u001b[m\u001b[K’ clause does not guard... [\u001b[01;35m\u001b[K\u001b]8;;https://gcc.gnu.org/onlinedocs/gcc/Warning-Options.html#index-Wmisleading-indentation\u0007-Wmisleading-indentation\u001b]8;;\u0007\u001b[m\u001b[K]\n",
            "  166 |   \u001b[01;35m\u001b[Kfor\u001b[m\u001b[K(j=0; j<k; j++) y[j]=(int)(scale*xy[j*2+1]+.5); y[k]=y[0];\n",
            "      |   \u001b[01;35m\u001b[K^~~\u001b[m\u001b[K\n",
            "\u001b[01m\u001b[Kexternal/maskApi.c:166:54:\u001b[m\u001b[K \u001b[01;36m\u001b[Knote: \u001b[m\u001b[K...this statement, but the latter is misleadingly indented as if it were guarded by the ‘\u001b[01m\u001b[Kfor\u001b[m\u001b[K’\n",
            "  166 |   for(j=0; j<k; j++) y[j]=(int)(scale*xy[j*2+1]+.5); \u001b[01;36m\u001b[Ky\u001b[m\u001b[K[k]=y[0];\n",
            "      |                                                      \u001b[01;36m\u001b[K^\u001b[m\u001b[K\n",
            "\u001b[01m\u001b[Kexternal/maskApi.c:\u001b[m\u001b[K In function ‘\u001b[01m\u001b[KrleToString\u001b[m\u001b[K’:\n",
            "\u001b[01m\u001b[Kexternal/maskApi.c:211:7:\u001b[m\u001b[K \u001b[01;35m\u001b[Kwarning: \u001b[m\u001b[Kthis ‘\u001b[01m\u001b[Kif\u001b[m\u001b[K’ clause does not guard... [\u001b[01;35m\u001b[K\u001b]8;;https://gcc.gnu.org/onlinedocs/gcc/Warning-Options.html#index-Wmisleading-indentation\u0007-Wmisleading-indentation\u001b]8;;\u0007\u001b[m\u001b[K]\n",
            "  211 |       \u001b[01;35m\u001b[Kif\u001b[m\u001b[K(more) c |= 0x20; c+=48; s[p++]=c;\n",
            "      |       \u001b[01;35m\u001b[K^~\u001b[m\u001b[K\n",
            "\u001b[01m\u001b[Kexternal/maskApi.c:211:27:\u001b[m\u001b[K \u001b[01;36m\u001b[Knote: \u001b[m\u001b[K...this statement, but the latter is misleadingly indented as if it were guarded by the ‘\u001b[01m\u001b[Kif\u001b[m\u001b[K’\n",
            "  211 |       if(more) c |= 0x20; \u001b[01;36m\u001b[Kc\u001b[m\u001b[K+=48; s[p++]=c;\n",
            "      |                           \u001b[01;36m\u001b[K^\u001b[m\u001b[K\n",
            "\u001b[01m\u001b[Kexternal/maskApi.c:\u001b[m\u001b[K In function ‘\u001b[01m\u001b[KrleFrString\u001b[m\u001b[K’:\n",
            "\u001b[01m\u001b[Kexternal/maskApi.c:219:3:\u001b[m\u001b[K \u001b[01;35m\u001b[Kwarning: \u001b[m\u001b[Kthis ‘\u001b[01m\u001b[Kwhile\u001b[m\u001b[K’ clause does not guard... [\u001b[01;35m\u001b[K\u001b]8;;https://gcc.gnu.org/onlinedocs/gcc/Warning-Options.html#index-Wmisleading-indentation\u0007-Wmisleading-indentation\u001b]8;;\u0007\u001b[m\u001b[K]\n",
            "  219 |   \u001b[01;35m\u001b[Kwhile\u001b[m\u001b[K( s[m] ) m++; cnts=malloc(sizeof(uint)*m); m=0;\n",
            "      |   \u001b[01;35m\u001b[K^~~~~\u001b[m\u001b[K\n",
            "\u001b[01m\u001b[Kexternal/maskApi.c:219:22:\u001b[m\u001b[K \u001b[01;36m\u001b[Knote: \u001b[m\u001b[K...this statement, but the latter is misleadingly indented as if it were guarded by the ‘\u001b[01m\u001b[Kwhile\u001b[m\u001b[K’\n",
            "  219 |   while( s[m] ) m++; \u001b[01;36m\u001b[Kcnts\u001b[m\u001b[K=malloc(sizeof(uint)*m); m=0;\n",
            "      |                      \u001b[01;36m\u001b[K^~~~\u001b[m\u001b[K\n",
            "\u001b[01m\u001b[Kexternal/maskApi.c:227:5:\u001b[m\u001b[K \u001b[01;35m\u001b[Kwarning: \u001b[m\u001b[Kthis ‘\u001b[01m\u001b[Kif\u001b[m\u001b[K’ clause does not guard... [\u001b[01;35m\u001b[K\u001b]8;;https://gcc.gnu.org/onlinedocs/gcc/Warning-Options.html#index-Wmisleading-indentation\u0007-Wmisleading-indentation\u001b]8;;\u0007\u001b[m\u001b[K]\n",
            "  227 |     \u001b[01;35m\u001b[Kif\u001b[m\u001b[K(m>2) x+=(long) cnts[m-2]; cnts[m++]=(uint) x;\n",
            "      |     \u001b[01;35m\u001b[K^~\u001b[m\u001b[K\n",
            "\u001b[01m\u001b[Kexternal/maskApi.c:227:34:\u001b[m\u001b[K \u001b[01;36m\u001b[Knote: \u001b[m\u001b[K...this statement, but the latter is misleadingly indented as if it were guarded by the ‘\u001b[01m\u001b[Kif\u001b[m\u001b[K’\n",
            "  227 |     if(m>2) x+=(long) cnts[m-2]; \u001b[01;36m\u001b[Kcnts\u001b[m\u001b[K[m++]=(uint) x;\n",
            "      |                                  \u001b[01;36m\u001b[K^~~~\u001b[m\u001b[K\n",
            "gcc -pthread -shared -B /usr/local/envs/vilbert-mt/compiler_compat -L/usr/local/envs/vilbert-mt/lib -Wl,-rpath=/usr/local/envs/vilbert-mt/lib -Wl,--no-as-needed -Wl,--sysroot=/ build/temp.linux-x86_64-3.6/external/_mask.o build/temp.linux-x86_64-3.6/external/maskApi.o -o /root/github/vilbert-multi-task/tools/refer/external/_mask.cpython-36m-x86_64-linux-gnu.so\n",
            "rm -rf build\n"
          ]
        }
      ]
    },
    {
      "cell_type": "code",
      "source": [
        "%cd ~/github\n",
        "!source activate vilbert-mt && git clone https://github.com/pdollar/coco.git\n",
        "%cd coco/PythonAPI\n",
        "!source activate vilbert-mt && make\n"
      ],
      "metadata": {
        "id": "ewxNyBM3OpLL",
        "colab": {
          "base_uri": "https://localhost:8080/"
        },
        "outputId": "5916647f-f594-4fd3-a49f-7f33af9c52d6"
      },
      "execution_count": null,
      "outputs": [
        {
          "output_type": "stream",
          "name": "stdout",
          "text": [
            "/root/github\n",
            "Cloning into 'coco'...\n",
            "remote: Enumerating objects: 975, done.\u001b[K\n",
            "remote: Total 975 (delta 0), reused 0 (delta 0), pack-reused 975 (from 1)\u001b[K\n",
            "Receiving objects: 100% (975/975), 11.72 MiB | 15.61 MiB/s, done.\n",
            "Resolving deltas: 100% (576/576), done.\n",
            "/root/github/coco/PythonAPI\n",
            "python setup.py build_ext --inplace\n",
            "running build_ext\n",
            "Compiling pycocotools/_mask.pyx because it changed.\n",
            "[1/1] Cythonizing pycocotools/_mask.pyx\n",
            "/usr/local/envs/vilbert-mt/lib/python3.6/site-packages/Cython/Compiler/Main.py:381: FutureWarning: Cython directive 'language_level' not set, using '3str' for now (Py3). This has changed from earlier releases! File: /root/github/coco/PythonAPI/pycocotools/_mask.pyx\n",
            "  tree = Parsing.p_module(s, pxd, full_module_name)\n",
            "building 'pycocotools._mask' extension\n",
            "creating build\n",
            "creating build/temp.linux-x86_64-3.6\n",
            "creating build/temp.linux-x86_64-3.6/pycocotools\n",
            "creating build/common\n",
            "gcc -pthread -B /usr/local/envs/vilbert-mt/compiler_compat -Wl,--sysroot=/ -Wsign-compare -DNDEBUG -g -fwrapv -O3 -Wall -Wstrict-prototypes -fPIC -I/usr/local/envs/vilbert-mt/lib/python3.6/site-packages/numpy/core/include -I../common -I/usr/local/envs/vilbert-mt/include/python3.6m -c pycocotools/_mask.c -o build/temp.linux-x86_64-3.6/pycocotools/_mask.o -Wno-cpp -Wno-unused-function -std=c99\n",
            "gcc -pthread -B /usr/local/envs/vilbert-mt/compiler_compat -Wl,--sysroot=/ -Wsign-compare -DNDEBUG -g -fwrapv -O3 -Wall -Wstrict-prototypes -fPIC -I/usr/local/envs/vilbert-mt/lib/python3.6/site-packages/numpy/core/include -I../common -I/usr/local/envs/vilbert-mt/include/python3.6m -c ../common/maskApi.c -o build/temp.linux-x86_64-3.6/../common/maskApi.o -Wno-cpp -Wno-unused-function -std=c99\n",
            "\u001b[01m\u001b[K../common/maskApi.c:\u001b[m\u001b[K In function ‘\u001b[01m\u001b[KrleDecode\u001b[m\u001b[K’:\n",
            "\u001b[01m\u001b[K../common/maskApi.c:46:7:\u001b[m\u001b[K \u001b[01;35m\u001b[Kwarning: \u001b[m\u001b[Kthis ‘\u001b[01m\u001b[Kfor\u001b[m\u001b[K’ clause does not guard... [\u001b[01;35m\u001b[K\u001b]8;;https://gcc.gnu.org/onlinedocs/gcc/Warning-Options.html#index-Wmisleading-indentation\u0007-Wmisleading-indentation\u001b]8;;\u0007\u001b[m\u001b[K]\n",
            "   46 |       \u001b[01;35m\u001b[Kfor\u001b[m\u001b[K( k=0; k<R[i].cnts[j]; k++ ) *(M++)=v; v=!v; }}\n",
            "      |       \u001b[01;35m\u001b[K^~~\u001b[m\u001b[K\n",
            "\u001b[01m\u001b[K../common/maskApi.c:46:49:\u001b[m\u001b[K \u001b[01;36m\u001b[Knote: \u001b[m\u001b[K...this statement, but the latter is misleadingly indented as if it were guarded by the ‘\u001b[01m\u001b[Kfor\u001b[m\u001b[K’\n",
            "   46 |       for( k=0; k<R[i].cnts[j]; k++ ) *(M++)=v; \u001b[01;36m\u001b[Kv\u001b[m\u001b[K=!v; }}\n",
            "      |                                                 \u001b[01;36m\u001b[K^\u001b[m\u001b[K\n",
            "\u001b[01m\u001b[K../common/maskApi.c:\u001b[m\u001b[K In function ‘\u001b[01m\u001b[KrleFrPoly\u001b[m\u001b[K’:\n",
            "\u001b[01m\u001b[K../common/maskApi.c:166:3:\u001b[m\u001b[K \u001b[01;35m\u001b[Kwarning: \u001b[m\u001b[Kthis ‘\u001b[01m\u001b[Kfor\u001b[m\u001b[K’ clause does not guard... [\u001b[01;35m\u001b[K\u001b]8;;https://gcc.gnu.org/onlinedocs/gcc/Warning-Options.html#index-Wmisleading-indentation\u0007-Wmisleading-indentation\u001b]8;;\u0007\u001b[m\u001b[K]\n",
            "  166 |   \u001b[01;35m\u001b[Kfor\u001b[m\u001b[K(j=0; j<k; j++) x[j]=(int)(scale*xy[j*2+0]+.5); x[k]=x[0];\n",
            "      |   \u001b[01;35m\u001b[K^~~\u001b[m\u001b[K\n",
            "\u001b[01m\u001b[K../common/maskApi.c:166:54:\u001b[m\u001b[K \u001b[01;36m\u001b[Knote: \u001b[m\u001b[K...this statement, but the latter is misleadingly indented as if it were guarded by the ‘\u001b[01m\u001b[Kfor\u001b[m\u001b[K’\n",
            "  166 |   for(j=0; j<k; j++) x[j]=(int)(scale*xy[j*2+0]+.5); \u001b[01;36m\u001b[Kx\u001b[m\u001b[K[k]=x[0];\n",
            "      |                                                      \u001b[01;36m\u001b[K^\u001b[m\u001b[K\n",
            "\u001b[01m\u001b[K../common/maskApi.c:167:3:\u001b[m\u001b[K \u001b[01;35m\u001b[Kwarning: \u001b[m\u001b[Kthis ‘\u001b[01m\u001b[Kfor\u001b[m\u001b[K’ clause does not guard... [\u001b[01;35m\u001b[K\u001b]8;;https://gcc.gnu.org/onlinedocs/gcc/Warning-Options.html#index-Wmisleading-indentation\u0007-Wmisleading-indentation\u001b]8;;\u0007\u001b[m\u001b[K]\n",
            "  167 |   \u001b[01;35m\u001b[Kfor\u001b[m\u001b[K(j=0; j<k; j++) y[j]=(int)(scale*xy[j*2+1]+.5); y[k]=y[0];\n",
            "      |   \u001b[01;35m\u001b[K^~~\u001b[m\u001b[K\n",
            "\u001b[01m\u001b[K../common/maskApi.c:167:54:\u001b[m\u001b[K \u001b[01;36m\u001b[Knote: \u001b[m\u001b[K...this statement, but the latter is misleadingly indented as if it were guarded by the ‘\u001b[01m\u001b[Kfor\u001b[m\u001b[K’\n",
            "  167 |   for(j=0; j<k; j++) y[j]=(int)(scale*xy[j*2+1]+.5); \u001b[01;36m\u001b[Ky\u001b[m\u001b[K[k]=y[0];\n",
            "      |                                                      \u001b[01;36m\u001b[K^\u001b[m\u001b[K\n",
            "\u001b[01m\u001b[K../common/maskApi.c:\u001b[m\u001b[K In function ‘\u001b[01m\u001b[KrleToString\u001b[m\u001b[K’:\n",
            "\u001b[01m\u001b[K../common/maskApi.c:212:7:\u001b[m\u001b[K \u001b[01;35m\u001b[Kwarning: \u001b[m\u001b[Kthis ‘\u001b[01m\u001b[Kif\u001b[m\u001b[K’ clause does not guard... [\u001b[01;35m\u001b[K\u001b]8;;https://gcc.gnu.org/onlinedocs/gcc/Warning-Options.html#index-Wmisleading-indentation\u0007-Wmisleading-indentation\u001b]8;;\u0007\u001b[m\u001b[K]\n",
            "  212 |       \u001b[01;35m\u001b[Kif\u001b[m\u001b[K(more) c |= 0x20; c+=48; s[p++]=c;\n",
            "      |       \u001b[01;35m\u001b[K^~\u001b[m\u001b[K\n",
            "\u001b[01m\u001b[K../common/maskApi.c:212:27:\u001b[m\u001b[K \u001b[01;36m\u001b[Knote: \u001b[m\u001b[K...this statement, but the latter is misleadingly indented as if it were guarded by the ‘\u001b[01m\u001b[Kif\u001b[m\u001b[K’\n",
            "  212 |       if(more) c |= 0x20; \u001b[01;36m\u001b[Kc\u001b[m\u001b[K+=48; s[p++]=c;\n",
            "      |                           \u001b[01;36m\u001b[K^\u001b[m\u001b[K\n",
            "\u001b[01m\u001b[K../common/maskApi.c:\u001b[m\u001b[K In function ‘\u001b[01m\u001b[KrleFrString\u001b[m\u001b[K’:\n",
            "\u001b[01m\u001b[K../common/maskApi.c:220:3:\u001b[m\u001b[K \u001b[01;35m\u001b[Kwarning: \u001b[m\u001b[Kthis ‘\u001b[01m\u001b[Kwhile\u001b[m\u001b[K’ clause does not guard... [\u001b[01;35m\u001b[K\u001b]8;;https://gcc.gnu.org/onlinedocs/gcc/Warning-Options.html#index-Wmisleading-indentation\u0007-Wmisleading-indentation\u001b]8;;\u0007\u001b[m\u001b[K]\n",
            "  220 |   \u001b[01;35m\u001b[Kwhile\u001b[m\u001b[K( s[m] ) m++; cnts=malloc(sizeof(uint)*m); m=0;\n",
            "      |   \u001b[01;35m\u001b[K^~~~~\u001b[m\u001b[K\n",
            "\u001b[01m\u001b[K../common/maskApi.c:220:22:\u001b[m\u001b[K \u001b[01;36m\u001b[Knote: \u001b[m\u001b[K...this statement, but the latter is misleadingly indented as if it were guarded by the ‘\u001b[01m\u001b[Kwhile\u001b[m\u001b[K’\n",
            "  220 |   while( s[m] ) m++; \u001b[01;36m\u001b[Kcnts\u001b[m\u001b[K=malloc(sizeof(uint)*m); m=0;\n",
            "      |                      \u001b[01;36m\u001b[K^~~~\u001b[m\u001b[K\n",
            "\u001b[01m\u001b[K../common/maskApi.c:228:5:\u001b[m\u001b[K \u001b[01;35m\u001b[Kwarning: \u001b[m\u001b[Kthis ‘\u001b[01m\u001b[Kif\u001b[m\u001b[K’ clause does not guard... [\u001b[01;35m\u001b[K\u001b]8;;https://gcc.gnu.org/onlinedocs/gcc/Warning-Options.html#index-Wmisleading-indentation\u0007-Wmisleading-indentation\u001b]8;;\u0007\u001b[m\u001b[K]\n",
            "  228 |     \u001b[01;35m\u001b[Kif\u001b[m\u001b[K(m>2) x+=(long) cnts[m-2]; cnts[m++]=(uint) x;\n",
            "      |     \u001b[01;35m\u001b[K^~\u001b[m\u001b[K\n",
            "\u001b[01m\u001b[K../common/maskApi.c:228:34:\u001b[m\u001b[K \u001b[01;36m\u001b[Knote: \u001b[m\u001b[K...this statement, but the latter is misleadingly indented as if it were guarded by the ‘\u001b[01m\u001b[Kif\u001b[m\u001b[K’\n",
            "  228 |     if(m>2) x+=(long) cnts[m-2]; \u001b[01;36m\u001b[Kcnts\u001b[m\u001b[K[m++]=(uint) x;\n",
            "      |                                  \u001b[01;36m\u001b[K^~~~\u001b[m\u001b[K\n",
            "creating build/lib.linux-x86_64-3.6\n",
            "creating build/lib.linux-x86_64-3.6/pycocotools\n",
            "gcc -pthread -shared -B /usr/local/envs/vilbert-mt/compiler_compat -L/usr/local/envs/vilbert-mt/lib -Wl,-rpath=/usr/local/envs/vilbert-mt/lib -Wl,--no-as-needed -Wl,--sysroot=/ build/temp.linux-x86_64-3.6/pycocotools/_mask.o build/temp.linux-x86_64-3.6/../common/maskApi.o -o build/lib.linux-x86_64-3.6/pycocotools/_mask.cpython-36m-x86_64-linux-gnu.so\n",
            "copying build/lib.linux-x86_64-3.6/pycocotools/_mask.cpython-36m-x86_64-linux-gnu.so -> pycocotools\n",
            "rm -rf build\n"
          ]
        }
      ]
    },
    {
      "cell_type": "code",
      "source": [
        "!source activate vilbert-mt && pip install pytorch-pretrained-bert"
      ],
      "metadata": {
        "colab": {
          "base_uri": "https://localhost:8080/"
        },
        "id": "AaMP2PM42J5I",
        "outputId": "e63c1c73-f864-457e-9b05-1631c8a8efc4"
      },
      "execution_count": null,
      "outputs": [
        {
          "output_type": "stream",
          "name": "stdout",
          "text": [
            "Collecting pytorch-pretrained-bert\n",
            "  Downloading pytorch_pretrained_bert-0.6.2-py3-none-any.whl (123 kB)\n",
            "\u001b[?25l\r\u001b[K     |██▋                             | 10 kB 23.6 MB/s eta 0:00:01\r\u001b[K     |█████▎                          | 20 kB 15.3 MB/s eta 0:00:01\r\u001b[K     |████████                        | 30 kB 4.7 MB/s eta 0:00:01\r\u001b[K     |██████████▋                     | 40 kB 5.4 MB/s eta 0:00:01\r\u001b[K     |█████████████▎                  | 51 kB 6.1 MB/s eta 0:00:01\r\u001b[K     |███████████████▉                | 61 kB 4.5 MB/s eta 0:00:01\r\u001b[K     |██████████████████▌             | 71 kB 4.7 MB/s eta 0:00:01\r\u001b[K     |█████████████████████▏          | 81 kB 5.1 MB/s eta 0:00:01\r\u001b[K     |███████████████████████▉        | 92 kB 5.7 MB/s eta 0:00:01\r\u001b[K     |██████████████████████████▌     | 102 kB 6.0 MB/s eta 0:00:01\r\u001b[K     |█████████████████████████████▏  | 112 kB 6.0 MB/s eta 0:00:01\r\u001b[K     |███████████████████████████████▊| 122 kB 6.0 MB/s eta 0:00:01\r\u001b[K     |████████████████████████████████| 123 kB 6.0 MB/s \n",
            "\u001b[?25hRequirement already satisfied: requests in /usr/local/envs/vilbert-mt/lib/python3.6/site-packages (from pytorch-pretrained-bert) (2.27.1)\n",
            "Requirement already satisfied: torch>=0.4.1 in /usr/local/envs/vilbert-mt/lib/python3.6/site-packages (from pytorch-pretrained-bert) (1.10.2)\n",
            "Requirement already satisfied: boto3 in /usr/local/envs/vilbert-mt/lib/python3.6/site-packages (from pytorch-pretrained-bert) (1.23.10)\n",
            "Requirement already satisfied: tqdm in /usr/local/envs/vilbert-mt/lib/python3.6/site-packages (from pytorch-pretrained-bert) (4.31.1)\n",
            "Requirement already satisfied: numpy in /usr/local/envs/vilbert-mt/lib/python3.6/site-packages (from pytorch-pretrained-bert) (1.19.5)\n",
            "Requirement already satisfied: regex in /usr/local/envs/vilbert-mt/lib/python3.6/site-packages (from pytorch-pretrained-bert) (2023.8.8)\n",
            "Requirement already satisfied: typing-extensions in /usr/local/envs/vilbert-mt/lib/python3.6/site-packages (from torch>=0.4.1->pytorch-pretrained-bert) (3.7.4.3)\n",
            "Requirement already satisfied: dataclasses in /usr/local/envs/vilbert-mt/lib/python3.6/site-packages (from torch>=0.4.1->pytorch-pretrained-bert) (0.8)\n",
            "Requirement already satisfied: botocore<1.27.0,>=1.26.10 in /usr/local/envs/vilbert-mt/lib/python3.6/site-packages (from boto3->pytorch-pretrained-bert) (1.26.10)\n",
            "Requirement already satisfied: s3transfer<0.6.0,>=0.5.0 in /usr/local/envs/vilbert-mt/lib/python3.6/site-packages (from boto3->pytorch-pretrained-bert) (0.5.2)\n",
            "Requirement already satisfied: jmespath<2.0.0,>=0.7.1 in /usr/local/envs/vilbert-mt/lib/python3.6/site-packages (from boto3->pytorch-pretrained-bert) (0.10.0)\n",
            "Requirement already satisfied: python-dateutil<3.0.0,>=2.1 in /usr/local/envs/vilbert-mt/lib/python3.6/site-packages (from botocore<1.27.0,>=1.26.10->boto3->pytorch-pretrained-bert) (2.9.0.post0)\n",
            "Requirement already satisfied: urllib3<1.27,>=1.25.4 in /usr/local/envs/vilbert-mt/lib/python3.6/site-packages (from botocore<1.27.0,>=1.26.10->boto3->pytorch-pretrained-bert) (1.26.20)\n",
            "Requirement already satisfied: six>=1.5 in /usr/local/envs/vilbert-mt/lib/python3.6/site-packages (from python-dateutil<3.0.0,>=2.1->botocore<1.27.0,>=1.26.10->boto3->pytorch-pretrained-bert) (1.16.0)\n",
            "Requirement already satisfied: charset-normalizer~=2.0.0 in /usr/local/envs/vilbert-mt/lib/python3.6/site-packages (from requests->pytorch-pretrained-bert) (2.0.12)\n",
            "Requirement already satisfied: idna<4,>=2.5 in /usr/local/envs/vilbert-mt/lib/python3.6/site-packages (from requests->pytorch-pretrained-bert) (3.10)\n",
            "Requirement already satisfied: certifi>=2017.4.17 in /usr/local/envs/vilbert-mt/lib/python3.6/site-packages (from requests->pytorch-pretrained-bert) (2021.5.30)\n",
            "Installing collected packages: pytorch-pretrained-bert\n",
            "Successfully installed pytorch-pretrained-bert-0.6.2\n",
            "\u001b[33mWARNING: Running pip as the 'root' user can result in broken permissions and conflicting behaviour with the system package manager. It is recommended to use a virtual environment instead: https://pip.pypa.io/warnings/venv\u001b[0m\n"
          ]
        }
      ]
    },
    {
      "cell_type": "code",
      "source": [
        "%cd /root/github/vilbert-multi-task/save/multitask_model\n",
        "!wget -c https://dl.fbaipublicfiles.com/vilbert-multi-task/multi_task_model.bin"
      ],
      "metadata": {
        "colab": {
          "base_uri": "https://localhost:8080/"
        },
        "id": "6cecFZph5WhX",
        "outputId": "4340fed2-84de-4ee3-a182-1f7d51a7ad0b"
      },
      "execution_count": null,
      "outputs": [
        {
          "output_type": "stream",
          "name": "stdout",
          "text": [
            "/root/github/vilbert-multi-task/save/multitask_model\n",
            "--2024-12-09 01:58:31--  https://dl.fbaipublicfiles.com/vilbert-multi-task/multi_task_model.bin\n",
            "Resolving dl.fbaipublicfiles.com (dl.fbaipublicfiles.com)... 13.226.210.15, 13.226.210.111, 13.226.210.25, ...\n",
            "Connecting to dl.fbaipublicfiles.com (dl.fbaipublicfiles.com)|13.226.210.15|:443... connected.\n",
            "HTTP request sent, awaiting response... 200 OK\n",
            "Length: 1072254755 (1023M) [application/octet-stream]\n",
            "Saving to: ‘multi_task_model.bin’\n",
            "\n",
            "multi_task_model.bi 100%[===================>]   1023M  78.7MB/s    in 13s     \n",
            "\n",
            "2024-12-09 01:58:44 (80.4 MB/s) - ‘multi_task_model.bin’ saved [1072254755/1072254755]\n",
            "\n"
          ]
        }
      ]
    },
    {
      "cell_type": "code",
      "source": [
        "%mkdir -p ~/github/vilbert-multi-task/data/flickr8k/cache"
      ],
      "metadata": {
        "id": "U2J778nSCcj7"
      },
      "execution_count": null,
      "outputs": []
    },
    {
      "cell_type": "code",
      "source": [
        "%cd ~/github/vilbert-multi-task/\n",
        "!source activate vilbert-mt &&  python train_tasks.py --bert_model bert-base-uncased --from_pretrained save/multitask_model/multi_task_model.bin --config_file config/bert_base_6layer_6conect.json --tasks 8 --lr_scheduler 'warmup_linear' --train_iter_gap 4 --task_specific_tokens --save_name flickr30k_finetuned"
      ],
      "metadata": {
        "colab": {
          "base_uri": "https://localhost:8080/"
        },
        "id": "4KMBCwTJM-yg",
        "outputId": "1c7b45bc-f056-4055-870f-65e8edc70dbd"
      },
      "execution_count": null,
      "outputs": [
        {
          "output_type": "stream",
          "name": "stdout",
          "text": [
            "/root/github/vilbert-multi-task\n",
            "2024-12-09 02:15:00.202591: W tensorflow/stream_executor/platform/default/dso_loader.cc:60] Could not load dynamic library 'libcudart.so.11.0'; dlerror: libcudart.so.11.0: cannot open shared object file: No such file or directory; LD_LIBRARY_PATH: /usr/lib64-nvidia\n",
            "2024-12-09 02:15:00.202629: I tensorflow/stream_executor/cuda/cudart_stub.cc:29] Ignore above cudart dlerror if you do not have a GPU set up on your machine.\n",
            "12/09/2024 02:15:02 - INFO - vilbert.vilbert -   Better speed can be achieved with apex installed from https://www.github.com/nvidia/apex .\n",
            "12/09/2024 02:15:02 - INFO - __main__ -   device: cuda n_gpu: 1, distributed training: False, 16-bits training: False\n",
            "12/09/2024 02:15:02 - INFO - pytorch_transformers.tokenization_utils -   loading file https://s3.amazonaws.com/models.huggingface.co/bert/bert-base-uncased-vocab.txt from cache at /root/.cache/torch/pytorch_transformers/26bc1ad6c0ac742e9b52263248f6d0f00068293b33709fae12320c0e35ccfbbb.542ce4285a40d23a559526243235df47c5f75c197f04f37d1a0c124c32c9a084\n",
            "12/09/2024 02:15:02 - INFO - vilbert.task_utils -   Loading RetrievalFlickr8k Dataset with batch size 16\n",
            "task_cfg: {'TASK1': {'name': 'VQA', 'type': 'VL-classifier', 'loss': 'BCEWithLogitLoss', 'process': 'normal', 'task_id': 1, 'dataroot': 'datasets/VQA/', 'features_h5path1': 'datasets/coco/features_100/COCO_trainval_resnext152_faster_rcnn_genome.lmdb', 'features_h5path2': '', 'train_annotations_jsonpath': '', 'val_annotations_jsonpath': '', 'max_seq_length': 23, 'max_region_num': 101, 'batch_size': 128, 'eval_batch_size': 1024, 'train_split': 'trainval', 'val_split': 'minval', 'lr': 4e-05, 'num_epoch': 20}, 'TASK2': {'name': 'GenomeQA', 'type': 'VL-classifier', 'loss': 'BCEWithLogitLoss', 'process': 'normal', 'task_id': 2, 'dataroot': 'datasets/visual_genome/', 'features_h5path1': 'datasets/visual_genome/vg_resnext152_faster_rcnn_genome.lmdb', 'features_h5path2': '', 'train_annotations_jsonpath': '', 'val_annotations_jsonpath': '', 'max_seq_length': 26, 'max_region_num': 101, 'batch_size': 128, 'eval_batch_size': 1024, 'train_split': 'train', 'val_split': 'val', 'lr': 4e-05, 'num_epoch': 20}, 'TASK3': {'name': 'VisualDialog', 'type': 'VL-logit', 'loss': 'CrossEntropyLoss', 'process': 'dialog', 'task_id': 3, 'dataroot': 'datasets/visual_dialog', 'features_h5path1': 'datasets/coco/features_100/COCO_trainval_resnext152_faster_rcnn_genome.lmdb', 'features_h5path2': '', 'train_annotations_jsonpath': 'datasets/visual_dialog/visdial_1.0_train.json', 'val_annotations_jsonpath': 'datasets/visual_dialog/visdial_1.0_val.json', 'max_seq_length': 16, 'max_region_num': 101, 'batch_size': 64, 'train_split': 'train', 'val_split': 'val', 'lr': 4e-05, 'num_epoch': 20}, 'TASK4': {'name': 'Visual7w', 'type': 'V-logit-mc', 'loss': 'BCEWithLogitLoss', 'process': 'normal', 'task_id': 4, 'dataroot': 'datasets/visual7w', 'features_h5path1': 'datasets/visual7w/visual7w_resnext152_faster_rcnn_genome.lmdb', 'features_h5path2': 'datasets/visual7w/visual7w_gt_resnext152_faster_rcnn_genome.lmdb', 'train_annotations_jsonpath': '', 'val_annotations_jsonpath': '', 'max_seq_length': 20, 'max_region_num': 200, 'batch_size': 256, 'train_split': 'train', 'val_split': 'val', 'lr': 2e-05, 'num_epoch': 20}, 'TASK5': {'name': 'VCR_Q-A', 'type': 'VL-logit', 'loss': 'CrossEntropyLoss', 'process': 'expand', 'task_id': 5, 'dataroot': 'datasets/VCR', 'features_h5path1': 'datasets/VCR/VCR_resnext152_faster_rcnn_genome.lmdb', 'features_h5path2': 'datasets/VCR/VCR_gt_resnext152_faster_rcnn_genome.lmdb', 'train_annotations_jsonpath': 'datasets/VCR/train.jsonl', 'val_annotations_jsonpath': 'datasets/VCR/val.jsonl', 'max_seq_length': 60, 'max_region_num': 101, 'batch_size': 64, 'train_split': 'train', 'val_split': 'val', 'lr': 2e-05, 'num_epoch': 10}, 'TASK6': {'name': 'VCR_QA-R', 'type': 'VL-logit', 'loss': 'CrossEntropyLoss', 'process': 'expand', 'task_id': 6, 'dataroot': 'datasets/VCR', 'features_h5path1': 'datasets/VCR/VCR_resnext152_faster_rcnn_genome.lmdb', 'features_h5path2': 'datasets/VCR/VCR_gt_resnext152_faster_rcnn_genome.lmdb', 'train_annotations_jsonpath': 'datasets/VCR/train.jsonl', 'val_annotations_jsonpath': 'datasets/VCR/val.jsonl', 'max_seq_length': 80, 'max_region_num': 101, 'batch_size': 64, 'train_split': 'train', 'val_split': 'val', 'lr': 2e-05, 'num_epoch': 10}, 'TASK7': {'name': 'RetrievalCOCO', 'type': 'VL-logit', 'loss': 'CrossEntropyLoss', 'process': 'retrieval', 'task_id': 7, 'dataroot': 'datasets/cocoRetreival', 'features_h5path1': 'datasets/coco/features_100/COCO_trainval_resnext152_faster_rcnn_genome.lmdb', 'features_h5path2': '', 'train_annotations_jsonpath': 'datasets/cocoRetreival/all_data_final_train_2014.jsonline', 'val_annotations_jsonpath': 'datasets/cocoRetreival/all_data_final_test_set0_2014.jsonline', 'max_seq_length': 30, 'max_region_num': 101, 'batch_size': 128, 'train_split': 'train', 'val_split': 'val', 'lr': 2e-05, 'num_epoch': 20}, 'TASK8': {'name': 'RetrievalFlickr8k', 'type': 'VL-logit', 'loss': 'CrossEntropyLoss', 'process': 'retrieval', 'task_id': 8, 'dataroot': 'data/flickr8k', 'features_h5path1': 'data/flickr8k/flickr8k.lmdb', 'features_h5path2': '', 'train_annotations_jsonpath': 'data/flickr8k/flickr8k_train.jsonline', 'val_annotations_jsonpath': 'data/flickr8k/flickr8k_test.jsonline', 'max_seq_length': 30, 'max_region_num': 101, 'batch_size': 16, 'train_split': 'train', 'val_split': 'val', 'lr': 2e-05, 'num_epoch': 3}, 'TASK9': {'name': 'refcoco', 'type': 'V-logit', 'loss': 'BCEWithLogitLoss', 'process': 'normal', 'task_id': 9, 'dataroot': 'datasets/refcoco', 'features_h5path1': 'datasets/refcoco/refcoco_unc/refcoco_resnext152_faster_rcnn_genome.lmdb', 'features_h5path2': 'datasets/refcoco/refcoco_unc/refcoco_gt_resnext152_faster_rcnn_genome.lmdb', 'train_annotations_jsonpath': '', 'val_annotations_jsonpath': '', 'max_seq_length': 20, 'max_region_num': 101, 'batch_size': 256, 'train_split': 'train', 'val_split': 'val', 'lr': 2e-05, 'num_epoch': 20}, 'TASK10': {'name': 'refcoco+', 'type': 'V-logit', 'loss': 'BCEWithLogitLoss', 'process': 'normal', 'task_id': 10, 'dataroot': 'datasets/refcoco', 'features_h5path1': 'datasets/refcoco/refcoco+_unc/refcoco+_resnext152_faster_rcnn_genome.lmdb', 'features_h5path2': 'datasets/refcoco/refcoco+_unc/refcoco+_gt_resnext152_faster_rcnn_genome.lmdb', 'train_annotations_jsonpath': '', 'val_annotations_jsonpath': '', 'max_seq_length': 20, 'max_region_num': 101, 'batch_size': 256, 'eval_batch_size': 1024, 'train_split': 'train', 'val_split': 'val', 'lr': 2e-05, 'num_epoch': 20}, 'TASK11': {'name': 'refcocog', 'type': 'V-logit', 'loss': 'BCEWithLogitLoss', 'process': 'normal', 'task_id': 11, 'dataroot': 'datasets/refcoco', 'features_h5path1': 'datasets/refcoco/refcocog_umd/refcocog_resnext152_faster_rcnn_genome.lmdb', 'features_h5path2': 'datasets/refcoco/refcocog_umd/refcocog_gt_resnext152_faster_rcnn_genome.lmdb', 'train_annotations_jsonpath': '', 'val_annotations_jsonpath': '', 'max_seq_length': 20, 'max_region_num': 101, 'batch_size': 256, 'train_split': 'train', 'val_split': 'val', 'start_iteration': 0, 'lr': 2e-05, 'num_epoch': 20}, 'TASK12': {'name': 'NLVR2', 'type': 'VL-binary-classifier', 'loss': 'BCEWithLogitLoss', 'process': 'nlvr', 'task_id': 12, 'dataroot': 'datasets/nlvr2/', 'features_h5path1': 'datasets/nlvr2/nlvr2_resnext152_faster_rcnn_genome.lmdb', 'features_h5path2': '', 'train_annotations_jsonpath': '', 'val_annotations_jsonpath': '', 'max_seq_length': 40, 'max_region_num': 101, 'batch_size': 64, 'eval_batch_size': 512, 'train_split': 'train', 'val_split': 'dev', 'lr': 2e-05, 'num_epoch': 20}, 'TASK13': {'name': 'VisualEntailment', 'type': 'VL-tri-classifier', 'loss': 'BCEWithLogitLoss', 'process': 'normal', 'task_id': 13, 'dataroot': 'datasets/visual_entailment/', 'features_h5path1': 'datasets/flickr30k/flickr30k_resnext152_faster_rcnn_genome.lmdb', 'features_h5path2': '', 'train_annotations_jsonpath': '', 'val_annotations_jsonpath': '', 'max_seq_length': 56, 'max_region_num': 101, 'batch_size': 256, 'eval_batch_size': 1024, 'train_split': 'train', 'val_split': 'dev', 'lr': 2e-05, 'num_epoch': 20}, 'TASK14': {'name': 'GuessWhat', 'type': 'VL-tri-classifier', 'loss': 'BCEWithLogitLoss', 'process': 'normal', 'task_id': 14, 'dataroot': 'datasets/guesswhat/', 'features_h5path1': 'datasets/coco/features_100/COCO_trainval_resnext152_faster_rcnn_genome.lmdb', 'features_h5path2': '', 'train_annotations_jsonpath': '', 'val_annotations_jsonpath': '', 'max_seq_length': 25, 'max_region_num': 101, 'batch_size': 256, 'eval_batch_size': 1024, 'train_split': 'train', 'val_split': 'valid', 'lr': 4e-05, 'num_epoch': 20}, 'TASK15': {'name': 'GQA', 'type': 'VL-classifier-GQA', 'loss': 'BCEWithLogitLoss', 'process': 'normal', 'task_id': 15, 'dataroot': 'datasets/gqa/', 'features_h5path1': 'datasets/gqa/gqa_resnext152_faster_rcnn_genome.lmdb', 'features_h5path2': '', 'train_annotations_jsonpath': '', 'val_annotations_jsonpath': '', 'max_seq_length': 26, 'max_region_num': 101, 'batch_size': 128, 'eval_batch_size': 1024, 'train_split': 'trainval', 'val_split': 'minval', 'lr': 4e-05, 'num_epoch': 20}, 'TASK16': {'name': 'Foil', 'type': 'VL-binary-classifier', 'loss': 'CrossEntropyLoss', 'process': 'normal', 'task_id': 16, 'dataroot': 'datasets/Foil', 'features_h5path1': 'datasets/coco/features_100/COCO_trainval_resnext152_faster_rcnn_genome.lmdb', 'features_h5path2': '', 'train_annotations_jsonpath': 'datasets/Foil/foilv1.0_train_2017.json', 'val_annotations_jsonpath': 'datasets/Foil/foilv1.0_test_2017.json', 'max_seq_length': 20, 'max_region_num': 101, 'batch_size': 256, 'eval_batch_size': 1024, 'train_split': 'train', 'val_split': 'val', 'lr': 4e-05, 'num_epoch': 20}, 'TASK17': {'name': 'GuessWhatPointing', 'type': 'V-logit-mc', 'loss': 'BCEWithLogitLoss', 'process': 'normal', 'task_id': 17, 'dataroot': 'datasets/guesswhat/', 'features_h5path1': 'datasets/coco/features_100/COCO_trainval_resnext152_faster_rcnn_genome.lmdb', 'features_h5path2': 'datasets/guesswhat/guesswhat_gt_resnext152_faster_rcnn_genome.lmdb', 'train_annotations_jsonpath': '', 'val_annotations_jsonpath': '', 'max_seq_length': 256, 'max_region_num': 306, 'batch_size': 64, 'train_split': 'train', 'val_split': 'valid', 'lr': 2e-05, 'num_epoch': 20}, 'TASK18': {'name': 'FlickrGrounding', 'type': 'V-logit', 'loss': 'BCEWithLogitLoss', 'process': 'normal', 'task_id': 18, 'dataroot': 'datasets/flickr30k/', 'features_h5path1': 'datasets/flickr30k/flickr30k_resnext152_faster_rcnn_genome.lmdb', 'features_h5path2': 'datasets/flickr30k/flickr30k_gt_resnext152_faster_rcnn_genome.lmdb', 'train_annotations_jsonpath': '', 'val_annotations_jsonpath': '', 'max_seq_length': 24, 'max_region_num': 200, 'batch_size': 256, 'train_split': 'train', 'val_split': 'val', 'lr': 2e-06, 'num_epoch': 20}}\n",
            "Arguments passed: Namespace(baseline=False, bert_model='bert-base-uncased', clean_train_sets=True, config_file='config/bert_base_6layer_6conect.json', do_lower_case=True, dynamic_attention=False, evaluation_interval=1, fp16=False, freeze=-1, from_pretrained='save/multitask_model/multi_task_model.bin', gradient_accumulation_steps=1, in_memory=False, local_rank=-1, loss_scale=0, lr_scheduler='warmup_linear', no_cuda=False, num_train_epochs=10, num_workers=2, optim='AdamW', output_dir='save', resume_file='', save_name='flickr30k_finetuned', seed=0, task_specific_tokens=True, tasks='8', train_iter_gap=4, train_iter_multiplier=1.0, vision_scratch=False, visual_target=0, warmup_proportion=0.1)\n",
            "task: {'name': 'RetrievalFlickr8k', 'type': 'VL-logit', 'loss': 'CrossEntropyLoss', 'process': 'retrieval', 'task_id': 8, 'dataroot': 'data/flickr8k', 'features_h5path1': 'data/flickr8k/flickr8k.lmdb', 'features_h5path2': '', 'train_annotations_jsonpath': 'data/flickr8k/flickr8k_train.jsonline', 'val_annotations_jsonpath': 'data/flickr8k/flickr8k_test.jsonline', 'max_seq_length': 30, 'max_region_num': 101, 'batch_size': 16, 'train_split': 'train', 'val_split': 'val', 'lr': 2e-05, 'num_epoch': 3}\n",
            "loading entries from data/flickr8k/cache/RetrievalFlickr8k_train_30_cleaned.pkl\n",
            "loading entries from data/flickr8k/cache/RetrievalFlickr8k_val_30_cleaned.pkl\n",
            "12/09/2024 02:15:10 - INFO - vilbert.utils -   logging file at: save/RetrievalFlickr8k_bert_base_6layer_6conect-flickr30k_finetuned/logs\n",
            "12/09/2024 02:15:10 - INFO - vilbert.utils -   loading weights file save/multitask_model/multi_task_model.bin\n",
            "12/09/2024 02:15:20 - INFO - vilbert.utils -   Weights of VILBertForVLTasks not initialized from pretrained model: ['pooled_norm.weight', 'pooled_norm.bias']\n",
            "561 561\n",
            "***** Running training *****\n",
            "  Num Iters:  {'TASK8': 2023}\n",
            "  Batch size:  {'TASK8': 16}\n",
            "  Num steps: 6060\n",
            "Epoch:   0% 0/10 [00:00<?, ?it/s]/usr/local/envs/vilbert-mt/lib/python3.6/site-packages/pytorch_transformers/optimization.py:166: UserWarning: This overload of add_ is deprecated:\n",
            "\tadd_(Number alpha, Tensor other)\n",
            "Consider using one of the following signatures instead:\n",
            "\tadd_(Tensor other, *, Number alpha) (Triggered internally at  ../torch/csrc/utils/python_arg_parser.cpp:1050.)\n",
            "  exp_avg.mul_(beta1).add_(1.0 - beta1, grad)\n",
            "12/09/2024 02:16:14 - INFO - vilbert.utils -   [RetrievalFlickr8k]: iter 21 Ep: 0.01 loss 0.004 score 0.997 lr 3.63036e-07 \n",
            "12/09/2024 02:16:59 - INFO - vilbert.utils -   [RetrievalFlickr8k]: iter 41 Ep: 0.02 loss 0.006 score 1.000 lr 1.0396e-06 \n",
            "12/09/2024 02:17:43 - INFO - vilbert.utils -   [RetrievalFlickr8k]: iter 61 Ep: 0.03 loss 0.008 score 0.997 lr 1.69967e-06 \n",
            "12/09/2024 02:18:28 - INFO - vilbert.utils -   [RetrievalFlickr8k]: iter 81 Ep: 0.04 loss 0.003 score 1.000 lr 2.35974e-06 \n",
            "12/09/2024 02:19:12 - INFO - vilbert.utils -   [RetrievalFlickr8k]: iter 101 Ep: 0.05 loss 0.012 score 0.994 lr 3.0198e-06 \n",
            "12/09/2024 02:19:56 - INFO - vilbert.utils -   [RetrievalFlickr8k]: iter 121 Ep: 0.06 loss 0.004 score 0.997 lr 3.67987e-06 \n",
            "12/09/2024 02:20:41 - INFO - vilbert.utils -   [RetrievalFlickr8k]: iter 141 Ep: 0.07 loss 0.052 score 0.994 lr 4.33993e-06 \n",
            "12/09/2024 02:21:26 - INFO - vilbert.utils -   [RetrievalFlickr8k]: iter 161 Ep: 0.08 loss 0.081 score 0.991 lr 5e-06 \n",
            "12/09/2024 02:22:10 - INFO - vilbert.utils -   [RetrievalFlickr8k]: iter 181 Ep: 0.09 loss 0.002 score 1.000 lr 5.66007e-06 \n",
            "12/09/2024 02:22:55 - INFO - vilbert.utils -   [RetrievalFlickr8k]: iter 201 Ep: 0.10 loss 0.015 score 0.994 lr 6.32013e-06 \n",
            "12/09/2024 02:23:39 - INFO - vilbert.utils -   [RetrievalFlickr8k]: iter 221 Ep: 0.11 loss 0.027 score 0.988 lr 6.9802e-06 \n",
            "12/09/2024 02:24:23 - INFO - vilbert.utils -   [RetrievalFlickr8k]: iter 241 Ep: 0.12 loss 0.026 score 0.994 lr 7.64026e-06 \n",
            "12/09/2024 02:25:08 - INFO - vilbert.utils -   [RetrievalFlickr8k]: iter 261 Ep: 0.13 loss 0.015 score 0.994 lr 8.30033e-06 \n",
            "12/09/2024 02:25:52 - INFO - vilbert.utils -   [RetrievalFlickr8k]: iter 281 Ep: 0.14 loss 0.036 score 0.991 lr 8.9604e-06 \n",
            "12/09/2024 02:26:37 - INFO - vilbert.utils -   [RetrievalFlickr8k]: iter 301 Ep: 0.15 loss 0.004 score 1.000 lr 9.62046e-06 \n",
            "12/09/2024 02:27:21 - INFO - vilbert.utils -   [RetrievalFlickr8k]: iter 321 Ep: 0.16 loss 0.042 score 0.991 lr 1.02805e-05 \n",
            "12/09/2024 02:28:05 - INFO - vilbert.utils -   [RetrievalFlickr8k]: iter 341 Ep: 0.17 loss 0.048 score 0.984 lr 1.09406e-05 \n",
            "12/09/2024 02:28:50 - INFO - vilbert.utils -   [RetrievalFlickr8k]: iter 361 Ep: 0.18 loss 0.040 score 0.988 lr 1.16007e-05 \n",
            "12/09/2024 02:29:35 - INFO - vilbert.utils -   [RetrievalFlickr8k]: iter 381 Ep: 0.19 loss 0.044 score 0.984 lr 1.22607e-05 \n",
            "12/09/2024 02:30:19 - INFO - vilbert.utils -   [RetrievalFlickr8k]: iter 401 Ep: 0.20 loss 0.043 score 0.978 lr 1.29208e-05 \n",
            "12/09/2024 02:31:03 - INFO - vilbert.utils -   [RetrievalFlickr8k]: iter 421 Ep: 0.21 loss 0.028 score 0.991 lr 1.35809e-05 \n",
            "12/09/2024 02:31:48 - INFO - vilbert.utils -   [RetrievalFlickr8k]: iter 441 Ep: 0.22 loss 0.010 score 0.997 lr 1.42409e-05 \n",
            "12/09/2024 02:32:33 - INFO - vilbert.utils -   [RetrievalFlickr8k]: iter 461 Ep: 0.23 loss 0.038 score 0.991 lr 1.4901e-05 \n",
            "12/09/2024 02:33:17 - INFO - vilbert.utils -   [RetrievalFlickr8k]: iter 481 Ep: 0.24 loss 0.011 score 0.997 lr 1.55611e-05 \n",
            "12/09/2024 02:34:02 - INFO - vilbert.utils -   [RetrievalFlickr8k]: iter 501 Ep: 0.25 loss 0.041 score 0.994 lr 1.62211e-05 \n",
            "12/09/2024 02:34:46 - INFO - vilbert.utils -   [RetrievalFlickr8k]: iter 521 Ep: 0.26 loss 0.007 score 1.000 lr 1.68812e-05 \n",
            "12/09/2024 02:35:30 - INFO - vilbert.utils -   [RetrievalFlickr8k]: iter 541 Ep: 0.27 loss 0.024 score 0.991 lr 1.75413e-05 \n",
            "12/09/2024 02:36:15 - INFO - vilbert.utils -   [RetrievalFlickr8k]: iter 561 Ep: 0.28 loss 0.012 score 0.994 lr 1.82013e-05 \n",
            "12/09/2024 02:37:00 - INFO - vilbert.utils -   [RetrievalFlickr8k]: iter 581 Ep: 0.29 loss 0.029 score 0.988 lr 1.88614e-05 \n",
            "12/09/2024 02:37:44 - INFO - vilbert.utils -   [RetrievalFlickr8k]: iter 601 Ep: 0.30 loss 0.042 score 0.991 lr 1.95215e-05 \n",
            "12/09/2024 02:37:55 - INFO - __main__ -   ** ** * Saving fine - tuned model ** ** * \n",
            "Epoch:  10% 1/10 [23:19<3:29:55, 1399.48s/it]12/09/2024 02:39:33 - INFO - vilbert.utils -   [RetrievalFlickr8k]: iter 627 Ep: 0.31 loss 0.035 score 0.990 lr 1.99547e-05 \n",
            "12/09/2024 02:40:18 - INFO - vilbert.utils -   [RetrievalFlickr8k]: iter 647 Ep: 0.32 loss 0.019 score 0.997 lr 1.98845e-05 \n",
            "12/09/2024 02:41:02 - INFO - vilbert.utils -   [RetrievalFlickr8k]: iter 667 Ep: 0.33 loss 0.012 score 0.994 lr 1.98111e-05 \n",
            "12/09/2024 02:41:47 - INFO - vilbert.utils -   [RetrievalFlickr8k]: iter 687 Ep: 0.34 loss 0.026 score 0.991 lr 1.97378e-05 \n",
            "12/09/2024 02:42:31 - INFO - vilbert.utils -   [RetrievalFlickr8k]: iter 707 Ep: 0.35 loss 0.012 score 0.997 lr 1.96645e-05 \n",
            "12/09/2024 02:43:15 - INFO - vilbert.utils -   [RetrievalFlickr8k]: iter 727 Ep: 0.36 loss 0.045 score 0.984 lr 1.95911e-05 \n",
            "12/09/2024 02:44:00 - INFO - vilbert.utils -   [RetrievalFlickr8k]: iter 747 Ep: 0.37 loss 0.050 score 0.988 lr 1.95178e-05 \n",
            "12/09/2024 02:44:45 - INFO - vilbert.utils -   [RetrievalFlickr8k]: iter 767 Ep: 0.38 loss 0.085 score 0.969 lr 1.94444e-05 \n",
            "12/09/2024 02:45:30 - INFO - vilbert.utils -   [RetrievalFlickr8k]: iter 787 Ep: 0.39 loss 0.043 score 0.984 lr 1.93711e-05 \n",
            "12/09/2024 02:46:15 - INFO - vilbert.utils -   [RetrievalFlickr8k]: iter 807 Ep: 0.40 loss 0.045 score 0.988 lr 1.92978e-05 \n",
            "12/09/2024 02:47:00 - INFO - vilbert.utils -   [RetrievalFlickr8k]: iter 827 Ep: 0.41 loss 0.024 score 0.988 lr 1.92244e-05 \n",
            "12/09/2024 02:47:44 - INFO - vilbert.utils -   [RetrievalFlickr8k]: iter 847 Ep: 0.42 loss 0.019 score 0.991 lr 1.91511e-05 \n",
            "12/09/2024 02:48:29 - INFO - vilbert.utils -   [RetrievalFlickr8k]: iter 867 Ep: 0.43 loss 0.031 score 0.994 lr 1.90777e-05 \n",
            "12/09/2024 02:49:13 - INFO - vilbert.utils -   [RetrievalFlickr8k]: iter 887 Ep: 0.44 loss 0.085 score 0.975 lr 1.90044e-05 \n",
            "12/09/2024 02:49:58 - INFO - vilbert.utils -   [RetrievalFlickr8k]: iter 907 Ep: 0.45 loss 0.061 score 0.984 lr 1.89311e-05 \n",
            "12/09/2024 02:50:43 - INFO - vilbert.utils -   [RetrievalFlickr8k]: iter 927 Ep: 0.46 loss 0.012 score 0.997 lr 1.88577e-05 \n",
            "12/09/2024 02:51:28 - INFO - vilbert.utils -   [RetrievalFlickr8k]: iter 947 Ep: 0.47 loss 0.032 score 0.991 lr 1.87844e-05 \n",
            "12/09/2024 02:52:13 - INFO - vilbert.utils -   [RetrievalFlickr8k]: iter 967 Ep: 0.48 loss 0.015 score 0.991 lr 1.8711e-05 \n",
            "12/09/2024 02:52:57 - INFO - vilbert.utils -   [RetrievalFlickr8k]: iter 987 Ep: 0.49 loss 0.013 score 0.994 lr 1.86377e-05 \n",
            "12/09/2024 02:53:42 - INFO - vilbert.utils -   [RetrievalFlickr8k]: iter 1007 Ep: 0.50 loss 0.058 score 0.981 lr 1.85644e-05 \n",
            "12/09/2024 02:54:27 - INFO - vilbert.utils -   [RetrievalFlickr8k]: iter 1027 Ep: 0.51 loss 0.044 score 0.984 lr 1.8491e-05 \n",
            "12/09/2024 02:55:12 - INFO - vilbert.utils -   [RetrievalFlickr8k]: iter 1047 Ep: 0.52 loss 0.023 score 0.991 lr 1.84177e-05 \n",
            "12/09/2024 02:55:56 - INFO - vilbert.utils -   [RetrievalFlickr8k]: iter 1067 Ep: 0.53 loss 0.044 score 0.978 lr 1.83443e-05 \n",
            "12/09/2024 02:56:41 - INFO - vilbert.utils -   [RetrievalFlickr8k]: iter 1087 Ep: 0.54 loss 0.036 score 0.988 lr 1.8271e-05 \n",
            "12/09/2024 02:57:25 - INFO - vilbert.utils -   [RetrievalFlickr8k]: iter 1107 Ep: 0.55 loss 0.055 score 0.984 lr 1.81977e-05 \n",
            "12/09/2024 02:58:10 - INFO - vilbert.utils -   [RetrievalFlickr8k]: iter 1127 Ep: 0.56 loss 0.022 score 0.988 lr 1.81243e-05 \n",
            "12/09/2024 02:58:55 - INFO - vilbert.utils -   [RetrievalFlickr8k]: iter 1147 Ep: 0.57 loss 0.022 score 0.991 lr 1.8051e-05 \n",
            "12/09/2024 02:59:39 - INFO - vilbert.utils -   [RetrievalFlickr8k]: iter 1167 Ep: 0.58 loss 0.009 score 1.000 lr 1.79776e-05 \n",
            "12/09/2024 03:00:24 - INFO - vilbert.utils -   [RetrievalFlickr8k]: iter 1187 Ep: 0.59 loss 0.041 score 0.984 lr 1.79043e-05 \n",
            "12/09/2024 03:01:09 - INFO - vilbert.utils -   [RetrievalFlickr8k]: iter 1207 Ep: 0.60 loss 0.018 score 0.988 lr 1.78309e-05 \n",
            "12/09/2024 03:01:20 - INFO - __main__ -   ** ** * Saving fine - tuned model ** ** * \n",
            "Epoch:  20% 2/10 [46:30<3:06:15, 1396.90s/it]12/09/2024 03:02:44 - INFO - vilbert.utils -   [RetrievalFlickr8k]: iter 1233 Ep: 0.61 loss 0.029 score 0.993 lr 1.77466e-05 \n",
            "12/09/2024 03:03:28 - INFO - vilbert.utils -   [RetrievalFlickr8k]: iter 1253 Ep: 0.62 loss 0.022 score 0.984 lr 1.76623e-05 \n",
            "12/09/2024 03:04:13 - INFO - vilbert.utils -   [RetrievalFlickr8k]: iter 1273 Ep: 0.63 loss 0.028 score 0.991 lr 1.75889e-05 \n",
            "12/09/2024 03:04:58 - INFO - vilbert.utils -   [RetrievalFlickr8k]: iter 1293 Ep: 0.64 loss 0.040 score 0.978 lr 1.75156e-05 \n",
            "12/09/2024 03:05:42 - INFO - vilbert.utils -   [RetrievalFlickr8k]: iter 1313 Ep: 0.65 loss 0.027 score 0.991 lr 1.74422e-05 \n",
            "12/09/2024 03:06:26 - INFO - vilbert.utils -   [RetrievalFlickr8k]: iter 1333 Ep: 0.66 loss 0.027 score 0.991 lr 1.73689e-05 \n",
            "12/09/2024 03:07:11 - INFO - vilbert.utils -   [RetrievalFlickr8k]: iter 1353 Ep: 0.67 loss 0.039 score 0.984 lr 1.72956e-05 \n",
            "12/09/2024 03:07:56 - INFO - vilbert.utils -   [RetrievalFlickr8k]: iter 1373 Ep: 0.68 loss 0.037 score 0.988 lr 1.72222e-05 \n",
            "12/09/2024 03:08:40 - INFO - vilbert.utils -   [RetrievalFlickr8k]: iter 1393 Ep: 0.69 loss 0.040 score 0.994 lr 1.71489e-05 \n",
            "12/09/2024 03:09:25 - INFO - vilbert.utils -   [RetrievalFlickr8k]: iter 1413 Ep: 0.70 loss 0.030 score 0.997 lr 1.70755e-05 \n",
            "12/09/2024 03:10:10 - INFO - vilbert.utils -   [RetrievalFlickr8k]: iter 1433 Ep: 0.71 loss 0.034 score 0.988 lr 1.70022e-05 \n",
            "12/09/2024 03:10:54 - INFO - vilbert.utils -   [RetrievalFlickr8k]: iter 1453 Ep: 0.72 loss 0.037 score 0.984 lr 1.69289e-05 \n",
            "12/09/2024 03:11:39 - INFO - vilbert.utils -   [RetrievalFlickr8k]: iter 1473 Ep: 0.73 loss 0.020 score 0.988 lr 1.68555e-05 \n",
            "12/09/2024 03:12:24 - INFO - vilbert.utils -   [RetrievalFlickr8k]: iter 1493 Ep: 0.74 loss 0.031 score 0.988 lr 1.67822e-05 \n",
            "12/09/2024 03:13:09 - INFO - vilbert.utils -   [RetrievalFlickr8k]: iter 1513 Ep: 0.75 loss 0.031 score 0.991 lr 1.67088e-05 \n",
            "12/09/2024 03:13:53 - INFO - vilbert.utils -   [RetrievalFlickr8k]: iter 1533 Ep: 0.76 loss 0.013 score 0.997 lr 1.66355e-05 \n",
            "12/09/2024 03:14:38 - INFO - vilbert.utils -   [RetrievalFlickr8k]: iter 1553 Ep: 0.77 loss 0.007 score 0.997 lr 1.65622e-05 \n",
            "12/09/2024 03:15:22 - INFO - vilbert.utils -   [RetrievalFlickr8k]: iter 1573 Ep: 0.78 loss 0.041 score 0.991 lr 1.64888e-05 \n",
            "12/09/2024 03:16:07 - INFO - vilbert.utils -   [RetrievalFlickr8k]: iter 1593 Ep: 0.79 loss 0.078 score 0.972 lr 1.64155e-05 \n",
            "12/09/2024 03:16:52 - INFO - vilbert.utils -   [RetrievalFlickr8k]: iter 1613 Ep: 0.80 loss 0.043 score 0.988 lr 1.63421e-05 \n",
            "12/09/2024 03:17:37 - INFO - vilbert.utils -   [RetrievalFlickr8k]: iter 1633 Ep: 0.81 loss 0.023 score 0.988 lr 1.62688e-05 \n",
            "12/09/2024 03:18:22 - INFO - vilbert.utils -   [RetrievalFlickr8k]: iter 1653 Ep: 0.82 loss 0.041 score 0.988 lr 1.61955e-05 \n",
            "12/09/2024 03:19:06 - INFO - vilbert.utils -   [RetrievalFlickr8k]: iter 1673 Ep: 0.83 loss 0.048 score 0.984 lr 1.61221e-05 \n",
            "12/09/2024 03:19:51 - INFO - vilbert.utils -   [RetrievalFlickr8k]: iter 1693 Ep: 0.84 loss 0.019 score 0.997 lr 1.60488e-05 \n",
            "12/09/2024 03:20:36 - INFO - vilbert.utils -   [RetrievalFlickr8k]: iter 1713 Ep: 0.85 loss 0.014 score 0.994 lr 1.59754e-05 \n",
            "12/09/2024 03:21:20 - INFO - vilbert.utils -   [RetrievalFlickr8k]: iter 1733 Ep: 0.86 loss 0.022 score 0.994 lr 1.59021e-05 \n",
            "12/09/2024 03:22:05 - INFO - vilbert.utils -   [RetrievalFlickr8k]: iter 1753 Ep: 0.87 loss 0.006 score 0.997 lr 1.58287e-05 \n",
            "12/09/2024 03:22:50 - INFO - vilbert.utils -   [RetrievalFlickr8k]: iter 1773 Ep: 0.88 loss 0.069 score 0.981 lr 1.57554e-05 \n",
            "12/09/2024 03:23:34 - INFO - vilbert.utils -   [RetrievalFlickr8k]: iter 1793 Ep: 0.89 loss 0.022 score 0.994 lr 1.56821e-05 \n",
            "12/09/2024 03:24:19 - INFO - vilbert.utils -   [RetrievalFlickr8k]: iter 1813 Ep: 0.90 loss 0.014 score 0.994 lr 1.56087e-05 \n",
            "12/09/2024 03:24:30 - INFO - __main__ -   ** ** * Saving fine - tuned model ** ** * \n",
            "Epoch:  30% 3/10 [1:10:01<2:43:28, 1401.24s/it]12/09/2024 03:26:15 - INFO - vilbert.utils -   [RetrievalFlickr8k]: iter 1839 Ep: 0.91 loss 0.015 score 0.993 lr 1.55244e-05 \n",
            "12/09/2024 03:27:00 - INFO - vilbert.utils -   [RetrievalFlickr8k]: iter 1859 Ep: 0.92 loss 0.018 score 0.994 lr 1.544e-05 \n",
            "12/09/2024 03:27:44 - INFO - vilbert.utils -   [RetrievalFlickr8k]: iter 1879 Ep: 0.93 loss 0.047 score 0.981 lr 1.53667e-05 \n",
            "12/09/2024 03:28:29 - INFO - vilbert.utils -   [RetrievalFlickr8k]: iter 1899 Ep: 0.94 loss 0.040 score 0.981 lr 1.52934e-05 \n",
            "12/09/2024 03:29:13 - INFO - vilbert.utils -   [RetrievalFlickr8k]: iter 1919 Ep: 0.95 loss 0.016 score 0.997 lr 1.522e-05 \n",
            "12/09/2024 03:29:58 - INFO - vilbert.utils -   [RetrievalFlickr8k]: iter 1939 Ep: 0.96 loss 0.015 score 0.994 lr 1.51467e-05 \n",
            "12/09/2024 03:30:42 - INFO - vilbert.utils -   [RetrievalFlickr8k]: iter 1959 Ep: 0.97 loss 0.020 score 0.991 lr 1.50733e-05 \n",
            "12/09/2024 03:31:27 - INFO - vilbert.utils -   [RetrievalFlickr8k]: iter 1979 Ep: 0.98 loss 0.005 score 1.000 lr 1.5e-05 \n",
            "12/09/2024 03:32:11 - INFO - vilbert.utils -   [RetrievalFlickr8k]: iter 1999 Ep: 0.99 loss 0.013 score 0.997 lr 1.49267e-05 \n",
            "12/09/2024 03:32:56 - INFO - vilbert.utils -   [RetrievalFlickr8k]: iter 2019 Ep: 1.00 loss 0.015 score 0.994 lr 1.48533e-05 \n",
            "12/09/2024 03:39:37 - INFO - vilbert.utils -   Eval task TASK8 on iteration 2024 \n",
            "12/09/2024 03:39:37 - INFO - vilbert.utils -   Validation [RetrievalFlickr8k]: loss 0.018 score 99.284 \n",
            "12/09/2024 03:40:10 - INFO - vilbert.utils -   [RetrievalFlickr8k]: iter 2039 Ep: 1.01 loss 0.025 score 0.991 lr 1.478e-05 \n",
            "12/09/2024 03:40:56 - INFO - vilbert.utils -   [RetrievalFlickr8k]: iter 2059 Ep: 1.02 loss 0.010 score 0.997 lr 1.47066e-05 \n",
            "12/09/2024 03:41:41 - INFO - vilbert.utils -   [RetrievalFlickr8k]: iter 2079 Ep: 1.03 loss 0.018 score 0.994 lr 1.46333e-05 \n",
            "12/09/2024 03:42:27 - INFO - vilbert.utils -   [RetrievalFlickr8k]: iter 2099 Ep: 1.04 loss 0.013 score 0.997 lr 1.456e-05 \n",
            "12/09/2024 03:43:13 - INFO - vilbert.utils -   [RetrievalFlickr8k]: iter 2119 Ep: 1.05 loss 0.014 score 0.997 lr 1.44866e-05 \n",
            "12/09/2024 03:43:59 - INFO - vilbert.utils -   [RetrievalFlickr8k]: iter 2139 Ep: 1.06 loss 0.019 score 0.991 lr 1.44133e-05 \n",
            "12/09/2024 03:44:44 - INFO - vilbert.utils -   [RetrievalFlickr8k]: iter 2159 Ep: 1.07 loss 0.041 score 0.994 lr 1.43399e-05 \n",
            "12/09/2024 03:45:30 - INFO - vilbert.utils -   [RetrievalFlickr8k]: iter 2179 Ep: 1.08 loss 0.021 score 0.994 lr 1.42666e-05 \n",
            "12/09/2024 03:46:14 - INFO - vilbert.utils -   [RetrievalFlickr8k]: iter 2199 Ep: 1.09 loss 0.017 score 0.991 lr 1.41933e-05 \n",
            "12/09/2024 03:47:00 - INFO - vilbert.utils -   [RetrievalFlickr8k]: iter 2219 Ep: 1.10 loss 0.031 score 0.988 lr 1.41199e-05 \n",
            "12/09/2024 03:47:44 - INFO - vilbert.utils -   [RetrievalFlickr8k]: iter 2239 Ep: 1.11 loss 0.046 score 0.975 lr 1.40466e-05 \n",
            "12/09/2024 03:48:30 - INFO - vilbert.utils -   [RetrievalFlickr8k]: iter 2259 Ep: 1.12 loss 0.021 score 0.991 lr 1.39732e-05 \n",
            "12/09/2024 03:49:15 - INFO - vilbert.utils -   [RetrievalFlickr8k]: iter 2279 Ep: 1.13 loss 0.020 score 0.994 lr 1.38999e-05 \n",
            "12/09/2024 03:50:02 - INFO - vilbert.utils -   [RetrievalFlickr8k]: iter 2299 Ep: 1.14 loss 0.040 score 0.981 lr 1.38265e-05 \n",
            "12/09/2024 03:50:47 - INFO - vilbert.utils -   [RetrievalFlickr8k]: iter 2319 Ep: 1.15 loss 0.012 score 0.997 lr 1.37532e-05 \n",
            "12/09/2024 03:51:32 - INFO - vilbert.utils -   [RetrievalFlickr8k]: iter 2339 Ep: 1.16 loss 0.011 score 1.000 lr 1.36799e-05 \n",
            "12/09/2024 03:52:17 - INFO - vilbert.utils -   [RetrievalFlickr8k]: iter 2359 Ep: 1.17 loss 0.034 score 0.988 lr 1.36065e-05 \n",
            "12/09/2024 03:53:02 - INFO - vilbert.utils -   [RetrievalFlickr8k]: iter 2379 Ep: 1.18 loss 0.041 score 0.991 lr 1.35332e-05 \n",
            "12/09/2024 03:53:47 - INFO - vilbert.utils -   [RetrievalFlickr8k]: iter 2399 Ep: 1.19 loss 0.016 score 0.991 lr 1.34598e-05 \n",
            "12/09/2024 03:54:32 - INFO - vilbert.utils -   [RetrievalFlickr8k]: iter 2419 Ep: 1.20 loss 0.035 score 0.984 lr 1.33865e-05 \n",
            "12/09/2024 03:54:43 - INFO - __main__ -   ** ** * Saving fine - tuned model ** ** * \n",
            "Epoch:  40% 4/10 [1:39:47<2:31:39, 1516.56s/it]12/09/2024 03:56:01 - INFO - vilbert.utils -   [RetrievalFlickr8k]: iter 2445 Ep: 1.21 loss 0.015 score 0.993 lr 1.33022e-05 \n",
            "12/09/2024 03:56:45 - INFO - vilbert.utils -   [RetrievalFlickr8k]: iter 2465 Ep: 1.22 loss 0.003 score 1.000 lr 1.32178e-05 \n",
            "12/09/2024 03:57:30 - INFO - vilbert.utils -   [RetrievalFlickr8k]: iter 2485 Ep: 1.23 loss 0.015 score 0.994 lr 1.31445e-05 \n",
            "12/09/2024 03:58:14 - INFO - vilbert.utils -   [RetrievalFlickr8k]: iter 2505 Ep: 1.24 loss 0.019 score 0.988 lr 1.30711e-05 \n",
            "12/09/2024 03:58:59 - INFO - vilbert.utils -   [RetrievalFlickr8k]: iter 2525 Ep: 1.25 loss 0.044 score 0.991 lr 1.29978e-05 \n",
            "12/09/2024 03:59:45 - INFO - vilbert.utils -   [RetrievalFlickr8k]: iter 2545 Ep: 1.26 loss 0.017 score 0.991 lr 1.29245e-05 \n",
            "12/09/2024 04:00:30 - INFO - vilbert.utils -   [RetrievalFlickr8k]: iter 2565 Ep: 1.27 loss 0.034 score 0.981 lr 1.28511e-05 \n",
            "12/09/2024 04:01:14 - INFO - vilbert.utils -   [RetrievalFlickr8k]: iter 2585 Ep: 1.28 loss 0.023 score 0.991 lr 1.27778e-05 \n",
            "12/09/2024 04:01:59 - INFO - vilbert.utils -   [RetrievalFlickr8k]: iter 2605 Ep: 1.29 loss 0.037 score 0.991 lr 1.27044e-05 \n",
            "12/09/2024 04:02:43 - INFO - vilbert.utils -   [RetrievalFlickr8k]: iter 2625 Ep: 1.30 loss 0.017 score 0.991 lr 1.26311e-05 \n",
            "12/09/2024 04:03:28 - INFO - vilbert.utils -   [RetrievalFlickr8k]: iter 2645 Ep: 1.31 loss 0.032 score 0.994 lr 1.25578e-05 \n",
            "12/09/2024 04:04:13 - INFO - vilbert.utils -   [RetrievalFlickr8k]: iter 2665 Ep: 1.32 loss 0.021 score 0.991 lr 1.24844e-05 \n",
            "12/09/2024 04:04:58 - INFO - vilbert.utils -   [RetrievalFlickr8k]: iter 2685 Ep: 1.33 loss 0.042 score 0.988 lr 1.24111e-05 \n",
            "12/09/2024 04:05:43 - INFO - vilbert.utils -   [RetrievalFlickr8k]: iter 2705 Ep: 1.34 loss 0.010 score 0.997 lr 1.23377e-05 \n",
            "12/09/2024 04:06:28 - INFO - vilbert.utils -   [RetrievalFlickr8k]: iter 2725 Ep: 1.35 loss 0.034 score 0.988 lr 1.22644e-05 \n",
            "12/09/2024 04:07:13 - INFO - vilbert.utils -   [RetrievalFlickr8k]: iter 2745 Ep: 1.36 loss 0.022 score 0.994 lr 1.21911e-05 \n",
            "12/09/2024 04:07:58 - INFO - vilbert.utils -   [RetrievalFlickr8k]: iter 2765 Ep: 1.37 loss 0.013 score 0.991 lr 1.21177e-05 \n",
            "12/09/2024 04:08:43 - INFO - vilbert.utils -   [RetrievalFlickr8k]: iter 2785 Ep: 1.38 loss 0.034 score 0.994 lr 1.20444e-05 \n",
            "12/09/2024 04:09:28 - INFO - vilbert.utils -   [RetrievalFlickr8k]: iter 2805 Ep: 1.39 loss 0.033 score 0.988 lr 1.1971e-05 \n",
            "12/09/2024 04:10:13 - INFO - vilbert.utils -   [RetrievalFlickr8k]: iter 2825 Ep: 1.40 loss 0.015 score 0.994 lr 1.18977e-05 \n",
            "12/09/2024 04:10:58 - INFO - vilbert.utils -   [RetrievalFlickr8k]: iter 2845 Ep: 1.41 loss 0.025 score 0.991 lr 1.18243e-05 \n",
            "12/09/2024 04:11:43 - INFO - vilbert.utils -   [RetrievalFlickr8k]: iter 2865 Ep: 1.42 loss 0.019 score 0.991 lr 1.1751e-05 \n",
            "12/09/2024 04:12:28 - INFO - vilbert.utils -   [RetrievalFlickr8k]: iter 2885 Ep: 1.43 loss 0.007 score 0.997 lr 1.16777e-05 \n",
            "12/09/2024 04:13:13 - INFO - vilbert.utils -   [RetrievalFlickr8k]: iter 2905 Ep: 1.44 loss 0.032 score 0.988 lr 1.16043e-05 \n",
            "12/09/2024 04:13:57 - INFO - vilbert.utils -   [RetrievalFlickr8k]: iter 2925 Ep: 1.45 loss 0.015 score 0.997 lr 1.1531e-05 \n",
            "12/09/2024 04:14:43 - INFO - vilbert.utils -   [RetrievalFlickr8k]: iter 2945 Ep: 1.46 loss 0.025 score 0.991 lr 1.14576e-05 \n",
            "12/09/2024 04:15:27 - INFO - vilbert.utils -   [RetrievalFlickr8k]: iter 2965 Ep: 1.47 loss 0.011 score 0.994 lr 1.13843e-05 \n",
            "12/09/2024 04:16:12 - INFO - vilbert.utils -   [RetrievalFlickr8k]: iter 2985 Ep: 1.48 loss 0.009 score 0.994 lr 1.1311e-05 \n",
            "12/09/2024 04:16:57 - INFO - vilbert.utils -   [RetrievalFlickr8k]: iter 3005 Ep: 1.49 loss 0.024 score 0.991 lr 1.12376e-05 \n",
            "12/09/2024 04:17:42 - INFO - vilbert.utils -   [RetrievalFlickr8k]: iter 3025 Ep: 1.50 loss 0.022 score 0.991 lr 1.11643e-05 \n",
            "12/09/2024 04:17:53 - INFO - __main__ -   ** ** * Saving fine - tuned model ** ** * \n",
            "Epoch:  50% 5/10 [2:03:48<2:04:29, 1493.84s/it]12/09/2024 04:20:03 - INFO - vilbert.utils -   [RetrievalFlickr8k]: iter 3051 Ep: 1.51 loss 0.008 score 0.995 lr 1.10799e-05 \n",
            "12/09/2024 04:20:47 - INFO - vilbert.utils -   [RetrievalFlickr8k]: iter 3071 Ep: 1.52 loss 0.026 score 0.991 lr 1.09956e-05 \n",
            "12/09/2024 04:21:32 - INFO - vilbert.utils -   [RetrievalFlickr8k]: iter 3091 Ep: 1.53 loss 0.045 score 0.991 lr 1.09223e-05 \n",
            "12/09/2024 04:22:17 - INFO - vilbert.utils -   [RetrievalFlickr8k]: iter 3111 Ep: 1.54 loss 0.044 score 0.988 lr 1.08489e-05 \n",
            "12/09/2024 04:23:01 - INFO - vilbert.utils -   [RetrievalFlickr8k]: iter 3131 Ep: 1.55 loss 0.015 score 0.997 lr 1.07756e-05 \n",
            "12/09/2024 04:23:46 - INFO - vilbert.utils -   [RetrievalFlickr8k]: iter 3151 Ep: 1.56 loss 0.037 score 0.988 lr 1.07022e-05 \n",
            "12/09/2024 04:24:31 - INFO - vilbert.utils -   [RetrievalFlickr8k]: iter 3171 Ep: 1.57 loss 0.031 score 0.991 lr 1.06289e-05 \n",
            "12/09/2024 04:25:16 - INFO - vilbert.utils -   [RetrievalFlickr8k]: iter 3191 Ep: 1.58 loss 0.011 score 0.997 lr 1.05556e-05 \n",
            "12/09/2024 04:26:01 - INFO - vilbert.utils -   [RetrievalFlickr8k]: iter 3211 Ep: 1.59 loss 0.007 score 1.000 lr 1.04822e-05 \n",
            "12/09/2024 04:26:46 - INFO - vilbert.utils -   [RetrievalFlickr8k]: iter 3231 Ep: 1.60 loss 0.020 score 0.994 lr 1.04089e-05 \n",
            "12/09/2024 04:27:31 - INFO - vilbert.utils -   [RetrievalFlickr8k]: iter 3251 Ep: 1.61 loss 0.031 score 0.991 lr 1.03355e-05 \n",
            "12/09/2024 04:28:15 - INFO - vilbert.utils -   [RetrievalFlickr8k]: iter 3271 Ep: 1.62 loss 0.008 score 0.997 lr 1.02622e-05 \n",
            "12/09/2024 04:29:00 - INFO - vilbert.utils -   [RetrievalFlickr8k]: iter 3291 Ep: 1.63 loss 0.019 score 0.994 lr 1.01889e-05 \n",
            "12/09/2024 04:29:45 - INFO - vilbert.utils -   [RetrievalFlickr8k]: iter 3311 Ep: 1.64 loss 0.019 score 0.991 lr 1.01155e-05 \n",
            "12/09/2024 04:30:30 - INFO - vilbert.utils -   [RetrievalFlickr8k]: iter 3331 Ep: 1.65 loss 0.005 score 0.997 lr 1.00422e-05 \n",
            "12/09/2024 04:31:15 - INFO - vilbert.utils -   [RetrievalFlickr8k]: iter 3351 Ep: 1.66 loss 0.007 score 0.997 lr 9.96883e-06 \n",
            "12/09/2024 04:31:59 - INFO - vilbert.utils -   [RetrievalFlickr8k]: iter 3371 Ep: 1.67 loss 0.034 score 0.991 lr 9.89549e-06 \n",
            "12/09/2024 04:32:44 - INFO - vilbert.utils -   [RetrievalFlickr8k]: iter 3391 Ep: 1.68 loss 0.026 score 0.994 lr 9.82215e-06 \n",
            "12/09/2024 04:33:32 - INFO - vilbert.utils -   [RetrievalFlickr8k]: iter 3411 Ep: 1.69 loss 0.013 score 0.994 lr 9.74881e-06 \n",
            "12/09/2024 04:34:18 - INFO - vilbert.utils -   [RetrievalFlickr8k]: iter 3431 Ep: 1.70 loss 0.014 score 0.994 lr 9.67547e-06 \n",
            "12/09/2024 04:35:03 - INFO - vilbert.utils -   [RetrievalFlickr8k]: iter 3451 Ep: 1.71 loss 0.046 score 0.988 lr 9.60213e-06 \n",
            "12/09/2024 04:35:48 - INFO - vilbert.utils -   [RetrievalFlickr8k]: iter 3471 Ep: 1.72 loss 0.008 score 0.997 lr 9.52879e-06 \n",
            "12/09/2024 04:36:34 - INFO - vilbert.utils -   [RetrievalFlickr8k]: iter 3491 Ep: 1.73 loss 0.008 score 1.000 lr 9.45545e-06 \n",
            "12/09/2024 04:37:19 - INFO - vilbert.utils -   [RetrievalFlickr8k]: iter 3511 Ep: 1.74 loss 0.017 score 0.994 lr 9.3821e-06 \n",
            "12/09/2024 04:38:04 - INFO - vilbert.utils -   [RetrievalFlickr8k]: iter 3531 Ep: 1.75 loss 0.031 score 0.988 lr 9.30876e-06 \n",
            "12/09/2024 04:38:48 - INFO - vilbert.utils -   [RetrievalFlickr8k]: iter 3551 Ep: 1.76 loss 0.031 score 0.991 lr 9.23542e-06 \n",
            "12/09/2024 04:39:33 - INFO - vilbert.utils -   [RetrievalFlickr8k]: iter 3571 Ep: 1.77 loss 0.021 score 0.991 lr 9.16208e-06 \n",
            "12/09/2024 04:40:17 - INFO - vilbert.utils -   [RetrievalFlickr8k]: iter 3591 Ep: 1.78 loss 0.016 score 0.991 lr 9.08874e-06 \n",
            "12/09/2024 04:41:02 - INFO - vilbert.utils -   [RetrievalFlickr8k]: iter 3611 Ep: 1.78 loss 0.004 score 1.000 lr 9.0154e-06 \n",
            "12/09/2024 04:41:46 - INFO - vilbert.utils -   [RetrievalFlickr8k]: iter 3631 Ep: 1.79 loss 0.008 score 0.997 lr 8.94206e-06 \n",
            "12/09/2024 04:41:57 - INFO - __main__ -   ** ** * Saving fine - tuned model ** ** * \n",
            "Epoch:  60% 6/10 [2:27:32<1:38:12, 1473.04s/it]12/09/2024 04:43:50 - INFO - vilbert.utils -   [RetrievalFlickr8k]: iter 3657 Ep: 1.81 loss 0.012 score 0.995 lr 8.85772e-06 \n",
            "12/09/2024 04:44:35 - INFO - vilbert.utils -   [RetrievalFlickr8k]: iter 3677 Ep: 1.82 loss 0.015 score 0.997 lr 8.77338e-06 \n",
            "12/09/2024 04:45:20 - INFO - vilbert.utils -   [RetrievalFlickr8k]: iter 3697 Ep: 1.83 loss 0.031 score 0.991 lr 8.70004e-06 \n",
            "12/09/2024 04:46:05 - INFO - vilbert.utils -   [RetrievalFlickr8k]: iter 3717 Ep: 1.84 loss 0.018 score 0.994 lr 8.6267e-06 \n",
            "12/09/2024 04:46:49 - INFO - vilbert.utils -   [RetrievalFlickr8k]: iter 3737 Ep: 1.85 loss 0.009 score 1.000 lr 8.55336e-06 \n",
            "12/09/2024 04:47:34 - INFO - vilbert.utils -   [RetrievalFlickr8k]: iter 3757 Ep: 1.86 loss 0.032 score 0.994 lr 8.48001e-06 \n",
            "12/09/2024 04:48:19 - INFO - vilbert.utils -   [RetrievalFlickr8k]: iter 3777 Ep: 1.87 loss 0.016 score 0.994 lr 8.40667e-06 \n",
            "12/09/2024 04:49:04 - INFO - vilbert.utils -   [RetrievalFlickr8k]: iter 3797 Ep: 1.88 loss 0.010 score 0.997 lr 8.33333e-06 \n",
            "12/09/2024 04:49:50 - INFO - vilbert.utils -   [RetrievalFlickr8k]: iter 3817 Ep: 1.89 loss 0.006 score 1.000 lr 8.25999e-06 \n",
            "12/09/2024 04:50:34 - INFO - vilbert.utils -   [RetrievalFlickr8k]: iter 3837 Ep: 1.90 loss 0.019 score 0.994 lr 8.18665e-06 \n",
            "12/09/2024 04:51:19 - INFO - vilbert.utils -   [RetrievalFlickr8k]: iter 3857 Ep: 1.91 loss 0.005 score 0.997 lr 8.11331e-06 \n",
            "12/09/2024 04:52:04 - INFO - vilbert.utils -   [RetrievalFlickr8k]: iter 3877 Ep: 1.92 loss 0.022 score 0.994 lr 8.03997e-06 \n",
            "12/09/2024 04:52:49 - INFO - vilbert.utils -   [RetrievalFlickr8k]: iter 3897 Ep: 1.93 loss 0.033 score 0.984 lr 7.96663e-06 \n",
            "12/09/2024 04:53:33 - INFO - vilbert.utils -   [RetrievalFlickr8k]: iter 3917 Ep: 1.94 loss 0.015 score 0.997 lr 7.89329e-06 \n",
            "12/09/2024 04:54:18 - INFO - vilbert.utils -   [RetrievalFlickr8k]: iter 3937 Ep: 1.95 loss 0.057 score 0.978 lr 7.81995e-06 \n",
            "12/09/2024 04:55:03 - INFO - vilbert.utils -   [RetrievalFlickr8k]: iter 3957 Ep: 1.96 loss 0.024 score 0.988 lr 7.74661e-06 \n",
            "12/09/2024 04:55:47 - INFO - vilbert.utils -   [RetrievalFlickr8k]: iter 3977 Ep: 1.97 loss 0.011 score 1.000 lr 7.67327e-06 \n",
            "12/09/2024 04:56:32 - INFO - vilbert.utils -   [RetrievalFlickr8k]: iter 3997 Ep: 1.98 loss 0.020 score 0.991 lr 7.59993e-06 \n",
            "12/09/2024 04:57:17 - INFO - vilbert.utils -   [RetrievalFlickr8k]: iter 4017 Ep: 1.99 loss 0.028 score 0.991 lr 7.52659e-06 \n",
            "12/09/2024 04:58:02 - INFO - vilbert.utils -   [RetrievalFlickr8k]: iter 4037 Ep: 2.00 loss 0.025 score 0.988 lr 7.45325e-06 \n",
            "12/09/2024 05:04:50 - INFO - vilbert.utils -   Eval task TASK8 on iteration 4047 \n",
            "12/09/2024 05:04:50 - INFO - vilbert.utils -   Validation [RetrievalFlickr8k]: loss 0.018 score 99.333 \n",
            "12/09/2024 05:05:13 - INFO - vilbert.utils -   [RetrievalFlickr8k]: iter 4057 Ep: 2.01 loss 0.014 score 0.994 lr 7.3799e-06 \n",
            "12/09/2024 05:05:59 - INFO - vilbert.utils -   [RetrievalFlickr8k]: iter 4077 Ep: 2.02 loss 0.008 score 0.997 lr 7.30656e-06 \n",
            "12/09/2024 05:06:45 - INFO - vilbert.utils -   [RetrievalFlickr8k]: iter 4097 Ep: 2.03 loss 0.018 score 0.991 lr 7.23322e-06 \n",
            "12/09/2024 05:07:30 - INFO - vilbert.utils -   [RetrievalFlickr8k]: iter 4117 Ep: 2.04 loss 0.004 score 1.000 lr 7.15988e-06 \n",
            "12/09/2024 05:08:15 - INFO - vilbert.utils -   [RetrievalFlickr8k]: iter 4137 Ep: 2.04 loss 0.005 score 0.997 lr 7.08654e-06 \n",
            "12/09/2024 05:09:01 - INFO - vilbert.utils -   [RetrievalFlickr8k]: iter 4157 Ep: 2.05 loss 0.028 score 0.991 lr 7.0132e-06 \n",
            "12/09/2024 05:09:46 - INFO - vilbert.utils -   [RetrievalFlickr8k]: iter 4177 Ep: 2.06 loss 0.042 score 0.991 lr 6.93986e-06 \n",
            "12/09/2024 05:10:32 - INFO - vilbert.utils -   [RetrievalFlickr8k]: iter 4197 Ep: 2.07 loss 0.010 score 0.997 lr 6.86652e-06 \n",
            "12/09/2024 05:11:19 - INFO - vilbert.utils -   [RetrievalFlickr8k]: iter 4217 Ep: 2.08 loss 0.019 score 0.991 lr 6.79318e-06 \n",
            "12/09/2024 05:12:05 - INFO - vilbert.utils -   [RetrievalFlickr8k]: iter 4237 Ep: 2.09 loss 0.011 score 1.000 lr 6.71984e-06 \n",
            "12/09/2024 05:12:16 - INFO - __main__ -   ** ** * Saving fine - tuned model ** ** * \n",
            "Epoch:  70% 7/10 [2:58:00<1:18:58, 1579.35s/it]12/09/2024 05:14:14 - INFO - vilbert.utils -   [RetrievalFlickr8k]: iter 4263 Ep: 2.11 loss 0.014 score 0.995 lr 6.6355e-06 \n",
            "12/09/2024 05:14:57 - INFO - vilbert.utils -   [RetrievalFlickr8k]: iter 4283 Ep: 2.12 loss 0.019 score 0.994 lr 6.55116e-06 \n",
            "12/09/2024 05:15:42 - INFO - vilbert.utils -   [RetrievalFlickr8k]: iter 4303 Ep: 2.13 loss 0.014 score 0.994 lr 6.47781e-06 \n",
            "12/09/2024 05:16:27 - INFO - vilbert.utils -   [RetrievalFlickr8k]: iter 4323 Ep: 2.14 loss 0.005 score 0.997 lr 6.40447e-06 \n",
            "12/09/2024 05:17:12 - INFO - vilbert.utils -   [RetrievalFlickr8k]: iter 4343 Ep: 2.15 loss 0.009 score 0.997 lr 6.33113e-06 \n",
            "12/09/2024 05:17:58 - INFO - vilbert.utils -   [RetrievalFlickr8k]: iter 4363 Ep: 2.16 loss 0.017 score 0.997 lr 6.25779e-06 \n",
            "12/09/2024 05:18:44 - INFO - vilbert.utils -   [RetrievalFlickr8k]: iter 4383 Ep: 2.17 loss 0.008 score 0.997 lr 6.18445e-06 \n",
            "12/09/2024 05:19:29 - INFO - vilbert.utils -   [RetrievalFlickr8k]: iter 4403 Ep: 2.18 loss 0.007 score 0.997 lr 6.11111e-06 \n",
            "12/09/2024 05:20:14 - INFO - vilbert.utils -   [RetrievalFlickr8k]: iter 4423 Ep: 2.19 loss 0.016 score 0.994 lr 6.03777e-06 \n",
            "12/09/2024 05:21:01 - INFO - vilbert.utils -   [RetrievalFlickr8k]: iter 4443 Ep: 2.20 loss 0.010 score 0.997 lr 5.96443e-06 \n",
            "12/09/2024 05:21:46 - INFO - vilbert.utils -   [RetrievalFlickr8k]: iter 4463 Ep: 2.21 loss 0.006 score 0.997 lr 5.89109e-06 \n",
            "12/09/2024 05:22:32 - INFO - vilbert.utils -   [RetrievalFlickr8k]: iter 4483 Ep: 2.22 loss 0.020 score 0.994 lr 5.81775e-06 \n",
            "12/09/2024 05:23:17 - INFO - vilbert.utils -   [RetrievalFlickr8k]: iter 4503 Ep: 2.23 loss 0.008 score 0.994 lr 5.74441e-06 \n",
            "12/09/2024 05:24:02 - INFO - vilbert.utils -   [RetrievalFlickr8k]: iter 4523 Ep: 2.24 loss 0.007 score 0.997 lr 5.67107e-06 \n",
            "12/09/2024 05:24:48 - INFO - vilbert.utils -   [RetrievalFlickr8k]: iter 4543 Ep: 2.25 loss 0.021 score 0.991 lr 5.59773e-06 \n",
            "12/09/2024 05:25:33 - INFO - vilbert.utils -   [RetrievalFlickr8k]: iter 4563 Ep: 2.26 loss 0.009 score 1.000 lr 5.52439e-06 \n",
            "12/09/2024 05:26:18 - INFO - vilbert.utils -   [RetrievalFlickr8k]: iter 4583 Ep: 2.27 loss 0.018 score 0.991 lr 5.45105e-06 \n",
            "12/09/2024 05:27:03 - INFO - vilbert.utils -   [RetrievalFlickr8k]: iter 4603 Ep: 2.28 loss 0.015 score 0.997 lr 5.3777e-06 \n",
            "12/09/2024 05:27:48 - INFO - vilbert.utils -   [RetrievalFlickr8k]: iter 4623 Ep: 2.29 loss 0.014 score 0.997 lr 5.30436e-06 \n",
            "12/09/2024 05:28:34 - INFO - vilbert.utils -   [RetrievalFlickr8k]: iter 4643 Ep: 2.30 loss 0.007 score 0.997 lr 5.23102e-06 \n",
            "12/09/2024 05:29:19 - INFO - vilbert.utils -   [RetrievalFlickr8k]: iter 4663 Ep: 2.30 loss 0.017 score 0.994 lr 5.15768e-06 \n",
            "12/09/2024 05:30:03 - INFO - vilbert.utils -   [RetrievalFlickr8k]: iter 4683 Ep: 2.31 loss 0.014 score 0.994 lr 5.08434e-06 \n",
            "12/09/2024 05:30:48 - INFO - vilbert.utils -   [RetrievalFlickr8k]: iter 4703 Ep: 2.32 loss 0.010 score 0.997 lr 5.011e-06 \n",
            "12/09/2024 05:31:33 - INFO - vilbert.utils -   [RetrievalFlickr8k]: iter 4723 Ep: 2.33 loss 0.019 score 0.988 lr 4.93766e-06 \n",
            "12/09/2024 05:32:18 - INFO - vilbert.utils -   [RetrievalFlickr8k]: iter 4743 Ep: 2.34 loss 0.008 score 0.997 lr 4.86432e-06 \n",
            "12/09/2024 05:33:03 - INFO - vilbert.utils -   [RetrievalFlickr8k]: iter 4763 Ep: 2.35 loss 0.039 score 0.991 lr 4.79098e-06 \n",
            "12/09/2024 05:33:48 - INFO - vilbert.utils -   [RetrievalFlickr8k]: iter 4783 Ep: 2.36 loss 0.019 score 0.994 lr 4.71764e-06 \n",
            "12/09/2024 05:34:33 - INFO - vilbert.utils -   [RetrievalFlickr8k]: iter 4803 Ep: 2.37 loss 0.017 score 0.997 lr 4.6443e-06 \n",
            "12/09/2024 05:35:18 - INFO - vilbert.utils -   [RetrievalFlickr8k]: iter 4823 Ep: 2.38 loss 0.031 score 0.984 lr 4.57096e-06 \n",
            "12/09/2024 05:36:03 - INFO - vilbert.utils -   [RetrievalFlickr8k]: iter 4843 Ep: 2.39 loss 0.013 score 0.994 lr 4.49762e-06 \n",
            "12/09/2024 05:36:15 - INFO - __main__ -   ** ** * Saving fine - tuned model ** ** * \n",
            "Epoch:  80% 8/10 [3:21:44<51:05, 1532.95s/it]  12/09/2024 05:37:58 - INFO - vilbert.utils -   [RetrievalFlickr8k]: iter 4869 Ep: 2.41 loss 0.011 score 0.995 lr 4.41327e-06 \n",
            "12/09/2024 05:38:43 - INFO - vilbert.utils -   [RetrievalFlickr8k]: iter 4889 Ep: 2.42 loss 0.016 score 0.994 lr 4.32893e-06 \n",
            "12/09/2024 05:39:28 - INFO - vilbert.utils -   [RetrievalFlickr8k]: iter 4909 Ep: 2.43 loss 0.004 score 1.000 lr 4.25559e-06 \n",
            "12/09/2024 05:40:12 - INFO - vilbert.utils -   [RetrievalFlickr8k]: iter 4929 Ep: 2.44 loss 0.010 score 0.994 lr 4.18225e-06 \n",
            "12/09/2024 05:40:56 - INFO - vilbert.utils -   [RetrievalFlickr8k]: iter 4949 Ep: 2.45 loss 0.020 score 0.994 lr 4.10891e-06 \n",
            "12/09/2024 05:41:45 - INFO - vilbert.utils -   [RetrievalFlickr8k]: iter 4969 Ep: 2.46 loss 0.003 score 1.000 lr 4.03557e-06 \n",
            "12/09/2024 05:42:31 - INFO - vilbert.utils -   [RetrievalFlickr8k]: iter 4989 Ep: 2.47 loss 0.038 score 0.988 lr 3.96223e-06 \n",
            "12/09/2024 05:43:16 - INFO - vilbert.utils -   [RetrievalFlickr8k]: iter 5009 Ep: 2.48 loss 0.028 score 0.988 lr 3.88889e-06 \n",
            "12/09/2024 05:44:02 - INFO - vilbert.utils -   [RetrievalFlickr8k]: iter 5029 Ep: 2.49 loss 0.003 score 1.000 lr 3.81555e-06 \n",
            "12/09/2024 05:44:47 - INFO - vilbert.utils -   [RetrievalFlickr8k]: iter 5049 Ep: 2.50 loss 0.014 score 0.997 lr 3.74221e-06 \n",
            "12/09/2024 05:45:32 - INFO - vilbert.utils -   [RetrievalFlickr8k]: iter 5069 Ep: 2.51 loss 0.009 score 0.997 lr 3.66887e-06 \n",
            "12/09/2024 05:46:17 - INFO - vilbert.utils -   [RetrievalFlickr8k]: iter 5089 Ep: 2.52 loss 0.015 score 0.994 lr 3.59553e-06 \n",
            "12/09/2024 05:47:01 - INFO - vilbert.utils -   [RetrievalFlickr8k]: iter 5109 Ep: 2.53 loss 0.010 score 0.997 lr 3.52219e-06 \n",
            "12/09/2024 05:47:47 - INFO - vilbert.utils -   [RetrievalFlickr8k]: iter 5129 Ep: 2.54 loss 0.010 score 0.994 lr 3.44884e-06 \n",
            "12/09/2024 05:48:32 - INFO - vilbert.utils -   [RetrievalFlickr8k]: iter 5149 Ep: 2.55 loss 0.009 score 0.997 lr 3.3755e-06 \n",
            "12/09/2024 05:49:18 - INFO - vilbert.utils -   [RetrievalFlickr8k]: iter 5169 Ep: 2.56 loss 0.024 score 0.988 lr 3.30216e-06 \n",
            "12/09/2024 05:50:03 - INFO - vilbert.utils -   [RetrievalFlickr8k]: iter 5189 Ep: 2.57 loss 0.018 score 0.994 lr 3.22882e-06 \n",
            "12/09/2024 05:50:48 - INFO - vilbert.utils -   [RetrievalFlickr8k]: iter 5209 Ep: 2.57 loss 0.009 score 0.994 lr 3.15548e-06 \n",
            "12/09/2024 05:51:34 - INFO - vilbert.utils -   [RetrievalFlickr8k]: iter 5229 Ep: 2.58 loss 0.008 score 0.997 lr 3.08214e-06 \n",
            "12/09/2024 05:52:19 - INFO - vilbert.utils -   [RetrievalFlickr8k]: iter 5249 Ep: 2.59 loss 0.010 score 1.000 lr 3.0088e-06 \n",
            "12/09/2024 05:53:04 - INFO - vilbert.utils -   [RetrievalFlickr8k]: iter 5269 Ep: 2.60 loss 0.012 score 0.994 lr 2.93546e-06 \n",
            "12/09/2024 05:53:49 - INFO - vilbert.utils -   [RetrievalFlickr8k]: iter 5289 Ep: 2.61 loss 0.021 score 0.994 lr 2.86212e-06 \n",
            "12/09/2024 05:54:34 - INFO - vilbert.utils -   [RetrievalFlickr8k]: iter 5309 Ep: 2.62 loss 0.026 score 0.988 lr 2.78878e-06 \n",
            "12/09/2024 05:55:20 - INFO - vilbert.utils -   [RetrievalFlickr8k]: iter 5329 Ep: 2.63 loss 0.007 score 0.997 lr 2.71544e-06 \n",
            "12/09/2024 05:56:05 - INFO - vilbert.utils -   [RetrievalFlickr8k]: iter 5349 Ep: 2.64 loss 0.020 score 0.991 lr 2.6421e-06 \n",
            "12/09/2024 05:56:50 - INFO - vilbert.utils -   [RetrievalFlickr8k]: iter 5369 Ep: 2.65 loss 0.021 score 0.988 lr 2.56876e-06 \n",
            "12/09/2024 05:57:35 - INFO - vilbert.utils -   [RetrievalFlickr8k]: iter 5389 Ep: 2.66 loss 0.015 score 0.994 lr 2.49542e-06 \n",
            "12/09/2024 05:58:20 - INFO - vilbert.utils -   [RetrievalFlickr8k]: iter 5409 Ep: 2.67 loss 0.004 score 1.000 lr 2.42208e-06 \n",
            "12/09/2024 05:59:05 - INFO - vilbert.utils -   [RetrievalFlickr8k]: iter 5429 Ep: 2.68 loss 0.012 score 0.994 lr 2.34873e-06 \n",
            "12/09/2024 05:59:49 - INFO - vilbert.utils -   [RetrievalFlickr8k]: iter 5449 Ep: 2.69 loss 0.031 score 0.988 lr 2.27539e-06 \n",
            "12/09/2024 06:00:01 - INFO - __main__ -   ** ** * Saving fine - tuned model ** ** * \n",
            "Epoch:  90% 9/10 [3:45:18<24:57, 1497.05s/it]12/09/2024 06:01:35 - INFO - vilbert.utils -   [RetrievalFlickr8k]: iter 5475 Ep: 2.71 loss 0.014 score 0.995 lr 2.19105e-06 \n",
            "12/09/2024 06:02:19 - INFO - vilbert.utils -   [RetrievalFlickr8k]: iter 5495 Ep: 2.72 loss 0.005 score 1.000 lr 2.10671e-06 \n",
            "12/09/2024 06:03:06 - INFO - vilbert.utils -   [RetrievalFlickr8k]: iter 5515 Ep: 2.73 loss 0.003 score 1.000 lr 2.03337e-06 \n",
            "12/09/2024 06:03:51 - INFO - vilbert.utils -   [RetrievalFlickr8k]: iter 5535 Ep: 2.74 loss 0.018 score 0.991 lr 1.96003e-06 \n",
            "12/09/2024 06:04:37 - INFO - vilbert.utils -   [RetrievalFlickr8k]: iter 5555 Ep: 2.75 loss 0.011 score 0.994 lr 1.88669e-06 \n",
            "Traceback (most recent call last):\n",
            "  File \"train_tasks.py\", line 673, in <module>\n",
            "    main()\n",
            "  File \"train_tasks.py\", line 540, in main\n",
            "    loss.backward()\n",
            "  File \"/usr/local/envs/vilbert-mt/lib/python3.6/site-packages/torch/_tensor.py\", line 307, in backward\n",
            "    torch.autograd.backward(self, gradient, retain_graph, create_graph, inputs=inputs)\n",
            "  File \"/usr/local/envs/vilbert-mt/lib/python3.6/site-packages/torch/autograd/__init__.py\", line 156, in backward\n",
            "    allow_unreachable=True, accumulate_grad=True)  # allow_unreachable flag\n",
            "KeyboardInterrupt\n",
            "\n"
          ]
        }
      ]
    },
    {
      "cell_type": "code",
      "source": [
        "%cd /root/github/coco/PythonAPI/build/lib.linux-x86_64-3.6/pycocotools\n",
        "%ls"
      ],
      "metadata": {
        "colab": {
          "base_uri": "https://localhost:8080/"
        },
        "id": "han2rdP_IQOo",
        "outputId": "f05753a2-a3f0-4e26-821a-844f9116a459"
      },
      "execution_count": null,
      "outputs": [
        {
          "output_type": "stream",
          "name": "stdout",
          "text": [
            "/root/github/coco/PythonAPI/build/lib.linux-x86_64-3.6/pycocotools\n",
            "\u001b[0m\u001b[01;32m_mask.cpython-36m-x86_64-linux-gnu.so\u001b[0m*\n"
          ]
        }
      ]
    },
    {
      "cell_type": "code",
      "source": [
        "%cd ~/github/vilbert-multi-task/tools/refer/external\n",
        "%ls"
      ],
      "metadata": {
        "colab": {
          "base_uri": "https://localhost:8080/"
        },
        "id": "FX4UEZ-sIcJH",
        "outputId": "38665271-c165-4122-82af-a890dfdb4602"
      },
      "execution_count": null,
      "outputs": [
        {
          "output_type": "stream",
          "name": "stdout",
          "text": [
            "/root/github/vilbert-multi-task/tools/refer/external\n",
            "__init__.py  maskApi.h  \u001b[0m\u001b[01;32m_mask.cpython-36m-x86_64-linux-gnu.so\u001b[0m*  _mask.pyx\n",
            "maskApi.c    _mask.c    mask.py                                 README.md\n"
          ]
        }
      ]
    },
    {
      "cell_type": "code",
      "source": [],
      "metadata": {
        "id": "-AydApUqdYw5"
      },
      "execution_count": null,
      "outputs": []
    }
  ]
}